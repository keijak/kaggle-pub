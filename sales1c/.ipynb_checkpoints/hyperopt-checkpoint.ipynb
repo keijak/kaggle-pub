{
 "cells": [
  {
   "cell_type": "code",
   "execution_count": 1,
   "metadata": {},
   "outputs": [],
   "source": [
    "import math\n",
    "import os\n",
    "import re\n",
    "import itertools\n",
    "\n",
    "import numpy as np\n",
    "import pandas as pd\n",
    "import matplotlib.pyplot as plt\n",
    "import seaborn as sns\n",
    "\n",
    "import hyperopt\n",
    "from xgboost import XGBRegressor\n",
    "from lightgbm import LGBMRegressor\n",
    "from sklearn.ensemble import RandomForestRegressor\n",
    "from sklearn.metrics import mean_squared_error\n",
    "from sklearn.preprocessing import StandardScaler\n",
    "from sklearn.decomposition import PCA\n",
    "\n",
    "%matplotlib inline"
   ]
  },
  {
   "cell_type": "code",
   "execution_count": 4,
   "metadata": {},
   "outputs": [],
   "source": [
    "DATA_DIR = '/Users/keiji/work/kaggle/sales1c/'\n",
    "\n",
    "def read(file_name):\n",
    "    pickle = DATA_DIR + file_name + '.pickle'\n",
    "    if os.path.exists(pickle):\n",
    "        return pd.read_pickle(pickle)\n",
    "    df = pd.read_csv(DATA_DIR + file_name)\n",
    "    df.to_pickle(pickle)\n",
    "    return df\n",
    "\n",
    "df_icats = read('item_categories.csv')\n",
    "df_items = read('items.csv')\n",
    "df_shops = read('shops.csv')\n",
    "df_test = read('test.csv.gz')\n",
    "df_sales = read('sales_train.csv.gz')\n",
    "\n",
    "X_train = read('X_train')\n",
    "y_train = read('y_train')\n",
    "X_val = read('X_val')\n",
    "y_val = read('y_val')"
   ]
  },
  {
   "cell_type": "code",
   "execution_count": 7,
   "metadata": {},
   "outputs": [],
   "source": [
    "def clip(s):\n",
    "    return s.map(lambda x: max(0.0, min(20.0, x)))\n",
    "\n",
    "def rmse(x, y):\n",
    "    return math.sqrt(mean_squared_error(clip(x), clip(y)))"
   ]
  },
  {
   "cell_type": "markdown",
   "metadata": {},
   "source": [
    "# Hyperparameter tuning"
   ]
  },
  {
   "cell_type": "code",
   "execution_count": 8,
   "metadata": {},
   "outputs": [
    {
     "name": "stdout",
     "output_type": "stream",
     "text": [
      "RMSE #1: 0.925480: params={'num_leaves': 60, 'subsample': 0.7433111808365149, 'learning_rate': 0.21907777859246094, 'max_depth': 7, 'colsample_bytree': 0.7629884602449744, 'reg_lambda': 6.4721944579138935, 'min_data_in_leaf': 10}\n"
     ]
    },
    {
     "data": {
      "text/plain": [
       "{'colsample_bytree': 0.7337997721976569,\n",
       " 'learning_rate': 0.20632038461069757,\n",
       " 'max_depth': 10.0,\n",
       " 'min_data_in_leaf': 6.0,\n",
       " 'num_leaves': 180.0,\n",
       " 'reg_lambda': 7.643714160645771,\n",
       " 'subsample': 0.9483551739837238}"
      ]
     },
     "execution_count": 8,
     "metadata": {},
     "output_type": "execute_result"
    }
   ],
   "source": [
    "objective_cnt = 0\n",
    "min_rmse = 10\n",
    "def objective(params):\n",
    "    global min_rmse\n",
    "    global objective_cnt\n",
    "    objective_cnt += 1\n",
    "\n",
    "    params['num_leaves'] = int(params['num_leaves'])\n",
    "    params['max_depth'] = int(params['max_depth'])\n",
    "    params['min_data_in_leaf'] = int(params['min_data_in_leaf'])\n",
    "    \n",
    "    model = LGBMRegressor(random_state=42, n_jobs=-1, **params)\n",
    "    \n",
    "    model.fit(X_train, clip_train(y_train), early_stopping_rounds=200, eval_set=[(X_val, clip_train(y_val))], verbose=False)\n",
    "    y_pred = pd.Series(model.predict(X_val))\n",
    "    score = rmse(y_val, y_pred)\n",
    "    if score < min_rmse:\n",
    "        min_rmse = score\n",
    "        print(\"RMSE #{}: {:.6f}: params={}\".format(objective_cnt, score, params))\n",
    "    return -score\n",
    "\n",
    "space = {\n",
    "    'num_leaves': hyperopt.hp.quniform('num_leaves', 50, 200, 10),\n",
    "    'max_depth': hyperopt.hp.quniform('max_depth', 3, 10, 1),\n",
    "    'min_data_in_leaf': hyperopt.hp.quniform('min_data_in_leaf',  5, 25, 2),\n",
    "    'colsample_bytree': hyperopt.hp.uniform('colsample_bytree', 0.5, 1.0),\n",
    "    'learning_rate': hyperopt.hp.uniform('learning_rate', 0.03, 0.9),\n",
    "    'subsample': hyperopt.hp.uniform('subsample', 0.5, 1.0),\n",
    "    'reg_lambda': hyperopt.hp.uniform('reg_lambda', 0.0, 50.0),\n",
    "}\n",
    "\n",
    "best_params = hyperopt.fmin(\n",
    "    fn=objective,\n",
    "    space=space,\n",
    "    algo=hyperopt.tpe.suggest,\n",
    "    max_evals=2)\n",
    "best_params"
   ]
  }
 ],
 "metadata": {
  "kernelspec": {
   "display_name": "Python [conda env:anaconda]",
   "language": "python",
   "name": "conda-env-anaconda-py"
  },
  "language_info": {
   "codemirror_mode": {
    "name": "ipython",
    "version": 3
   },
   "file_extension": ".py",
   "mimetype": "text/x-python",
   "name": "python",
   "nbconvert_exporter": "python",
   "pygments_lexer": "ipython3",
   "version": "3.5.5"
  }
 },
 "nbformat": 4,
 "nbformat_minor": 2
}
