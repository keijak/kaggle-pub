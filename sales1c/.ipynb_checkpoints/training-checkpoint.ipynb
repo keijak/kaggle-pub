{
 "cells": [
  {
   "cell_type": "code",
   "execution_count": 1,
   "metadata": {},
   "outputs": [],
   "source": [
    "import math\n",
    "import os\n",
    "import re\n",
    "\n",
    "import numpy as np\n",
    "import pandas as pd\n",
    "import matplotlib.pyplot as plt\n",
    "%matplotlib inline\n",
    "import seaborn as sns\n",
    "\n",
    "from xgboost import XGBRegressor\n",
    "from lightgbm import LGBMRegressor\n",
    "from sklearn.ensemble import RandomForestRegressor\n",
    "from sklearn.metrics import mean_squared_error"
   ]
  },
  {
   "cell_type": "code",
   "execution_count": 2,
   "metadata": {},
   "outputs": [],
   "source": [
    "def read(file_name):\n",
    "    data_dir = '/Users/keiji/work/kaggle/sales1c/'\n",
    "    pickle = data_dir + file_name + '.pickle'\n",
    "    if os.path.exists(pickle):\n",
    "        return pd.read_pickle(pickle)\n",
    "    df = pd.read_csv(data_dir + file_name)\n",
    "    df.to_pickle(pickle)\n",
    "    return df\n",
    "\n",
    "df_icats = read('item_categories.csv')\n",
    "df_items = read('items.csv')\n",
    "df_shops = read('shops.csv')\n",
    "df_test = read('test.csv.gz')\n",
    "df_train_all = read('sales_train.csv.gz')"
   ]
  },
  {
   "cell_type": "code",
   "execution_count": 3,
   "metadata": {},
   "outputs": [],
   "source": [
    "# Split data into training and validation\n",
    "TARGET_DATE_BLOCK = 33\n",
    "df_day_train = df_train_all[df_train_all.date_block_num < TARGET_DATE_BLOCK]\n",
    "df_day_val = df_train_all[df_train_all.date_block_num == TARGET_DATE_BLOCK]"
   ]
  },
  {
   "cell_type": "code",
   "execution_count": 4,
   "metadata": {},
   "outputs": [
    {
     "data": {
      "text/html": [
       "<div>\n",
       "<style scoped>\n",
       "    .dataframe tbody tr th:only-of-type {\n",
       "        vertical-align: middle;\n",
       "    }\n",
       "\n",
       "    .dataframe tbody tr th {\n",
       "        vertical-align: top;\n",
       "    }\n",
       "\n",
       "    .dataframe thead th {\n",
       "        text-align: right;\n",
       "    }\n",
       "</style>\n",
       "<table border=\"1\" class=\"dataframe\">\n",
       "  <thead>\n",
       "    <tr style=\"text-align: right;\">\n",
       "      <th></th>\n",
       "      <th>date</th>\n",
       "      <th>date_block_num</th>\n",
       "      <th>shop_id</th>\n",
       "      <th>item_id</th>\n",
       "      <th>item_price</th>\n",
       "      <th>item_cnt_day</th>\n",
       "    </tr>\n",
       "  </thead>\n",
       "  <tbody>\n",
       "    <tr>\n",
       "      <th>2882330</th>\n",
       "      <td>27.09.2015</td>\n",
       "      <td>32</td>\n",
       "      <td>25</td>\n",
       "      <td>21022</td>\n",
       "      <td>1799.0</td>\n",
       "      <td>1.0</td>\n",
       "    </tr>\n",
       "    <tr>\n",
       "      <th>2882331</th>\n",
       "      <td>19.09.2015</td>\n",
       "      <td>32</td>\n",
       "      <td>25</td>\n",
       "      <td>21105</td>\n",
       "      <td>1799.0</td>\n",
       "      <td>1.0</td>\n",
       "    </tr>\n",
       "    <tr>\n",
       "      <th>2882332</th>\n",
       "      <td>30.09.2015</td>\n",
       "      <td>32</td>\n",
       "      <td>25</td>\n",
       "      <td>21088</td>\n",
       "      <td>1299.0</td>\n",
       "      <td>1.0</td>\n",
       "    </tr>\n",
       "    <tr>\n",
       "      <th>2882333</th>\n",
       "      <td>08.09.2015</td>\n",
       "      <td>32</td>\n",
       "      <td>25</td>\n",
       "      <td>20990</td>\n",
       "      <td>1299.0</td>\n",
       "      <td>1.0</td>\n",
       "    </tr>\n",
       "    <tr>\n",
       "      <th>2882334</th>\n",
       "      <td>25.09.2015</td>\n",
       "      <td>32</td>\n",
       "      <td>25</td>\n",
       "      <td>20303</td>\n",
       "      <td>399.0</td>\n",
       "      <td>1.0</td>\n",
       "    </tr>\n",
       "  </tbody>\n",
       "</table>\n",
       "</div>"
      ],
      "text/plain": [
       "               date  date_block_num  shop_id  item_id  item_price  \\\n",
       "2882330  27.09.2015              32       25    21022      1799.0   \n",
       "2882331  19.09.2015              32       25    21105      1799.0   \n",
       "2882332  30.09.2015              32       25    21088      1299.0   \n",
       "2882333  08.09.2015              32       25    20990      1299.0   \n",
       "2882334  25.09.2015              32       25    20303       399.0   \n",
       "\n",
       "         item_cnt_day  \n",
       "2882330           1.0  \n",
       "2882331           1.0  \n",
       "2882332           1.0  \n",
       "2882333           1.0  \n",
       "2882334           1.0  "
      ]
     },
     "execution_count": 4,
     "metadata": {},
     "output_type": "execute_result"
    }
   ],
   "source": [
    "df_day_train.tail()"
   ]
  },
  {
   "cell_type": "code",
   "execution_count": 5,
   "metadata": {},
   "outputs": [
    {
     "data": {
      "text/html": [
       "<div>\n",
       "<style scoped>\n",
       "    .dataframe tbody tr th:only-of-type {\n",
       "        vertical-align: middle;\n",
       "    }\n",
       "\n",
       "    .dataframe tbody tr th {\n",
       "        vertical-align: top;\n",
       "    }\n",
       "\n",
       "    .dataframe thead th {\n",
       "        text-align: right;\n",
       "    }\n",
       "</style>\n",
       "<table border=\"1\" class=\"dataframe\">\n",
       "  <thead>\n",
       "    <tr style=\"text-align: right;\">\n",
       "      <th></th>\n",
       "      <th>date</th>\n",
       "      <th>date_block_num</th>\n",
       "      <th>shop_id</th>\n",
       "      <th>item_id</th>\n",
       "      <th>item_price</th>\n",
       "      <th>item_cnt_day</th>\n",
       "    </tr>\n",
       "  </thead>\n",
       "  <tbody>\n",
       "    <tr>\n",
       "      <th>2882335</th>\n",
       "      <td>23.10.2015</td>\n",
       "      <td>33</td>\n",
       "      <td>45</td>\n",
       "      <td>13315</td>\n",
       "      <td>649.0</td>\n",
       "      <td>1.0</td>\n",
       "    </tr>\n",
       "    <tr>\n",
       "      <th>2882336</th>\n",
       "      <td>05.10.2015</td>\n",
       "      <td>33</td>\n",
       "      <td>45</td>\n",
       "      <td>13880</td>\n",
       "      <td>229.0</td>\n",
       "      <td>1.0</td>\n",
       "    </tr>\n",
       "    <tr>\n",
       "      <th>2882337</th>\n",
       "      <td>02.10.2015</td>\n",
       "      <td>33</td>\n",
       "      <td>45</td>\n",
       "      <td>13881</td>\n",
       "      <td>659.0</td>\n",
       "      <td>1.0</td>\n",
       "    </tr>\n",
       "    <tr>\n",
       "      <th>2882338</th>\n",
       "      <td>12.10.2015</td>\n",
       "      <td>33</td>\n",
       "      <td>45</td>\n",
       "      <td>13881</td>\n",
       "      <td>659.0</td>\n",
       "      <td>1.0</td>\n",
       "    </tr>\n",
       "    <tr>\n",
       "      <th>2882339</th>\n",
       "      <td>04.10.2015</td>\n",
       "      <td>33</td>\n",
       "      <td>45</td>\n",
       "      <td>13923</td>\n",
       "      <td>169.0</td>\n",
       "      <td>1.0</td>\n",
       "    </tr>\n",
       "  </tbody>\n",
       "</table>\n",
       "</div>"
      ],
      "text/plain": [
       "               date  date_block_num  shop_id  item_id  item_price  \\\n",
       "2882335  23.10.2015              33       45    13315       649.0   \n",
       "2882336  05.10.2015              33       45    13880       229.0   \n",
       "2882337  02.10.2015              33       45    13881       659.0   \n",
       "2882338  12.10.2015              33       45    13881       659.0   \n",
       "2882339  04.10.2015              33       45    13923       169.0   \n",
       "\n",
       "         item_cnt_day  \n",
       "2882335           1.0  \n",
       "2882336           1.0  \n",
       "2882337           1.0  \n",
       "2882338           1.0  \n",
       "2882339           1.0  "
      ]
     },
     "execution_count": 5,
     "metadata": {},
     "output_type": "execute_result"
    }
   ],
   "source": [
    "df_day_val.head()"
   ]
  },
  {
   "cell_type": "code",
   "execution_count": 6,
   "metadata": {
    "scrolled": true
   },
   "outputs": [
    {
     "data": {
      "text/html": [
       "<div>\n",
       "<style scoped>\n",
       "    .dataframe tbody tr th:only-of-type {\n",
       "        vertical-align: middle;\n",
       "    }\n",
       "\n",
       "    .dataframe tbody tr th {\n",
       "        vertical-align: top;\n",
       "    }\n",
       "\n",
       "    .dataframe thead th {\n",
       "        text-align: right;\n",
       "    }\n",
       "</style>\n",
       "<table border=\"1\" class=\"dataframe\">\n",
       "  <thead>\n",
       "    <tr style=\"text-align: right;\">\n",
       "      <th></th>\n",
       "      <th>shop_id</th>\n",
       "      <th>item_id</th>\n",
       "      <th>item_cnt_month</th>\n",
       "    </tr>\n",
       "  </thead>\n",
       "  <tbody>\n",
       "    <tr>\n",
       "      <th>0</th>\n",
       "      <td>2</td>\n",
       "      <td>30</td>\n",
       "      <td>0.0</td>\n",
       "    </tr>\n",
       "    <tr>\n",
       "      <th>1</th>\n",
       "      <td>2</td>\n",
       "      <td>31</td>\n",
       "      <td>1.0</td>\n",
       "    </tr>\n",
       "    <tr>\n",
       "      <th>2</th>\n",
       "      <td>2</td>\n",
       "      <td>32</td>\n",
       "      <td>0.0</td>\n",
       "    </tr>\n",
       "    <tr>\n",
       "      <th>3</th>\n",
       "      <td>2</td>\n",
       "      <td>33</td>\n",
       "      <td>0.0</td>\n",
       "    </tr>\n",
       "    <tr>\n",
       "      <th>4</th>\n",
       "      <td>2</td>\n",
       "      <td>38</td>\n",
       "      <td>0.0</td>\n",
       "    </tr>\n",
       "  </tbody>\n",
       "</table>\n",
       "</div>"
      ],
      "text/plain": [
       "   shop_id  item_id  item_cnt_month\n",
       "0        2       30             0.0\n",
       "1        2       31             1.0\n",
       "2        2       32             0.0\n",
       "3        2       33             0.0\n",
       "4        2       38             0.0"
      ]
     },
     "execution_count": 6,
     "metadata": {},
     "output_type": "execute_result"
    }
   ],
   "source": [
    "def make_monthly(df):\n",
    "    dfm = (\n",
    "        df.groupby(['shop_id', 'item_id'], as_index=False)\n",
    "        .item_cnt_day\n",
    "        .sum()\n",
    "        .rename(columns={'item_cnt_day': 'item_cnt_month'})\n",
    "    )\n",
    "    \n",
    "    # Add (shop,item) that show up in the test.\n",
    "    shopitem = df_test[['shop_id', 'item_id']]\n",
    "    dfm = dfm.merge(shopitem, on=['shop_id', 'item_id'], how='outer')\n",
    "    \n",
    "    dfm.item_cnt_month = (\n",
    "        dfm.item_cnt_month\n",
    "        .fillna(0.0)\n",
    "        .map(lambda x: min(20.0, max(0.0, x)))\n",
    "    )\n",
    "    dfm.sort_values(by=['shop_id', 'item_id'], inplace=True)\n",
    "    return dfm.reset_index(drop=True)\n",
    "\n",
    "df_month_val = make_monthly(df_day_val)\n",
    "df_month_val.head()"
   ]
  },
  {
   "cell_type": "code",
   "execution_count": 8,
   "metadata": {},
   "outputs": [],
   "source": [
    "def aggregate_by_month(df, date_block, col_name):\n",
    "    df = (\n",
    "        df[df.date_block_num == date_block]\n",
    "        .groupby(['shop_id', 'item_id'], as_index=False)\n",
    "        .item_cnt_day\n",
    "        .sum()\n",
    "        .rename(columns={'item_cnt_day': col_name})\n",
    "    )\n",
    "    return df"
   ]
  },
  {
   "cell_type": "code",
   "execution_count": 22,
   "metadata": {},
   "outputs": [
    {
     "data": {
      "text/html": [
       "<div>\n",
       "<style scoped>\n",
       "    .dataframe tbody tr th:only-of-type {\n",
       "        vertical-align: middle;\n",
       "    }\n",
       "\n",
       "    .dataframe tbody tr th {\n",
       "        vertical-align: top;\n",
       "    }\n",
       "\n",
       "    .dataframe thead th {\n",
       "        text-align: right;\n",
       "    }\n",
       "</style>\n",
       "<table border=\"1\" class=\"dataframe\">\n",
       "  <thead>\n",
       "    <tr style=\"text-align: right;\">\n",
       "      <th></th>\n",
       "      <th>shop_id</th>\n",
       "      <th>item_id</th>\n",
       "      <th>target</th>\n",
       "    </tr>\n",
       "  </thead>\n",
       "  <tbody>\n",
       "    <tr>\n",
       "      <th>0</th>\n",
       "      <td>2</td>\n",
       "      <td>32</td>\n",
       "      <td>1.0</td>\n",
       "    </tr>\n",
       "    <tr>\n",
       "      <th>1</th>\n",
       "      <td>2</td>\n",
       "      <td>70</td>\n",
       "      <td>1.0</td>\n",
       "    </tr>\n",
       "    <tr>\n",
       "      <th>2</th>\n",
       "      <td>2</td>\n",
       "      <td>482</td>\n",
       "      <td>1.0</td>\n",
       "    </tr>\n",
       "    <tr>\n",
       "      <th>3</th>\n",
       "      <td>2</td>\n",
       "      <td>792</td>\n",
       "      <td>2.0</td>\n",
       "    </tr>\n",
       "    <tr>\n",
       "      <th>4</th>\n",
       "      <td>2</td>\n",
       "      <td>806</td>\n",
       "      <td>1.0</td>\n",
       "    </tr>\n",
       "  </tbody>\n",
       "</table>\n",
       "</div>"
      ],
      "text/plain": [
       "   shop_id  item_id  target\n",
       "0        2       32     1.0\n",
       "1        2       70     1.0\n",
       "2        2      482     1.0\n",
       "3        2      792     2.0\n",
       "4        2      806     1.0"
      ]
     },
     "execution_count": 22,
     "metadata": {},
     "output_type": "execute_result"
    }
   ],
   "source": [
    "def make_label(df, label_month):\n",
    "    df = aggregate_by_month(df, label_month, 'target')\n",
    "    # TODO: Consider not clipping at all.\n",
    "    df.target = df.target.map(lambda x: min(50.0, max(-10.0, x)))\n",
    "    df.sort_values(by=['shop_id', 'item_id'], inplace=True)\n",
    "    df = df.reset_index(drop=True)\n",
    "    return df\n",
    "\n",
    "label = make_label(df_day_train, 31)\n",
    "label.head()"
   ]
  },
  {
   "cell_type": "code",
   "execution_count": 71,
   "metadata": {},
   "outputs": [
    {
     "name": "stdout",
     "output_type": "stream",
     "text": [
      "<class 'pandas.core.frame.DataFrame'>\n",
      "RangeIndex: 33486 entries, 0 to 33485\n",
      "Data columns (total 3 columns):\n",
      "prev1    33486 non-null float64\n",
      "prev2    33486 non-null float64\n",
      "prev3    33486 non-null float64\n",
      "dtypes: float64(3)\n",
      "memory usage: 784.9 KB\n"
     ]
    },
    {
     "data": {
      "text/html": [
       "<div>\n",
       "<style scoped>\n",
       "    .dataframe tbody tr th:only-of-type {\n",
       "        vertical-align: middle;\n",
       "    }\n",
       "\n",
       "    .dataframe tbody tr th {\n",
       "        vertical-align: top;\n",
       "    }\n",
       "\n",
       "    .dataframe thead th {\n",
       "        text-align: right;\n",
       "    }\n",
       "</style>\n",
       "<table border=\"1\" class=\"dataframe\">\n",
       "  <thead>\n",
       "    <tr style=\"text-align: right;\">\n",
       "      <th></th>\n",
       "      <th>prev1</th>\n",
       "      <th>prev2</th>\n",
       "      <th>prev3</th>\n",
       "    </tr>\n",
       "  </thead>\n",
       "  <tbody>\n",
       "    <tr>\n",
       "      <th>0</th>\n",
       "      <td>0.0</td>\n",
       "      <td>0.0</td>\n",
       "      <td>0.0</td>\n",
       "    </tr>\n",
       "    <tr>\n",
       "      <th>1</th>\n",
       "      <td>0.0</td>\n",
       "      <td>0.0</td>\n",
       "      <td>0.0</td>\n",
       "    </tr>\n",
       "    <tr>\n",
       "      <th>2</th>\n",
       "      <td>1.0</td>\n",
       "      <td>0.0</td>\n",
       "      <td>0.0</td>\n",
       "    </tr>\n",
       "    <tr>\n",
       "      <th>3</th>\n",
       "      <td>0.0</td>\n",
       "      <td>1.0</td>\n",
       "      <td>1.0</td>\n",
       "    </tr>\n",
       "    <tr>\n",
       "      <th>4</th>\n",
       "      <td>0.0</td>\n",
       "      <td>0.0</td>\n",
       "      <td>2.0</td>\n",
       "    </tr>\n",
       "  </tbody>\n",
       "</table>\n",
       "</div>"
      ],
      "text/plain": [
       "   prev1  prev2  prev3\n",
       "0    0.0    0.0    0.0\n",
       "1    0.0    0.0    0.0\n",
       "2    1.0    0.0    0.0\n",
       "3    0.0    1.0    1.0\n",
       "4    0.0    0.0    2.0"
      ]
     },
     "execution_count": 71,
     "metadata": {},
     "output_type": "execute_result"
    }
   ],
   "source": [
    "def make_features(df, label_month, df_target):\n",
    "    df_p1 = aggregate_by_month(df, label_month - 1, 'prev1')\n",
    "    df_p2 = aggregate_by_month(df, label_month - 2, 'prev2')\n",
    "    df_p3 = aggregate_by_month(df, label_month - 3, 'prev3')\n",
    "    \n",
    "    df_merged = (\n",
    "        df_target[['shop_id', 'item_id']]\n",
    "        .merge(df_p1, how='left', on=['shop_id', 'item_id'])\n",
    "        .merge(df_p2, how='left', on=['shop_id', 'item_id'])\n",
    "        .merge(df_p3, how='left', on=['shop_id', 'item_id'])\n",
    "    )\n",
    "\n",
    "    for col in ['prev1', 'prev2', 'prev3']:\n",
    "        df_merged[col].fillna(0.0, inplace=True)\n",
    "\n",
    "    df_merged.sort_values(by=['shop_id', 'item_id'], inplace=True)\n",
    "    df_merged = df_merged.reset_index(drop=True)\n",
    "    X = df_merged.drop(['shop_id', 'item_id'], axis=1)\n",
    "    return X\n",
    "\n",
    "X = make_features(df_day_train, 31, label)\n",
    "X.info()\n",
    "X.head()"
   ]
  },
  {
   "cell_type": "code",
   "execution_count": 56,
   "metadata": {},
   "outputs": [
    {
     "data": {
      "text/plain": [
       "0    1.0\n",
       "1    1.0\n",
       "2    1.0\n",
       "3    2.0\n",
       "4    1.0\n",
       "Name: target, dtype: float64"
      ]
     },
     "execution_count": 56,
     "metadata": {},
     "output_type": "execute_result"
    }
   ],
   "source": [
    "y = label.target\n",
    "y.head()"
   ]
  },
  {
   "cell_type": "code",
   "execution_count": 67,
   "metadata": {},
   "outputs": [
    {
     "data": {
      "text/plain": [
       "LGBMRegressor(boosting_type='gbdt', class_weight=None, colsample_bytree=1.0,\n",
       "       learning_rate=0.1, max_depth=-1, min_child_samples=20,\n",
       "       min_child_weight=0.001, min_split_gain=0.0, n_estimators=100,\n",
       "       n_jobs=-1, num_leaves=31, objective='regression', random_state=None,\n",
       "       reg_alpha=0.0, reg_lambda=0.0, silent=True, subsample=1.0,\n",
       "       subsample_for_bin=200000, subsample_freq=1)"
      ]
     },
     "execution_count": 67,
     "metadata": {},
     "output_type": "execute_result"
    }
   ],
   "source": [
    "reg = LGBMRegressor(\n",
    "    objective='regression'\n",
    ")\n",
    "reg.fit(X, y)"
   ]
  },
  {
   "cell_type": "code",
   "execution_count": 68,
   "metadata": {},
   "outputs": [
    {
     "name": "stdout",
     "output_type": "stream",
     "text": [
      "prev1 => 937\n",
      "prev2 => 1010\n",
      "prev3 => 1053\n"
     ]
    }
   ],
   "source": [
    "for k, v in zip(X.columns, reg.feature_importances_):\n",
    "    print('{} => {}'.format(k, v))"
   ]
  },
  {
   "cell_type": "code",
   "execution_count": 69,
   "metadata": {},
   "outputs": [
    {
     "data": {
      "text/plain": [
       "0    1.443326\n",
       "1    1.431655\n",
       "2    1.443326\n",
       "3    1.443326\n",
       "4    1.443326\n",
       "Name: item_cnt_month, dtype: float64"
      ]
     },
     "execution_count": 69,
     "metadata": {},
     "output_type": "execute_result"
    }
   ],
   "source": [
    "def predict(df, target_month, df_target):\n",
    "    X = make_features(df, target_month, df_target)\n",
    "    y_pred = pd.Series(reg.predict(X), name='item_cnt_month')\n",
    "    return y_pred.map(lambda x: min(20.0, max(0.0, x)))\n",
    "\n",
    "val_label = make_label(df_train_all, TARGET_DATE_BLOCK)\n",
    "y_val = val_label.target.map(lambda x: min(20.0, max(0.0, x)))\n",
    "df_month_pred = predict(df_train_all, TARGET_DATE_BLOCK, val_label)\n",
    "df_month_pred.head()"
   ]
  },
  {
   "cell_type": "code",
   "execution_count": 70,
   "metadata": {},
   "outputs": [
    {
     "data": {
      "text/plain": [
       "2.286696254249043"
      ]
     },
     "execution_count": 70,
     "metadata": {},
     "output_type": "execute_result"
    }
   ],
   "source": [
    "def rmse(x, y):\n",
    "    return math.sqrt(mean_squared_error(x, y))\n",
    "\n",
    "rmse(y_val, df_month_pred)"
   ]
  },
  {
   "cell_type": "code",
   "execution_count": null,
   "metadata": {},
   "outputs": [],
   "source": []
  },
  {
   "cell_type": "code",
   "execution_count": null,
   "metadata": {},
   "outputs": [],
   "source": []
  }
 ],
 "metadata": {
  "kernelspec": {
   "display_name": "Python [conda env:anaconda]",
   "language": "python",
   "name": "conda-env-anaconda-py"
  },
  "language_info": {
   "codemirror_mode": {
    "name": "ipython",
    "version": 3
   },
   "file_extension": ".py",
   "mimetype": "text/x-python",
   "name": "python",
   "nbconvert_exporter": "python",
   "pygments_lexer": "ipython3",
   "version": "3.5.5"
  }
 },
 "nbformat": 4,
 "nbformat_minor": 2
}
