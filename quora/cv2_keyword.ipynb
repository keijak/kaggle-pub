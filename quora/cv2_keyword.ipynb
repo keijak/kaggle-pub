{
 "cells": [
  {
   "cell_type": "code",
   "execution_count": 13,
   "metadata": {},
   "outputs": [],
   "source": [
    "from pathlib import Path\n",
    "\n",
    "import numpy as np\n",
    "import pandas as pd\n",
    "import lightgbm as lgb\n",
    "\n",
    "from sklearn import metrics\n",
    "from sklearn import model_selection"
   ]
  },
  {
   "cell_type": "code",
   "execution_count": 3,
   "metadata": {},
   "outputs": [
    {
     "data": {
      "text/plain": [
       "['/usr/local/google/home/maekawa/Desktop/kaggle/quora/.ipynb_checkpoints',\n",
       " '/usr/local/google/home/maekawa/Desktop/kaggle/quora/embeddings.zip',\n",
       " '/usr/local/google/home/maekawa/Desktop/kaggle/quora/train.csv.zip',\n",
       " '/usr/local/google/home/maekawa/Desktop/kaggle/quora/train_with_length.pickle',\n",
       " '/usr/local/google/home/maekawa/Desktop/kaggle/quora/test_with_keywords.pickle',\n",
       " '/usr/local/google/home/maekawa/Desktop/kaggle/quora/train_with_keywords.pickle',\n",
       " '/usr/local/google/home/maekawa/Desktop/kaggle/quora/sample_submission.csv.zip',\n",
       " '/usr/local/google/home/maekawa/Desktop/kaggle/quora/test.csv.zip',\n",
       " '/usr/local/google/home/maekawa/Desktop/kaggle/quora/sample_resubmissions.csv',\n",
       " '/usr/local/google/home/maekawa/Desktop/kaggle/quora/test_with_length.pickle']"
      ]
     },
     "execution_count": 3,
     "metadata": {},
     "output_type": "execute_result"
    }
   ],
   "source": [
    "data_dir = Path.home() / 'Desktop/kaggle/quora'\n",
    "\n",
    "[str(p) for p in data_dir.iterdir()]"
   ]
  },
  {
   "cell_type": "code",
   "execution_count": 4,
   "metadata": {},
   "outputs": [],
   "source": [
    "examples_with_length = pd.read_pickle(data_dir / 'train_with_length.pickle')\n",
    "examples_with_keywords = pd.read_pickle(data_dir / 'train_with_keywords.pickle')"
   ]
  },
  {
   "cell_type": "code",
   "execution_count": 5,
   "metadata": {},
   "outputs": [
    {
     "data": {
      "text/html": [
       "<div>\n",
       "<style scoped>\n",
       "    .dataframe tbody tr th:only-of-type {\n",
       "        vertical-align: middle;\n",
       "    }\n",
       "\n",
       "    .dataframe tbody tr th {\n",
       "        vertical-align: top;\n",
       "    }\n",
       "\n",
       "    .dataframe thead th {\n",
       "        text-align: right;\n",
       "    }\n",
       "</style>\n",
       "<table border=\"1\" class=\"dataframe\">\n",
       "  <thead>\n",
       "    <tr style=\"text-align: right;\">\n",
       "      <th></th>\n",
       "      <th>qid</th>\n",
       "      <th>target</th>\n",
       "      <th>question_chars</th>\n",
       "      <th>question_terms</th>\n",
       "    </tr>\n",
       "  </thead>\n",
       "  <tbody>\n",
       "    <tr>\n",
       "      <th>0</th>\n",
       "      <td>00002165364db923c7e6</td>\n",
       "      <td>0</td>\n",
       "      <td>72</td>\n",
       "      <td>13</td>\n",
       "    </tr>\n",
       "    <tr>\n",
       "      <th>1</th>\n",
       "      <td>000032939017120e6e44</td>\n",
       "      <td>0</td>\n",
       "      <td>81</td>\n",
       "      <td>16</td>\n",
       "    </tr>\n",
       "    <tr>\n",
       "      <th>2</th>\n",
       "      <td>0000412ca6e4628ce2cf</td>\n",
       "      <td>0</td>\n",
       "      <td>67</td>\n",
       "      <td>10</td>\n",
       "    </tr>\n",
       "    <tr>\n",
       "      <th>3</th>\n",
       "      <td>000042bf85aa498cd78e</td>\n",
       "      <td>0</td>\n",
       "      <td>57</td>\n",
       "      <td>9</td>\n",
       "    </tr>\n",
       "    <tr>\n",
       "      <th>4</th>\n",
       "      <td>0000455dfa3e01eae3af</td>\n",
       "      <td>0</td>\n",
       "      <td>77</td>\n",
       "      <td>15</td>\n",
       "    </tr>\n",
       "  </tbody>\n",
       "</table>\n",
       "</div>"
      ],
      "text/plain": [
       "                    qid  target  question_chars  question_terms\n",
       "0  00002165364db923c7e6       0              72              13\n",
       "1  000032939017120e6e44       0              81              16\n",
       "2  0000412ca6e4628ce2cf       0              67              10\n",
       "3  000042bf85aa498cd78e       0              57               9\n",
       "4  0000455dfa3e01eae3af       0              77              15"
      ]
     },
     "execution_count": 5,
     "metadata": {},
     "output_type": "execute_result"
    }
   ],
   "source": [
    "examples_with_length.head()"
   ]
  },
  {
   "cell_type": "code",
   "execution_count": 6,
   "metadata": {
    "scrolled": true
   },
   "outputs": [
    {
     "data": {
      "text/html": [
       "<div>\n",
       "<style scoped>\n",
       "    .dataframe tbody tr th:only-of-type {\n",
       "        vertical-align: middle;\n",
       "    }\n",
       "\n",
       "    .dataframe tbody tr th {\n",
       "        vertical-align: top;\n",
       "    }\n",
       "\n",
       "    .dataframe thead th {\n",
       "        text-align: right;\n",
       "    }\n",
       "</style>\n",
       "<table border=\"1\" class=\"dataframe\">\n",
       "  <thead>\n",
       "    <tr style=\"text-align: right;\">\n",
       "      <th></th>\n",
       "      <th>qid</th>\n",
       "      <th>target</th>\n",
       "      <th>keyword_kill</th>\n",
       "      <th>keyword_killed</th>\n",
       "      <th>keyword_killing</th>\n",
       "      <th>keyword_fuck</th>\n",
       "      <th>keyword_fucking</th>\n",
       "      <th>keyword_penis</th>\n",
       "      <th>keyword_skin</th>\n",
       "      <th>keyword_races</th>\n",
       "      <th>keyword_racism</th>\n",
       "      <th>keyword_racist</th>\n",
       "    </tr>\n",
       "  </thead>\n",
       "  <tbody>\n",
       "    <tr>\n",
       "      <th>0</th>\n",
       "      <td>00002165364db923c7e6</td>\n",
       "      <td>0</td>\n",
       "      <td>False</td>\n",
       "      <td>False</td>\n",
       "      <td>False</td>\n",
       "      <td>False</td>\n",
       "      <td>False</td>\n",
       "      <td>False</td>\n",
       "      <td>False</td>\n",
       "      <td>False</td>\n",
       "      <td>False</td>\n",
       "      <td>False</td>\n",
       "    </tr>\n",
       "    <tr>\n",
       "      <th>1</th>\n",
       "      <td>000032939017120e6e44</td>\n",
       "      <td>0</td>\n",
       "      <td>False</td>\n",
       "      <td>False</td>\n",
       "      <td>False</td>\n",
       "      <td>False</td>\n",
       "      <td>False</td>\n",
       "      <td>False</td>\n",
       "      <td>False</td>\n",
       "      <td>False</td>\n",
       "      <td>False</td>\n",
       "      <td>False</td>\n",
       "    </tr>\n",
       "    <tr>\n",
       "      <th>2</th>\n",
       "      <td>0000412ca6e4628ce2cf</td>\n",
       "      <td>0</td>\n",
       "      <td>False</td>\n",
       "      <td>False</td>\n",
       "      <td>False</td>\n",
       "      <td>False</td>\n",
       "      <td>False</td>\n",
       "      <td>False</td>\n",
       "      <td>False</td>\n",
       "      <td>False</td>\n",
       "      <td>False</td>\n",
       "      <td>False</td>\n",
       "    </tr>\n",
       "    <tr>\n",
       "      <th>3</th>\n",
       "      <td>000042bf85aa498cd78e</td>\n",
       "      <td>0</td>\n",
       "      <td>False</td>\n",
       "      <td>False</td>\n",
       "      <td>False</td>\n",
       "      <td>False</td>\n",
       "      <td>False</td>\n",
       "      <td>False</td>\n",
       "      <td>False</td>\n",
       "      <td>False</td>\n",
       "      <td>False</td>\n",
       "      <td>False</td>\n",
       "    </tr>\n",
       "    <tr>\n",
       "      <th>4</th>\n",
       "      <td>0000455dfa3e01eae3af</td>\n",
       "      <td>0</td>\n",
       "      <td>False</td>\n",
       "      <td>False</td>\n",
       "      <td>False</td>\n",
       "      <td>False</td>\n",
       "      <td>False</td>\n",
       "      <td>False</td>\n",
       "      <td>False</td>\n",
       "      <td>False</td>\n",
       "      <td>False</td>\n",
       "      <td>False</td>\n",
       "    </tr>\n",
       "  </tbody>\n",
       "</table>\n",
       "</div>"
      ],
      "text/plain": [
       "                    qid  target  keyword_kill  keyword_killed  \\\n",
       "0  00002165364db923c7e6       0         False           False   \n",
       "1  000032939017120e6e44       0         False           False   \n",
       "2  0000412ca6e4628ce2cf       0         False           False   \n",
       "3  000042bf85aa498cd78e       0         False           False   \n",
       "4  0000455dfa3e01eae3af       0         False           False   \n",
       "\n",
       "   keyword_killing  keyword_fuck  keyword_fucking  keyword_penis  \\\n",
       "0            False         False            False          False   \n",
       "1            False         False            False          False   \n",
       "2            False         False            False          False   \n",
       "3            False         False            False          False   \n",
       "4            False         False            False          False   \n",
       "\n",
       "   keyword_skin  keyword_races  keyword_racism  keyword_racist  \n",
       "0         False          False           False           False  \n",
       "1         False          False           False           False  \n",
       "2         False          False           False           False  \n",
       "3         False          False           False           False  \n",
       "4         False          False           False           False  "
      ]
     },
     "execution_count": 6,
     "metadata": {},
     "output_type": "execute_result"
    }
   ],
   "source": [
    "examples_with_keywords.head()"
   ]
  },
  {
   "cell_type": "code",
   "execution_count": 7,
   "metadata": {},
   "outputs": [],
   "source": [
    "examples_concat = pd.concat(\n",
    "    [examples_with_length.drop(columns=['qid', 'target']),\n",
    "     examples_with_keywords.drop(columns=['qid', 'target'])],\n",
    "    sort=False,\n",
    "    axis=1)"
   ]
  },
  {
   "cell_type": "code",
   "execution_count": 8,
   "metadata": {
    "scrolled": false
   },
   "outputs": [
    {
     "data": {
      "text/html": [
       "<div>\n",
       "<style scoped>\n",
       "    .dataframe tbody tr th:only-of-type {\n",
       "        vertical-align: middle;\n",
       "    }\n",
       "\n",
       "    .dataframe tbody tr th {\n",
       "        vertical-align: top;\n",
       "    }\n",
       "\n",
       "    .dataframe thead th {\n",
       "        text-align: right;\n",
       "    }\n",
       "</style>\n",
       "<table border=\"1\" class=\"dataframe\">\n",
       "  <thead>\n",
       "    <tr style=\"text-align: right;\">\n",
       "      <th></th>\n",
       "      <th>question_chars</th>\n",
       "      <th>question_terms</th>\n",
       "      <th>keyword_kill</th>\n",
       "      <th>keyword_killed</th>\n",
       "      <th>keyword_killing</th>\n",
       "      <th>keyword_fuck</th>\n",
       "      <th>keyword_fucking</th>\n",
       "      <th>keyword_penis</th>\n",
       "      <th>keyword_skin</th>\n",
       "      <th>keyword_races</th>\n",
       "      <th>keyword_racism</th>\n",
       "      <th>keyword_racist</th>\n",
       "    </tr>\n",
       "  </thead>\n",
       "  <tbody>\n",
       "    <tr>\n",
       "      <th>0</th>\n",
       "      <td>72</td>\n",
       "      <td>13</td>\n",
       "      <td>False</td>\n",
       "      <td>False</td>\n",
       "      <td>False</td>\n",
       "      <td>False</td>\n",
       "      <td>False</td>\n",
       "      <td>False</td>\n",
       "      <td>False</td>\n",
       "      <td>False</td>\n",
       "      <td>False</td>\n",
       "      <td>False</td>\n",
       "    </tr>\n",
       "    <tr>\n",
       "      <th>1</th>\n",
       "      <td>81</td>\n",
       "      <td>16</td>\n",
       "      <td>False</td>\n",
       "      <td>False</td>\n",
       "      <td>False</td>\n",
       "      <td>False</td>\n",
       "      <td>False</td>\n",
       "      <td>False</td>\n",
       "      <td>False</td>\n",
       "      <td>False</td>\n",
       "      <td>False</td>\n",
       "      <td>False</td>\n",
       "    </tr>\n",
       "    <tr>\n",
       "      <th>2</th>\n",
       "      <td>67</td>\n",
       "      <td>10</td>\n",
       "      <td>False</td>\n",
       "      <td>False</td>\n",
       "      <td>False</td>\n",
       "      <td>False</td>\n",
       "      <td>False</td>\n",
       "      <td>False</td>\n",
       "      <td>False</td>\n",
       "      <td>False</td>\n",
       "      <td>False</td>\n",
       "      <td>False</td>\n",
       "    </tr>\n",
       "    <tr>\n",
       "      <th>3</th>\n",
       "      <td>57</td>\n",
       "      <td>9</td>\n",
       "      <td>False</td>\n",
       "      <td>False</td>\n",
       "      <td>False</td>\n",
       "      <td>False</td>\n",
       "      <td>False</td>\n",
       "      <td>False</td>\n",
       "      <td>False</td>\n",
       "      <td>False</td>\n",
       "      <td>False</td>\n",
       "      <td>False</td>\n",
       "    </tr>\n",
       "    <tr>\n",
       "      <th>4</th>\n",
       "      <td>77</td>\n",
       "      <td>15</td>\n",
       "      <td>False</td>\n",
       "      <td>False</td>\n",
       "      <td>False</td>\n",
       "      <td>False</td>\n",
       "      <td>False</td>\n",
       "      <td>False</td>\n",
       "      <td>False</td>\n",
       "      <td>False</td>\n",
       "      <td>False</td>\n",
       "      <td>False</td>\n",
       "    </tr>\n",
       "  </tbody>\n",
       "</table>\n",
       "</div>"
      ],
      "text/plain": [
       "   question_chars  question_terms  keyword_kill  keyword_killed  \\\n",
       "0              72              13         False           False   \n",
       "1              81              16         False           False   \n",
       "2              67              10         False           False   \n",
       "3              57               9         False           False   \n",
       "4              77              15         False           False   \n",
       "\n",
       "   keyword_killing  keyword_fuck  keyword_fucking  keyword_penis  \\\n",
       "0            False         False            False          False   \n",
       "1            False         False            False          False   \n",
       "2            False         False            False          False   \n",
       "3            False         False            False          False   \n",
       "4            False         False            False          False   \n",
       "\n",
       "   keyword_skin  keyword_races  keyword_racism  keyword_racist  \n",
       "0         False          False           False           False  \n",
       "1         False          False           False           False  \n",
       "2         False          False           False           False  \n",
       "3         False          False           False           False  \n",
       "4         False          False           False           False  "
      ]
     },
     "execution_count": 8,
     "metadata": {},
     "output_type": "execute_result"
    }
   ],
   "source": [
    "examples_concat.head()"
   ]
  },
  {
   "cell_type": "code",
   "execution_count": 10,
   "metadata": {},
   "outputs": [],
   "source": [
    "X_all = examples_concat\n",
    "y_all = examples_with_length.target"
   ]
  },
  {
   "cell_type": "code",
   "execution_count": 27,
   "metadata": {},
   "outputs": [
    {
     "name": "stdout",
     "output_type": "stream",
     "text": [
      "Val F1 Score: 0.2465  at threshold 0.12\n",
      "Val F1 Score: 0.2456  at threshold 0.13\n",
      "Val F1 Score: 0.2443  at threshold 0.12\n",
      "Val F1 Score: 0.2474  at threshold 0.13\n",
      "Val F1 Score: 0.2473  at threshold 0.12\n"
     ]
    },
    {
     "data": {
      "text/plain": [
       "[0.24647659764857943,\n",
       " 0.24562648399334078,\n",
       " 0.2442601096133906,\n",
       " 0.24742875508892223,\n",
       " 0.24729101194217476]"
      ]
     },
     "execution_count": 27,
     "metadata": {},
     "output_type": "execute_result"
    }
   ],
   "source": [
    "train_params = {}\n",
    "\n",
    "train_meta = np.zeros(y_all.shape)\n",
    "\n",
    "DATA_SPLIT_SEED = 42\n",
    "\n",
    "splits = model_selection.StratifiedKFold(\n",
    "    n_splits=5, shuffle=True, random_state=DATA_SPLIT_SEED\n",
    ").split(X_all, y_all)\n",
    "\n",
    "cv_scores = []\n",
    "\n",
    "for idx, (train_idx, valid_idx) in enumerate(splits):\n",
    "    X_train = X_all.iloc[train_idx]\n",
    "    y_train = y_all.iloc[train_idx]\n",
    "    X_val = X_all.iloc[valid_idx]\n",
    "    y_val = y_all.iloc[valid_idx]\n",
    "\n",
    "    model = lgb.train(train_params, lgb.Dataset(X_train, y_train))\n",
    "    pred_val_y = model.predict(X_val)\n",
    "    \n",
    "    best_thresh = 0.5\n",
    "    best_score = 0.0\n",
    "    for thresh in np.arange(0.1, 0.501, 0.01):\n",
    "        thresh = np.round(thresh, 2)\n",
    "        score = metrics.f1_score(y_val, (pred_val_y > thresh).astype(int))\n",
    "        if score > best_score:\n",
    "            best_thresh = thresh\n",
    "            best_score = score\n",
    "\n",
    "    print(\"Val F1 Score: {:.4f}  at threshold {}\".format(best_score, best_thresh))\n",
    "    train_meta[valid_idx] = pred_val_y.reshape(-1)\n",
    "    cv_scores.append(best_score)\n",
    "\n",
    "cv_scores"
   ]
  },
  {
   "cell_type": "code",
   "execution_count": 40,
   "metadata": {},
   "outputs": [],
   "source": [
    "X_test = test_concat.drop(columns=['qid'])"
   ]
  },
  {
   "cell_type": "code",
   "execution_count": 42,
   "metadata": {},
   "outputs": [],
   "source": [
    "y_test_pred = pd.Series(model.predict(X_test))"
   ]
  },
  {
   "cell_type": "code",
   "execution_count": 43,
   "metadata": {},
   "outputs": [
    {
     "data": {
      "text/plain": [
       "0    0.074785\n",
       "1    0.032760\n",
       "2    0.032949\n",
       "3    0.127251\n",
       "4    0.035798\n",
       "dtype: float64"
      ]
     },
     "execution_count": 43,
     "metadata": {},
     "output_type": "execute_result"
    }
   ],
   "source": [
    "y_test_pred.head()"
   ]
  },
  {
   "cell_type": "code",
   "execution_count": 48,
   "metadata": {},
   "outputs": [
    {
     "data": {
      "text/plain": [
       "0.05749512151853823"
      ]
     },
     "execution_count": 48,
     "metadata": {},
     "output_type": "execute_result"
    }
   ],
   "source": [
    "prediction = (y_test_pred > 0.15).map(lambda x: 1 if x else 0)\n",
    "prediction.sum() / len(y_test_pred)"
   ]
  },
  {
   "cell_type": "code",
   "execution_count": 51,
   "metadata": {},
   "outputs": [
    {
     "data": {
      "text/html": [
       "<div>\n",
       "<style scoped>\n",
       "    .dataframe tbody tr th:only-of-type {\n",
       "        vertical-align: middle;\n",
       "    }\n",
       "\n",
       "    .dataframe tbody tr th {\n",
       "        vertical-align: top;\n",
       "    }\n",
       "\n",
       "    .dataframe thead th {\n",
       "        text-align: right;\n",
       "    }\n",
       "</style>\n",
       "<table border=\"1\" class=\"dataframe\">\n",
       "  <thead>\n",
       "    <tr style=\"text-align: right;\">\n",
       "      <th></th>\n",
       "      <th>qid</th>\n",
       "      <th>prediction</th>\n",
       "    </tr>\n",
       "  </thead>\n",
       "  <tbody>\n",
       "    <tr>\n",
       "      <th>0</th>\n",
       "      <td>00014894849d00ba98a9</td>\n",
       "      <td>0</td>\n",
       "    </tr>\n",
       "    <tr>\n",
       "      <th>1</th>\n",
       "      <td>000156468431f09b3cae</td>\n",
       "      <td>0</td>\n",
       "    </tr>\n",
       "    <tr>\n",
       "      <th>2</th>\n",
       "      <td>000227734433360e1aae</td>\n",
       "      <td>0</td>\n",
       "    </tr>\n",
       "    <tr>\n",
       "      <th>3</th>\n",
       "      <td>0005e06fbe3045bd2a92</td>\n",
       "      <td>0</td>\n",
       "    </tr>\n",
       "    <tr>\n",
       "      <th>4</th>\n",
       "      <td>00068a0f7f41f50fc399</td>\n",
       "      <td>0</td>\n",
       "    </tr>\n",
       "  </tbody>\n",
       "</table>\n",
       "</div>"
      ],
      "text/plain": [
       "                    qid  prediction\n",
       "0  00014894849d00ba98a9           0\n",
       "1  000156468431f09b3cae           0\n",
       "2  000227734433360e1aae           0\n",
       "3  0005e06fbe3045bd2a92           0\n",
       "4  00068a0f7f41f50fc399           0"
      ]
     },
     "execution_count": 51,
     "metadata": {},
     "output_type": "execute_result"
    }
   ],
   "source": [
    "answer = pd.DataFrame(test_concat.qid)\n",
    "answer = answer.assign(prediction=prediction)\n",
    "answer.head()"
   ]
  },
  {
   "cell_type": "code",
   "execution_count": null,
   "metadata": {},
   "outputs": [],
   "source": []
  }
 ],
 "metadata": {
  "kernelspec": {
   "display_name": "Python 3",
   "language": "python",
   "name": "python3"
  },
  "language_info": {
   "codemirror_mode": {
    "name": "ipython",
    "version": 3
   },
   "file_extension": ".py",
   "mimetype": "text/x-python",
   "name": "python",
   "nbconvert_exporter": "python",
   "pygments_lexer": "ipython3",
   "version": "3.6.7"
  }
 },
 "nbformat": 4,
 "nbformat_minor": 2
}
