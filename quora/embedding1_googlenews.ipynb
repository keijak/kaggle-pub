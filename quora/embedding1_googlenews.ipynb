{
 "cells": [
  {
   "cell_type": "markdown",
   "metadata": {},
   "source": [
    "https://www.kaggle.com/christofhenkel/how-to-preprocessing-when-using-embeddings"
   ]
  },
  {
   "cell_type": "code",
   "execution_count": 31,
   "metadata": {},
   "outputs": [],
   "source": [
    "from collections import Counter\n",
    "import gc\n",
    "from pathlib import Path\n",
    "import re\n",
    "\n",
    "import numpy as np\n",
    "import pandas as pd\n",
    "import gensim\n",
    "\n",
    "from tqdm import tqdm\n",
    "tqdm.pandas()"
   ]
  },
  {
   "cell_type": "code",
   "execution_count": 5,
   "metadata": {},
   "outputs": [
    {
     "name": "stdout",
     "output_type": "stream",
     "text": [
      "Train shape :  (1306122, 3)\n",
      "Test shape :  (56370, 2)\n"
     ]
    }
   ],
   "source": [
    "data_dir = Path.home() / 'Desktop/kaggle/data/quora'\n",
    "\n",
    "train_all = pd.read_csv(data_dir / 'train.csv.zip')\n",
    "test_all = pd.read_csv(data_dir / 'test.csv.zip')\n",
    "\n",
    "print(\"Train shape : \", train_all.shape)\n",
    "print(\"Test shape : \", test_all.shape)"
   ]
  },
  {
   "cell_type": "code",
   "execution_count": 6,
   "metadata": {},
   "outputs": [],
   "source": [
    "def build_vocab(sentences, verbose =  True):\n",
    "    \"\"\"\n",
    "    :param sentences: list of list of words\n",
    "    :return: dictionary of words and their count\n",
    "    \"\"\"\n",
    "    vocab = Counter()\n",
    "    for sentence in tqdm(sentences, disable = (not verbose)):\n",
    "        for word in sentence:\n",
    "            vocab[word] += 1\n",
    "    return vocab"
   ]
  },
  {
   "cell_type": "code",
   "execution_count": 7,
   "metadata": {},
   "outputs": [
    {
     "name": "stderr",
     "output_type": "stream",
     "text": [
      "100%|██████████| 1306122/1306122 [00:03<00:00, 369153.23it/s]\n",
      "100%|██████████| 1306122/1306122 [00:05<00:00, 237625.42it/s]\n"
     ]
    }
   ],
   "source": [
    "sentences = train_all[\"question_text\"].progress_apply(lambda x: x.split()).values\n",
    "vocab = build_vocab(sentences)"
   ]
  },
  {
   "cell_type": "code",
   "execution_count": 8,
   "metadata": {
    "scrolled": true
   },
   "outputs": [
    {
     "data": {
      "text/plain": [
       "[('the', 653948),\n",
       " ('What', 417802),\n",
       " ('to', 403183),\n",
       " ('a', 402682),\n",
       " ('in', 363131)]"
      ]
     },
     "execution_count": 8,
     "metadata": {},
     "output_type": "execute_result"
    }
   ],
   "source": [
    "vocab.most_common(5)"
   ]
  },
  {
   "cell_type": "code",
   "execution_count": 9,
   "metadata": {},
   "outputs": [],
   "source": [
    "news_path = data_dir / 'GoogleNews-vectors-negative300/GoogleNews-vectors-negative300.bin'\n",
    "embeddings_index = gensim.models.KeyedVectors.load_word2vec_format(news_path, binary=True)"
   ]
  },
  {
   "cell_type": "code",
   "execution_count": 17,
   "metadata": {},
   "outputs": [],
   "source": [
    "def check_coverage(vocab, embeddings_index):\n",
    "    covered_vocab = set()\n",
    "    oov = Counter()\n",
    "    covered_count = 0\n",
    "    all_count = 0\n",
    "    for word, count in tqdm(vocab.items()):\n",
    "        all_count += count\n",
    "        if word in embeddings_index:\n",
    "            covered_vocab.add(word)\n",
    "            covered_count += count\n",
    "        else:\n",
    "            oov[word] = count\n",
    "\n",
    "    print('Found embeddings for {:.2%} of vocab'.format(len(covered_vocab) / len(vocab)))\n",
    "    print('Found embeddings for  {:.2%} of all words'.format(covered_count / all_count))\n",
    "    return oov"
   ]
  },
  {
   "cell_type": "code",
   "execution_count": 18,
   "metadata": {},
   "outputs": [
    {
     "name": "stderr",
     "output_type": "stream",
     "text": [
      "100%|██████████| 508823/508823 [00:00<00:00, 915609.84it/s]"
     ]
    },
    {
     "name": "stdout",
     "output_type": "stream",
     "text": [
      "Found embeddings for 24.31% of vocab\n",
      "Found embeddings for  78.75% of all text\n"
     ]
    },
    {
     "name": "stderr",
     "output_type": "stream",
     "text": [
      "\n"
     ]
    }
   ],
   "source": [
    "oov = check_coverage(vocab, embeddings_index)"
   ]
  },
  {
   "cell_type": "code",
   "execution_count": 51,
   "metadata": {},
   "outputs": [
    {
     "name": "stdout",
     "output_type": "stream",
     "text": [
      "#\n",
      "_\n",
      "@\n",
      "`\n",
      ">\n",
      "~\n",
      "*\n",
      "^\n",
      "$\n",
      "+\n",
      "%\n",
      "&\n",
      "=\n"
     ]
    }
   ],
   "source": [
    "def is_ascii(s):\n",
    "    return all(ord(c) < 128 for c in s)\n",
    "\n",
    "cnt = 0\n",
    "for word in embeddings_index.vocab:\n",
    "    if len(word) != 1:\n",
    "        continue\n",
    "    if not is_ascii(word):\n",
    "        continue\n",
    "    if not re.fullmatch(r'[^a-zA-Z0-9]', word):\n",
    "        continue\n",
    "    print(word)\n",
    "    cnt += 1\n",
    "    if cnt > 100:\n",
    "        break        "
   ]
  },
  {
   "cell_type": "code",
   "execution_count": 32,
   "metadata": {},
   "outputs": [],
   "source": [
    "cnt = 0\n",
    "for k, v in sorted(oov.items(), key=lambda x: -x[1]):\n",
    "    if re.fullmatch(r'[a-zA-Z]+[.,?]?', k):\n",
    "        continue\n",
    "    print('{} => {}'.format(k, v))\n",
    "    cnt += 1\n",
    "    if cnt > 20:\n",
    "        break"
   ]
  },
  {
   "cell_type": "code",
   "execution_count": 37,
   "metadata": {},
   "outputs": [
    {
     "name": "stdout",
     "output_type": "stream",
     "text": [
      "10 => 4591\n",
      "2017? => 4050\n",
      "2018? => 3594\n",
      "2017 => 3170\n",
      "2018 => 2768\n",
      "- => 2559\n",
      "I’m => 2506\n",
      "12 => 2448\n",
      "\"The => 2239\n",
      "don’t => 2089\n",
      "12th => 1926\n",
      "20 => 1760\n",
      "What’s => 1688\n",
      "15 => 1569\n",
      "Trump's => 1560\n",
      "100 => 1490\n",
      "? => 1384\n",
      "/ => 1340\n",
      "30 => 1286\n",
      "(or => 1129\n",
      "11 => 1127\n"
     ]
    }
   ],
   "source": [
    "cnt = 0\n",
    "for k, v in sorted(oov.items(), key=lambda x: -x[1]):\n",
    "    if re.fullmatch(r'[a-zA-Z]+[.,?]?', k):\n",
    "        continue\n",
    "    print('{} => {}'.format(k, v))\n",
    "    cnt += 1\n",
    "    if cnt > 20:\n",
    "        break"
   ]
  },
  {
   "cell_type": "code",
   "execution_count": 19,
   "metadata": {},
   "outputs": [
    {
     "data": {
      "text/plain": [
       "[('to', 403183),\n",
       " ('a', 402682),\n",
       " ('of', 330825),\n",
       " ('and', 251973),\n",
       " ('India?', 16384),\n",
       " ('it?', 12900),\n",
       " ('do?', 8753),\n",
       " ('life?', 7753),\n",
       " ('you?', 6295),\n",
       " ('me?', 6202)]"
      ]
     },
     "execution_count": 19,
     "metadata": {},
     "output_type": "execute_result"
    }
   ],
   "source": [
    "oov.most_common(10)"
   ]
  },
  {
   "cell_type": "code",
   "execution_count": 20,
   "metadata": {},
   "outputs": [
    {
     "data": {
      "text/plain": [
       "1405"
      ]
     },
     "execution_count": 20,
     "metadata": {},
     "output_type": "execute_result"
    }
   ],
   "source": [
    "gc.collect()"
   ]
  },
  {
   "cell_type": "code",
   "execution_count": null,
   "metadata": {},
   "outputs": [],
   "source": [
    "def split2(text):\n",
    "    return text.split()"
   ]
  },
  {
   "cell_type": "code",
   "execution_count": null,
   "metadata": {},
   "outputs": [],
   "source": [
    "sentences = train_all.question_text.progress_apply(split2).values\n",
    "vocab = build_vocab(sentences)"
   ]
  }
 ],
 "metadata": {
  "kernelspec": {
   "display_name": "Python 3",
   "language": "python",
   "name": "python3"
  },
  "language_info": {
   "codemirror_mode": {
    "name": "ipython",
    "version": 3
   },
   "file_extension": ".py",
   "mimetype": "text/x-python",
   "name": "python",
   "nbconvert_exporter": "python",
   "pygments_lexer": "ipython3",
   "version": "3.5.4rc1"
  }
 },
 "nbformat": 4,
 "nbformat_minor": 2
}
