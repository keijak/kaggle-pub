{
 "cells": [
  {
   "cell_type": "markdown",
   "metadata": {},
   "source": [
    "https://www.kaggle.com/christofhenkel/how-to-preprocessing-when-using-embeddings"
   ]
  },
  {
   "cell_type": "code",
   "execution_count": 1,
   "metadata": {},
   "outputs": [],
   "source": [
    "from collections import Counter\n",
    "import gc\n",
    "from pathlib import Path\n",
    "import re\n",
    "import time\n",
    "\n",
    "import numpy as np\n",
    "import pandas as pd\n",
    "import gensim\n",
    "\n",
    "from tqdm import tqdm\n",
    "tqdm.pandas()"
   ]
  },
  {
   "cell_type": "code",
   "execution_count": 2,
   "metadata": {},
   "outputs": [
    {
     "name": "stdout",
     "output_type": "stream",
     "text": [
      "Train shape :  (1306122, 3)\n",
      "Test shape :  (56370, 2)\n"
     ]
    }
   ],
   "source": [
    "data_dir = Path.home() / 'Desktop/kaggle/data/quora'\n",
    "\n",
    "train_all = pd.read_csv(data_dir / 'train.csv.zip')\n",
    "test_all = pd.read_csv(data_dir / 'test.csv.zip')\n",
    "\n",
    "print(\"Train shape : \", train_all.shape)\n",
    "print(\"Test shape : \", test_all.shape)"
   ]
  },
  {
   "cell_type": "code",
   "execution_count": 3,
   "metadata": {},
   "outputs": [],
   "source": [
    "def build_vocab(sentences, verbose =  True):\n",
    "    \"\"\"\n",
    "    :param sentences: list of list of words\n",
    "    :return: dictionary of words and their count\n",
    "    \"\"\"\n",
    "    vocab = Counter()\n",
    "    for sentence in tqdm(sentences, disable = (not verbose)):\n",
    "        for word in sentence:\n",
    "            vocab[word] += 1\n",
    "    return vocab"
   ]
  },
  {
   "cell_type": "code",
   "execution_count": 4,
   "metadata": {},
   "outputs": [
    {
     "name": "stderr",
     "output_type": "stream",
     "text": [
      "100%|██████████| 1306122/1306122 [00:03<00:00, 353251.12it/s]\n",
      "100%|██████████| 1306122/1306122 [00:06<00:00, 208512.89it/s]\n"
     ]
    }
   ],
   "source": [
    "sentences = train_all[\"question_text\"].progress_apply(lambda x: x.split()).values\n",
    "vocab1 = build_vocab(sentences)"
   ]
  },
  {
   "cell_type": "code",
   "execution_count": 5,
   "metadata": {
    "scrolled": true
   },
   "outputs": [
    {
     "data": {
      "text/plain": [
       "[('the', 653948),\n",
       " ('What', 417802),\n",
       " ('to', 403183),\n",
       " ('a', 402682),\n",
       " ('in', 363131)]"
      ]
     },
     "execution_count": 5,
     "metadata": {},
     "output_type": "execute_result"
    }
   ],
   "source": [
    "vocab1.most_common(5)"
   ]
  },
  {
   "cell_type": "code",
   "execution_count": 7,
   "metadata": {},
   "outputs": [],
   "source": [
    "news_path = data_dir / 'GoogleNews-vectors-negative300/GoogleNews-vectors-negative300.bin'\n",
    "embeddings_index = gensim.models.KeyedVectors.load_word2vec_format(news_path, binary=True)"
   ]
  },
  {
   "cell_type": "code",
   "execution_count": null,
   "metadata": {},
   "outputs": [],
   "source": [
    "def check_coverage(vocab, embeddings_index):\n",
    "    covered_vocab = set()\n",
    "    oov = Counter()\n",
    "    covered_count = 0\n",
    "    all_count = 0\n",
    "    for word, count in tqdm(vocab.items()):\n",
    "        all_count += count\n",
    "        if word in embeddings_index:\n",
    "            covered_vocab.add(word)\n",
    "            covered_count += count\n",
    "        else:\n",
    "            oov[word] = count\n",
    "\n",
    "    print('Found embeddings for {:.2%} of vocab'.format(len(covered_vocab) / len(vocab)))\n",
    "    print('Found embeddings for  {:.2%} of all words'.format(covered_count / all_count))\n",
    "    return oov"
   ]
  },
  {
   "cell_type": "code",
   "execution_count": null,
   "metadata": {},
   "outputs": [],
   "source": [
    "oov = check_coverage(vocab1, embeddings_index)"
   ]
  },
  {
   "cell_type": "code",
   "execution_count": null,
   "metadata": {},
   "outputs": [],
   "source": [
    "def is_ascii(s):\n",
    "    return all(ord(c) < 128 for c in s)\n",
    "\n",
    "cnt = 0\n",
    "for word in embeddings_index.vocab:\n",
    "    if len(word) not in [1]:\n",
    "        continue\n",
    "    if '#' in word:\n",
    "        continue\n",
    "    if not is_ascii(word):\n",
    "        continue\n",
    "    if not re.fullmatch(r'[^a-zA-Z0-9]+', word):\n",
    "        continue\n",
    "    print(word, end=' ')\n",
    "    cnt += 1\n",
    "    if cnt > 100:\n",
    "        break        "
   ]
  },
  {
   "cell_type": "code",
   "execution_count": null,
   "metadata": {
    "scrolled": false
   },
   "outputs": [],
   "source": [
    "punct_covered = re.compile(r'(^|\\b|\\s)([#=+*%_`>^~@$&])($|\\b|\\s)')\n",
    "\n",
    "for s in ['a+b', 'aa+bb+c', 'a++b']:\n",
    "    print(punct_covered.sub(lambda m: ' {} '.format(m.group(2)), s))"
   ]
  },
  {
   "cell_type": "code",
   "execution_count": null,
   "metadata": {},
   "outputs": [],
   "source": [
    "punct_unknown = re.compile(r'(^|\\b|\\s)[?!.,:;\"\\'/|(){}\\[\\]\\\\-]($|\\b|\\s)')\n",
    "\n",
    "for s in ['{b}', 'a\\\\b', 'a[b]c(d)e!', '\"The\"', 'it, ']:\n",
    "    print(punct_unknown.sub(' ^ ', s))"
   ]
  },
  {
   "cell_type": "code",
   "execution_count": null,
   "metadata": {},
   "outputs": [],
   "source": [
    "punct_numbers = re.compile(r'([0-9]{2,})')\n",
    "\n",
    "for s in ['1', '11', '111', '1111']:\n",
    "    print(punct_numbers.sub(lambda m: '#' * len(m.group(1)), s))"
   ]
  },
  {
   "cell_type": "code",
   "execution_count": null,
   "metadata": {},
   "outputs": [],
   "source": [
    "rewrite_dict = {\n",
    "    \"What's\": 'What is',\n",
    "    \"I'm\": 'I am',\n",
    "    \"Shouldn't\": 'Should not',\n",
    "    \"Wouldn't\": 'Would not',\n",
    "    \"Couldn't\": 'Could not',\n",
    "    \"Wasn't\": 'Was not',\n",
    "    \"Aren't\": 'Are not',\n",
    "    \"don't\": 'do not',\n",
    "    \"can't\": 'cannot',\n",
    "    'colour':'color',\n",
    "    'centre':'center',\n",
    "    'didnt':'did not',\n",
    "    \"didn't\": 'did not',\n",
    "    'doesnt':'does not',\n",
    "    \"doesn't\": 'does not',\n",
    "    'isnt':'is not',\n",
    "    \"isn't\": 'is not',\n",
    "    'shouldnt':'should not',\n",
    "    \"shouldn't\": 'should not',\n",
    "    'behaviour': 'behavior',\n",
    "    'favourite':'favorite',\n",
    "    'travelling':'traveling',\n",
    "    'counselling':'counseling',\n",
    "    'theatre':'theater',\n",
    "    'cancelled':'canceled',\n",
    "    'labour':'labor',\n",
    "    'organisation':'organization',\n",
    "    'programme': 'program',\n",
    "    'wwii':'world war 2',\n",
    "    'citicise':'criticize',\n",
    "    'instagram': 'social medium',\n",
    "    'whatsapp': 'social medium',\n",
    "    'snapchat': 'social medium',\n",
    "    'Snapchat': 'social medium',\n",
    "}\n",
    "\n",
    "rewrite_re = re.compile('(%s)' % '|'.join(rewrite_dict.keys()))"
   ]
  },
  {
   "cell_type": "code",
   "execution_count": null,
   "metadata": {},
   "outputs": [],
   "source": [
    "def clean_text(x):\n",
    "    x = str(x)\n",
    "    x = x.replace(\"’\", \"'\")\n",
    "    x = rewrite_re.sub(lambda m: rewrite_dict[m.group(0)], x)\n",
    "    x = punct_covered.sub(lambda m: ' {} '.format(m.group(2)), x)\n",
    "    x = punct_unknown.sub(' ^ ', x)\n",
    "    x = punct_numbers.sub(lambda m: '#' * len(m.group(1)), x)\n",
    "    return x"
   ]
  },
  {
   "cell_type": "code",
   "execution_count": null,
   "metadata": {},
   "outputs": [],
   "source": [
    "cnt = 0\n",
    "for k, v in sorted(oov.items(), key=lambda x: -x[1]):\n",
    "    if re.fullmatch(r'[a-zA-Z]+[.,?]?', k):\n",
    "        continue\n",
    "    print('{} => {}'.format(k, v))\n",
    "    cnt += 1\n",
    "    if cnt > 20:\n",
    "        break"
   ]
  },
  {
   "cell_type": "code",
   "execution_count": null,
   "metadata": {},
   "outputs": [],
   "source": [
    "cnt = 0\n",
    "for k, v in sorted(oov.items(), key=lambda x: -x[1]):\n",
    "    if re.fullmatch(r'[a-zA-Z]+[.,?]?', k):\n",
    "        continue\n",
    "    print('{} => {}'.format(k, v))\n",
    "    cnt += 1\n",
    "    if cnt > 20:\n",
    "        break"
   ]
  },
  {
   "cell_type": "code",
   "execution_count": null,
   "metadata": {},
   "outputs": [],
   "source": [
    "oov.most_common(10)"
   ]
  },
  {
   "cell_type": "code",
   "execution_count": null,
   "metadata": {},
   "outputs": [],
   "source": [
    "gc.collect()\n",
    "time.sleep(2)"
   ]
  },
  {
   "cell_type": "code",
   "execution_count": null,
   "metadata": {},
   "outputs": [],
   "source": [
    "super_frequent_words = ['a', 'of', 'to', 'and']\n",
    "def split2(text):\n",
    "    return (word for word in clean_text(text).split()\n",
    "            if word not in super_frequent_words)"
   ]
  },
  {
   "cell_type": "code",
   "execution_count": null,
   "metadata": {
    "scrolled": true
   },
   "outputs": [],
   "source": [
    "sentences2 = train_all.question_text.progress_apply(split2).values\n",
    "vocab2 = build_vocab(sentences2)"
   ]
  },
  {
   "cell_type": "code",
   "execution_count": null,
   "metadata": {},
   "outputs": [],
   "source": [
    "oov2 = check_coverage(vocab2, embeddings_index)"
   ]
  },
  {
   "cell_type": "code",
   "execution_count": null,
   "metadata": {},
   "outputs": [],
   "source": [
    "oov2.most_common(20)"
   ]
  }
 ],
 "metadata": {
  "kernelspec": {
   "display_name": "Python 3",
   "language": "python",
   "name": "python3"
  },
  "language_info": {
   "codemirror_mode": {
    "name": "ipython",
    "version": 3
   },
   "file_extension": ".py",
   "mimetype": "text/x-python",
   "name": "python",
   "nbconvert_exporter": "python",
   "pygments_lexer": "ipython3",
   "version": "3.5.4rc1"
  }
 },
 "nbformat": 4,
 "nbformat_minor": 2
}
