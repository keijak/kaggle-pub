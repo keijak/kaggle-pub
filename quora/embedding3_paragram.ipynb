{
 "cells": [
  {
   "cell_type": "code",
   "execution_count": 1,
   "metadata": {},
   "outputs": [],
   "source": [
    "from collections import Counter\n",
    "import gc\n",
    "import itertools\n",
    "from pathlib import Path\n",
    "import re\n",
    "import time\n",
    "\n",
    "import numpy as np\n",
    "import pandas as pd\n",
    "import gensim\n",
    "\n",
    "from tqdm import tqdm\n",
    "tqdm.pandas()"
   ]
  },
  {
   "cell_type": "code",
   "execution_count": 2,
   "metadata": {},
   "outputs": [
    {
     "name": "stdout",
     "output_type": "stream",
     "text": [
      "Train shape: (1306122, 3)\n"
     ]
    }
   ],
   "source": [
    "data_dir = Path.home() / 'Desktop/kaggle/data/quora'\n",
    "train_all = pd.read_csv(data_dir / 'train.csv.zip')\n",
    "print(\"Train shape:\", train_all.shape)"
   ]
  },
  {
   "cell_type": "code",
   "execution_count": 3,
   "metadata": {},
   "outputs": [],
   "source": [
    "def build_vocab(sentences, verbose =  True):\n",
    "    vocab = Counter()\n",
    "    for sentence in tqdm(sentences, disable=(not verbose)):\n",
    "        for word in sentence:\n",
    "            vocab[word] += 1\n",
    "    return vocab"
   ]
  },
  {
   "cell_type": "code",
   "execution_count": 4,
   "metadata": {},
   "outputs": [
    {
     "name": "stderr",
     "output_type": "stream",
     "text": [
      "100%|██████████| 1306122/1306122 [00:03<00:00, 340047.46it/s]\n",
      "100%|██████████| 1306122/1306122 [00:05<00:00, 226009.66it/s]\n"
     ]
    }
   ],
   "source": [
    "sentences1 = train_all.question_text.progress_apply(lambda x: x.split()).values\n",
    "vocab1 = build_vocab(sentences1)"
   ]
  },
  {
   "cell_type": "code",
   "execution_count": 5,
   "metadata": {},
   "outputs": [
    {
     "data": {
      "text/plain": [
       "[('the', 653948),\n",
       " ('What', 417802),\n",
       " ('to', 403183),\n",
       " ('a', 402682),\n",
       " ('in', 363131),\n",
       " ('is', 331647),\n",
       " ('of', 330825),\n",
       " ('I', 306261),\n",
       " ('How', 261930),\n",
       " ('and', 251973)]"
      ]
     },
     "execution_count": 5,
     "metadata": {},
     "output_type": "execute_result"
    }
   ],
   "source": [
    "vocab1.most_common(10)"
   ]
  },
  {
   "cell_type": "code",
   "execution_count": 6,
   "metadata": {},
   "outputs": [],
   "source": [
    "data_dir.open?"
   ]
  },
  {
   "cell_type": "code",
   "execution_count": null,
   "metadata": {},
   "outputs": [],
   "source": []
  },
  {
   "cell_type": "code",
   "execution_count": 7,
   "metadata": {},
   "outputs": [
    {
     "name": "stderr",
     "output_type": "stream",
     "text": [
      "2196017it [01:38, 22281.63it/s]                             \n"
     ]
    }
   ],
   "source": [
    "PARAGRAM_PATH = data_dir / 'glove.840B.300d/glove.840B.300d.txt'\n",
    "PARAGRAM_NUM_LINES = 2196016\n",
    "\n",
    "def key_value_pair(word, *vec):\n",
    "    return word, np.asarray(vec, dtype='float32')\n",
    "\n",
    "with PARAGRAM_PATH.open(encoding='utf8') as f:\n",
    "    embeddings_index = dict(key_value_pair(*line.split(' '))\n",
    "                            for line in tqdm(f, total=PARAGRAM_NUM_LINES))"
   ]
  },
  {
   "cell_type": "code",
   "execution_count": 8,
   "metadata": {},
   "outputs": [
    {
     "data": {
      "text/plain": [
       "['1/21/00',\n",
       " 'Girl.wmv',\n",
       " 'appbackr',\n",
       " 'pposed',\n",
       " '17:29:17',\n",
       " '182.20',\n",
       " 'Muyinga',\n",
       " 'dichotomised',\n",
       " 'Eminence',\n",
       " '10-23-09']"
      ]
     },
     "execution_count": 8,
     "metadata": {},
     "output_type": "execute_result"
    }
   ],
   "source": [
    "list(itertools.islice(embeddings_index.keys(), 10))"
   ]
  },
  {
   "cell_type": "code",
   "execution_count": 9,
   "metadata": {},
   "outputs": [],
   "source": [
    "def check_coverage(vocab, embeddings_index):\n",
    "    covered_vocab = set()\n",
    "    oov = Counter()\n",
    "    covered_count = 0\n",
    "    all_count = 0\n",
    "    for word, count in tqdm(vocab.items()):\n",
    "        all_count += count\n",
    "        if word in embeddings_index:\n",
    "            covered_vocab.add(word)\n",
    "            covered_count += count\n",
    "        else:\n",
    "            oov[word] = count\n",
    "\n",
    "    print('Found embeddings for {:.2%} of vocab'.format(len(covered_vocab) / len(vocab)))\n",
    "    print('Found embeddings for  {:.2%} of all words'.format(covered_count / all_count))\n",
    "    return oov"
   ]
  },
  {
   "cell_type": "code",
   "execution_count": 10,
   "metadata": {},
   "outputs": [
    {
     "name": "stderr",
     "output_type": "stream",
     "text": [
      "100%|██████████| 508823/508823 [00:00<00:00, 1110828.60it/s]"
     ]
    },
    {
     "name": "stdout",
     "output_type": "stream",
     "text": [
      "Found embeddings for 33.16% of vocab\n",
      "Found embeddings for  88.16% of all words\n"
     ]
    },
    {
     "name": "stderr",
     "output_type": "stream",
     "text": [
      "\n"
     ]
    }
   ],
   "source": [
    "oov1 = check_coverage(vocab1, embeddings_index)"
   ]
  },
  {
   "cell_type": "code",
   "execution_count": 11,
   "metadata": {},
   "outputs": [
    {
     "data": {
      "text/plain": [
       "[('India?', 16384),\n",
       " ('it?', 12900),\n",
       " (\"What's\", 12425),\n",
       " ('do?', 8753),\n",
       " ('life?', 7753),\n",
       " ('you?', 6295),\n",
       " ('me?', 6202),\n",
       " ('them?', 6140),\n",
       " ('time?', 5716),\n",
       " ('world?', 5386)]"
      ]
     },
     "execution_count": 11,
     "metadata": {},
     "output_type": "execute_result"
    }
   ],
   "source": [
    "oov1.most_common(10)"
   ]
  },
  {
   "cell_type": "code",
   "execution_count": 12,
   "metadata": {
    "scrolled": true
   },
   "outputs": [
    {
     "name": "stdout",
     "output_type": "stream",
     "text": [
      "\\ ] . ? [ / { : } # = - ; \" < & ~ ^ > ` | ' _ @ % * , $ + ) ! ( "
     ]
    }
   ],
   "source": [
    "def is_ascii(s):\n",
    "    return all(ord(c) < 128 for c in s)\n",
    "\n",
    "cnt = 0\n",
    "for word in embeddings_index.keys():\n",
    "    if len(word) != 1:\n",
    "        continue\n",
    "    if not is_ascii(word):\n",
    "        continue\n",
    "    if not re.fullmatch(r'[^a-zA-Z0-9]+', word):\n",
    "        continue\n",
    "    print(word, end=' ')\n",
    "    cnt += 1\n",
    "    if cnt > 1000:\n",
    "        break        "
   ]
  },
  {
   "cell_type": "code",
   "execution_count": 13,
   "metadata": {},
   "outputs": [],
   "source": [
    "punct_beginning = re.compile(r'(^|\\b|\\s)([(\"])')\n",
    "punct_ending = re.compile(r'([.,?)])($|\\b|\\s)')\n",
    "punct_covered = re.compile(r'(^|\\b|\\s)([&./!<}+?)_(;~@*#:={$`|>^\",%\\[\\]\\'\\\\-])($|\\b|\\s|\\?$)')\n",
    "\n",
    "def clean_text(x):\n",
    "    x = str(x)\n",
    "    x = x.replace(\"’\", \"'\")\n",
    "    x = x.replace(\"“\", '\"')\n",
    "    x = punct_beginning.sub(lambda m: ' {} '.format(m.group(2)), x)\n",
    "    x = punct_ending.sub(lambda m: ' {} '.format(m.group(1)), x)\n",
    "    x = punct_covered.sub(lambda m: ' {} '.format(m.group(2)), x)\n",
    "    return x"
   ]
  },
  {
   "cell_type": "code",
   "execution_count": 14,
   "metadata": {
    "scrolled": false
   },
   "outputs": [
    {
     "name": "stdout",
     "output_type": "stream",
     "text": [
      "a + b\n",
      "aa + bb + c\n",
      "a++b\n",
      "aa ? \n",
      " ( I\n"
     ]
    }
   ],
   "source": [
    "for s in ['a+b', 'aa+bb+c', 'a++b', 'aa?', ' (I']:\n",
    "    print(punct_covered.sub(lambda m: ' {} '.format(m.group(2)), s))"
   ]
  },
  {
   "cell_type": "code",
   "execution_count": 15,
   "metadata": {},
   "outputs": [],
   "source": [
    "def split2(text):\n",
    "    return clean_text(text).split()"
   ]
  },
  {
   "cell_type": "code",
   "execution_count": 16,
   "metadata": {},
   "outputs": [
    {
     "name": "stderr",
     "output_type": "stream",
     "text": [
      "100%|██████████| 1306122/1306122 [00:18<00:00, 70580.92it/s]\n",
      "100%|██████████| 1306122/1306122 [00:05<00:00, 220328.49it/s]\n",
      "100%|██████████| 252906/252906 [00:00<00:00, 1109555.11it/s]"
     ]
    },
    {
     "name": "stdout",
     "output_type": "stream",
     "text": [
      "Found embeddings for 70.77% of vocab\n",
      "Found embeddings for  99.48% of all words\n"
     ]
    },
    {
     "name": "stderr",
     "output_type": "stream",
     "text": [
      "\n"
     ]
    }
   ],
   "source": [
    "sentences2 = train_all.question_text.progress_apply(split2).values\n",
    "vocab2 = build_vocab(sentences2)\n",
    "oov2 = check_coverage(vocab2, embeddings_index)"
   ]
  },
  {
   "cell_type": "code",
   "execution_count": 17,
   "metadata": {},
   "outputs": [
    {
     "data": {
      "text/plain": [
       "[('Quorans', 856),\n",
       " ('Brexit', 493),\n",
       " ('cryptocurrencies', 481),\n",
       " ('Redmi', 379),\n",
       " ('etc.)', 338),\n",
       " ('[/math', 208),\n",
       " ('^2', 144),\n",
       " ('OnePlus', 125),\n",
       " ('UCEED', 123),\n",
       " ('Blockchain', 111),\n",
       " ('GDPR', 107),\n",
       " ('demonetisation', 106),\n",
       " ('Coinbase', 105),\n",
       " ('BNBR', 99),\n",
       " ('Adityanath', 99),\n",
       " ('Machedo', 99),\n",
       " ('Boruto', 93),\n",
       " ('ethereum', 89),\n",
       " ('DCEU', 89),\n",
       " ('IIEST', 85),\n",
       " ('\\\\frac', 81),\n",
       " ('SJWs', 79),\n",
       " ('Qoura', 79),\n",
       " ('Upwork', 70),\n",
       " ('LNMIIT', 67),\n",
       " ('Kavalireddi', 65),\n",
       " ('Zerodha', 65),\n",
       " ('bhakts', 63),\n",
       " ('Doklam', 61),\n",
       " ('Vajiram', 59)]"
      ]
     },
     "execution_count": 17,
     "metadata": {},
     "output_type": "execute_result"
    }
   ],
   "source": [
    "oov2.most_common(30)"
   ]
  },
  {
   "cell_type": "code",
   "execution_count": 18,
   "metadata": {},
   "outputs": [
    {
     "ename": "AttributeError",
     "evalue": "'dict' object has no attribute 'vocab'",
     "output_type": "error",
     "traceback": [
      "\u001b[0;31m---------------------------------------------------------------------------\u001b[0m",
      "\u001b[0;31mAttributeError\u001b[0m                            Traceback (most recent call last)",
      "\u001b[0;32m<ipython-input-18-5c1cb23159f1>\u001b[0m in \u001b[0;36m<module>\u001b[0;34m\u001b[0m\n\u001b[1;32m      3\u001b[0m \u001b[0;34m\u001b[0m\u001b[0m\n\u001b[1;32m      4\u001b[0m \u001b[0mcnt\u001b[0m \u001b[0;34m=\u001b[0m \u001b[0;36m0\u001b[0m\u001b[0;34m\u001b[0m\u001b[0m\n\u001b[0;32m----> 5\u001b[0;31m \u001b[0;32mfor\u001b[0m \u001b[0mword\u001b[0m \u001b[0;32min\u001b[0m \u001b[0membeddings_index\u001b[0m\u001b[0;34m.\u001b[0m\u001b[0mvocab\u001b[0m\u001b[0;34m:\u001b[0m\u001b[0;34m\u001b[0m\u001b[0m\n\u001b[0m\u001b[1;32m      6\u001b[0m     \u001b[0;32mif\u001b[0m \u001b[0mlen\u001b[0m\u001b[0;34m(\u001b[0m\u001b[0mword\u001b[0m\u001b[0;34m)\u001b[0m \u001b[0;32mnot\u001b[0m \u001b[0;32min\u001b[0m \u001b[0;34m[\u001b[0m\u001b[0;36m1\u001b[0m\u001b[0;34m]\u001b[0m\u001b[0;34m:\u001b[0m\u001b[0;34m\u001b[0m\u001b[0m\n\u001b[1;32m      7\u001b[0m         \u001b[0;32mcontinue\u001b[0m\u001b[0;34m\u001b[0m\u001b[0m\n",
      "\u001b[0;31mAttributeError\u001b[0m: 'dict' object has no attribute 'vocab'"
     ]
    }
   ],
   "source": [
    "def is_ascii(s):\n",
    "    return all(ord(c) < 128 for c in s)\n",
    "\n",
    "cnt = 0\n",
    "for word in embeddings_index.vocab:\n",
    "    if len(word) not in [1]:\n",
    "        continue\n",
    "    if not is_ascii(word):\n",
    "        continue\n",
    "    if not re.fullmatch(r'[^a-zA-Z0-9]+', word):\n",
    "        continue\n",
    "    print(word, end=' ')\n",
    "    cnt += 1\n",
    "    if cnt > 100:\n",
    "        break        "
   ]
  }
 ],
 "metadata": {
  "kernelspec": {
   "display_name": "Python 3",
   "language": "python",
   "name": "python3"
  },
  "language_info": {
   "codemirror_mode": {
    "name": "ipython",
    "version": 3
   },
   "file_extension": ".py",
   "mimetype": "text/x-python",
   "name": "python",
   "nbconvert_exporter": "python",
   "pygments_lexer": "ipython3",
   "version": "3.5.4rc1"
  }
 },
 "nbformat": 4,
 "nbformat_minor": 2
}
