{
 "cells": [
  {
   "cell_type": "code",
   "execution_count": 1,
   "metadata": {},
   "outputs": [],
   "source": [
    "from pathlib import Path\n",
    "\n",
    "import numpy as np\n",
    "import pandas as pd"
   ]
  },
  {
   "cell_type": "code",
   "execution_count": 2,
   "metadata": {
    "scrolled": true
   },
   "outputs": [
    {
     "data": {
      "text/plain": [
       "['/usr/local/google/home/maekawa/Desktop/kaggle/quora/.ipynb_checkpoints',\n",
       " '/usr/local/google/home/maekawa/Desktop/kaggle/quora/embeddings.zip',\n",
       " '/usr/local/google/home/maekawa/Desktop/kaggle/quora/train.csv.zip',\n",
       " '/usr/local/google/home/maekawa/Desktop/kaggle/quora/train_with_length.pickle',\n",
       " '/usr/local/google/home/maekawa/Desktop/kaggle/quora/test_with_keywords.pickle',\n",
       " '/usr/local/google/home/maekawa/Desktop/kaggle/quora/train_with_keywords.pickle',\n",
       " '/usr/local/google/home/maekawa/Desktop/kaggle/quora/sample_submission.csv.zip',\n",
       " '/usr/local/google/home/maekawa/Desktop/kaggle/quora/test.csv.zip',\n",
       " '/usr/local/google/home/maekawa/Desktop/kaggle/quora/sample_resubmissions.csv',\n",
       " '/usr/local/google/home/maekawa/Desktop/kaggle/quora/test_with_length.pickle']"
      ]
     },
     "execution_count": 2,
     "metadata": {},
     "output_type": "execute_result"
    }
   ],
   "source": [
    "data_dir = Path.home() / 'Desktop/kaggle/quora'\n",
    "\n",
    "[str(p) for p in data_dir.iterdir()]"
   ]
  },
  {
   "cell_type": "code",
   "execution_count": 3,
   "metadata": {},
   "outputs": [],
   "source": [
    "train_all = pd.read_csv(data_dir / 'train.csv.zip')\n",
    "test_all = pd.read_csv(data_dir / 'test.csv.zip')"
   ]
  },
  {
   "cell_type": "code",
   "execution_count": 4,
   "metadata": {},
   "outputs": [],
   "source": [
    "samples = train_all[np.random.rand(len(train_all)) < 0.2]"
   ]
  },
  {
   "cell_type": "code",
   "execution_count": 5,
   "metadata": {},
   "outputs": [
    {
     "data": {
      "text/html": [
       "<div>\n",
       "<style scoped>\n",
       "    .dataframe tbody tr th:only-of-type {\n",
       "        vertical-align: middle;\n",
       "    }\n",
       "\n",
       "    .dataframe tbody tr th {\n",
       "        vertical-align: top;\n",
       "    }\n",
       "\n",
       "    .dataframe thead th {\n",
       "        text-align: right;\n",
       "    }\n",
       "</style>\n",
       "<table border=\"1\" class=\"dataframe\">\n",
       "  <thead>\n",
       "    <tr style=\"text-align: right;\">\n",
       "      <th></th>\n",
       "      <th>qid</th>\n",
       "      <th>question_text</th>\n",
       "      <th>target</th>\n",
       "    </tr>\n",
       "  </thead>\n",
       "  <tbody>\n",
       "    <tr>\n",
       "      <th>20</th>\n",
       "      <td>0000dd973dfd35508c16</td>\n",
       "      <td>How I know whether a girl had done sex before ...</td>\n",
       "      <td>0</td>\n",
       "    </tr>\n",
       "    <tr>\n",
       "      <th>22</th>\n",
       "      <td>0000e91571b60c2fb487</td>\n",
       "      <td>Has the United States become the largest dicta...</td>\n",
       "      <td>1</td>\n",
       "    </tr>\n",
       "    <tr>\n",
       "      <th>23</th>\n",
       "      <td>000101ac65db6e4a1c13</td>\n",
       "      <td>What is the strangest phenomenon you know of, ...</td>\n",
       "      <td>0</td>\n",
       "    </tr>\n",
       "    <tr>\n",
       "      <th>25</th>\n",
       "      <td>00010a2e064c3e8f152a</td>\n",
       "      <td>Can you make Amazon Alexa trigger events in th...</td>\n",
       "      <td>0</td>\n",
       "    </tr>\n",
       "    <tr>\n",
       "      <th>37</th>\n",
       "      <td>00019e6de5c31a235308</td>\n",
       "      <td>What does great wit mean?</td>\n",
       "      <td>0</td>\n",
       "    </tr>\n",
       "  </tbody>\n",
       "</table>\n",
       "</div>"
      ],
      "text/plain": [
       "                     qid                                      question_text  \\\n",
       "20  0000dd973dfd35508c16  How I know whether a girl had done sex before ...   \n",
       "22  0000e91571b60c2fb487  Has the United States become the largest dicta...   \n",
       "23  000101ac65db6e4a1c13  What is the strangest phenomenon you know of, ...   \n",
       "25  00010a2e064c3e8f152a  Can you make Amazon Alexa trigger events in th...   \n",
       "37  00019e6de5c31a235308                          What does great wit mean?   \n",
       "\n",
       "    target  \n",
       "20       0  \n",
       "22       1  \n",
       "23       0  \n",
       "25       0  \n",
       "37       0  "
      ]
     },
     "execution_count": 5,
     "metadata": {},
     "output_type": "execute_result"
    }
   ],
   "source": [
    "samples.head()"
   ]
  },
  {
   "cell_type": "code",
   "execution_count": 6,
   "metadata": {},
   "outputs": [],
   "source": [
    "bad_keywords = [\n",
    "    'kill', 'killed', 'killing', 'fuck', 'fucking', 'penis', 'skin', 'races',\n",
    "    'racism', 'racist',\n",
    "]"
   ]
  },
  {
   "cell_type": "code",
   "execution_count": 7,
   "metadata": {},
   "outputs": [],
   "source": [
    "def process(df):\n",
    "    questions_split = (\n",
    "        df.question_text\n",
    "        .str.lower()\n",
    "        .str.split()\n",
    "    )\n",
    "    questions_with_keyword = {}\n",
    "    for i, keyword in enumerate(bad_keywords):\n",
    "        questions_with_keyword['keyword_' + keyword] = (\n",
    "            questions_split\n",
    "            .map(lambda words: keyword in words)\n",
    "        )\n",
    "    df = df.assign(**questions_with_keyword)\n",
    "    df = df.drop(columns=['question_text'])\n",
    "    return df"
   ]
  },
  {
   "cell_type": "code",
   "execution_count": 8,
   "metadata": {},
   "outputs": [
    {
     "data": {
      "text/plain": [
       "20    [how, i, know, whether, a, girl, had, done, se...\n",
       "22    [has, the, united, states, become, the, larges...\n",
       "23    [what, is, the, strangest, phenomenon, you, kn...\n",
       "25    [can, you, make, amazon, alexa, trigger, event...\n",
       "37                      [what, does, great, wit, mean?]\n",
       "Name: question_text, dtype: object"
      ]
     },
     "execution_count": 8,
     "metadata": {},
     "output_type": "execute_result"
    }
   ],
   "source": [
    "questions_split = (\n",
    "    samples.question_text\n",
    "    .str.lower()\n",
    "    .str.split()\n",
    ")\n",
    "questions_split.head()"
   ]
  },
  {
   "cell_type": "code",
   "execution_count": 9,
   "metadata": {},
   "outputs": [
    {
     "data": {
      "text/html": [
       "<div>\n",
       "<style scoped>\n",
       "    .dataframe tbody tr th:only-of-type {\n",
       "        vertical-align: middle;\n",
       "    }\n",
       "\n",
       "    .dataframe tbody tr th {\n",
       "        vertical-align: top;\n",
       "    }\n",
       "\n",
       "    .dataframe thead th {\n",
       "        text-align: right;\n",
       "    }\n",
       "</style>\n",
       "<table border=\"1\" class=\"dataframe\">\n",
       "  <thead>\n",
       "    <tr style=\"text-align: right;\">\n",
       "      <th></th>\n",
       "      <th>qid</th>\n",
       "      <th>target</th>\n",
       "      <th>keyword_kill</th>\n",
       "      <th>keyword_killed</th>\n",
       "      <th>keyword_killing</th>\n",
       "      <th>keyword_fuck</th>\n",
       "      <th>keyword_fucking</th>\n",
       "      <th>keyword_penis</th>\n",
       "      <th>keyword_skin</th>\n",
       "      <th>keyword_races</th>\n",
       "      <th>keyword_racism</th>\n",
       "      <th>keyword_racist</th>\n",
       "    </tr>\n",
       "  </thead>\n",
       "  <tbody>\n",
       "    <tr>\n",
       "      <th>20</th>\n",
       "      <td>0000dd973dfd35508c16</td>\n",
       "      <td>0</td>\n",
       "      <td>False</td>\n",
       "      <td>False</td>\n",
       "      <td>False</td>\n",
       "      <td>False</td>\n",
       "      <td>False</td>\n",
       "      <td>False</td>\n",
       "      <td>False</td>\n",
       "      <td>False</td>\n",
       "      <td>False</td>\n",
       "      <td>False</td>\n",
       "    </tr>\n",
       "    <tr>\n",
       "      <th>22</th>\n",
       "      <td>0000e91571b60c2fb487</td>\n",
       "      <td>1</td>\n",
       "      <td>False</td>\n",
       "      <td>False</td>\n",
       "      <td>False</td>\n",
       "      <td>False</td>\n",
       "      <td>False</td>\n",
       "      <td>False</td>\n",
       "      <td>False</td>\n",
       "      <td>False</td>\n",
       "      <td>False</td>\n",
       "      <td>False</td>\n",
       "    </tr>\n",
       "    <tr>\n",
       "      <th>23</th>\n",
       "      <td>000101ac65db6e4a1c13</td>\n",
       "      <td>0</td>\n",
       "      <td>False</td>\n",
       "      <td>False</td>\n",
       "      <td>False</td>\n",
       "      <td>False</td>\n",
       "      <td>False</td>\n",
       "      <td>False</td>\n",
       "      <td>False</td>\n",
       "      <td>False</td>\n",
       "      <td>False</td>\n",
       "      <td>False</td>\n",
       "    </tr>\n",
       "    <tr>\n",
       "      <th>25</th>\n",
       "      <td>00010a2e064c3e8f152a</td>\n",
       "      <td>0</td>\n",
       "      <td>False</td>\n",
       "      <td>False</td>\n",
       "      <td>False</td>\n",
       "      <td>False</td>\n",
       "      <td>False</td>\n",
       "      <td>False</td>\n",
       "      <td>False</td>\n",
       "      <td>False</td>\n",
       "      <td>False</td>\n",
       "      <td>False</td>\n",
       "    </tr>\n",
       "    <tr>\n",
       "      <th>37</th>\n",
       "      <td>00019e6de5c31a235308</td>\n",
       "      <td>0</td>\n",
       "      <td>False</td>\n",
       "      <td>False</td>\n",
       "      <td>False</td>\n",
       "      <td>False</td>\n",
       "      <td>False</td>\n",
       "      <td>False</td>\n",
       "      <td>False</td>\n",
       "      <td>False</td>\n",
       "      <td>False</td>\n",
       "      <td>False</td>\n",
       "    </tr>\n",
       "  </tbody>\n",
       "</table>\n",
       "</div>"
      ],
      "text/plain": [
       "                     qid  target  keyword_kill  keyword_killed  \\\n",
       "20  0000dd973dfd35508c16       0         False           False   \n",
       "22  0000e91571b60c2fb487       1         False           False   \n",
       "23  000101ac65db6e4a1c13       0         False           False   \n",
       "25  00010a2e064c3e8f152a       0         False           False   \n",
       "37  00019e6de5c31a235308       0         False           False   \n",
       "\n",
       "    keyword_killing  keyword_fuck  keyword_fucking  keyword_penis  \\\n",
       "20            False         False            False          False   \n",
       "22            False         False            False          False   \n",
       "23            False         False            False          False   \n",
       "25            False         False            False          False   \n",
       "37            False         False            False          False   \n",
       "\n",
       "    keyword_skin  keyword_races  keyword_racism  keyword_racist  \n",
       "20         False          False           False           False  \n",
       "22         False          False           False           False  \n",
       "23         False          False           False           False  \n",
       "25         False          False           False           False  \n",
       "37         False          False           False           False  "
      ]
     },
     "execution_count": 9,
     "metadata": {},
     "output_type": "execute_result"
    }
   ],
   "source": [
    "samples = process(samples)\n",
    "samples.head()"
   ]
  },
  {
   "cell_type": "code",
   "execution_count": 10,
   "metadata": {},
   "outputs": [],
   "source": [
    "train_all = process(train_all)\n",
    "test_all = process(test_all)"
   ]
  },
  {
   "cell_type": "code",
   "execution_count": 11,
   "metadata": {},
   "outputs": [],
   "source": [
    "train_all.to_pickle(data_dir / 'train_with_keywords.pickle')\n",
    "test_all.to_pickle(data_dir / 'test_with_keywords.pickle')"
   ]
  }
 ],
 "metadata": {
  "kernelspec": {
   "display_name": "Python 3",
   "language": "python",
   "name": "python3"
  },
  "language_info": {
   "codemirror_mode": {
    "name": "ipython",
    "version": 3
   },
   "file_extension": ".py",
   "mimetype": "text/x-python",
   "name": "python",
   "nbconvert_exporter": "python",
   "pygments_lexer": "ipython3",
   "version": "3.6.7"
  }
 },
 "nbformat": 4,
 "nbformat_minor": 2
}
