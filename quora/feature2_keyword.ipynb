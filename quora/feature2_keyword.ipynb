{
 "cells": [
  {
   "cell_type": "code",
   "execution_count": 1,
   "metadata": {},
   "outputs": [],
   "source": [
    "import collections\n",
    "import itertools\n",
    "from pathlib import Path\n",
    "import re\n",
    "\n",
    "import numpy as np\n",
    "import pandas as pd"
   ]
  },
  {
   "cell_type": "code",
   "execution_count": 2,
   "metadata": {
    "scrolled": true
   },
   "outputs": [
    {
     "data": {
      "text/plain": [
       "['/usr/local/google/home/maekawa/Desktop/kaggle/quora/.ipynb_checkpoints',\n",
       " '/usr/local/google/home/maekawa/Desktop/kaggle/quora/embeddings.zip',\n",
       " '/usr/local/google/home/maekawa/Desktop/kaggle/quora/train.csv.zip',\n",
       " '/usr/local/google/home/maekawa/Desktop/kaggle/quora/train_with_length.pickle',\n",
       " '/usr/local/google/home/maekawa/Desktop/kaggle/quora/test_with_keywords.pickle',\n",
       " '/usr/local/google/home/maekawa/Desktop/kaggle/quora/train_with_keywords.pickle',\n",
       " '/usr/local/google/home/maekawa/Desktop/kaggle/quora/sample_submission.csv.zip',\n",
       " '/usr/local/google/home/maekawa/Desktop/kaggle/quora/test.csv.zip',\n",
       " '/usr/local/google/home/maekawa/Desktop/kaggle/quora/sample_resubmissions.csv',\n",
       " '/usr/local/google/home/maekawa/Desktop/kaggle/quora/test_with_length.pickle']"
      ]
     },
     "execution_count": 2,
     "metadata": {},
     "output_type": "execute_result"
    }
   ],
   "source": [
    "data_dir = Path.home() / 'Desktop/kaggle/quora'\n",
    "\n",
    "[str(p) for p in data_dir.iterdir()]"
   ]
  },
  {
   "cell_type": "code",
   "execution_count": 3,
   "metadata": {},
   "outputs": [],
   "source": [
    "train_all = pd.read_csv(data_dir / 'train.csv.zip')"
   ]
  },
  {
   "cell_type": "code",
   "execution_count": 4,
   "metadata": {},
   "outputs": [],
   "source": [
    "samples = train_all[np.random.rand(len(train_all)) < 0.2]"
   ]
  },
  {
   "cell_type": "markdown",
   "metadata": {},
   "source": [
    "## word counter"
   ]
  },
  {
   "cell_type": "code",
   "execution_count": 5,
   "metadata": {},
   "outputs": [],
   "source": [
    "questions_split = train_all.question_text.str.lower().str.split()"
   ]
  },
  {
   "cell_type": "code",
   "execution_count": 6,
   "metadata": {},
   "outputs": [],
   "source": [
    "counter_unigram_all = collections.Counter()\n",
    "counter_unigram_pos = collections.Counter()\n",
    "counter_bigram_all = collections.Counter()\n",
    "counter_bigram_pos = collections.Counter()\n",
    "counter_trigram_all = collections.Counter()\n",
    "counter_trigram_pos = collections.Counter()\n",
    "\n",
    "for words, target in zip(questions_split, train_all.target):\n",
    "    for i in range(len(words)):\n",
    "        w = words[i]\n",
    "        w = re.sub(r'^[^a-z]+', '', w)\n",
    "        w = re.sub(r'[^a-z]+$', '', w)\n",
    "        words[i] = w\n",
    "\n",
    "        counter_unigram_all[w] += 1\n",
    "        if target == 1:\n",
    "            counter_unigram_pos[w] += 1\n",
    "        \n",
    "        if i > 0:\n",
    "            bg = (words[i-1], w)\n",
    "            counter_bigram_all[bg] += 1\n",
    "            if target == 1:\n",
    "                counter_bigram_pos[bg] += 1\n",
    "        if i > 1:\n",
    "            tg = (words[i-2], words[i-1], w)\n",
    "            counter_trigram_all[tg] += 1\n",
    "            if target == 1:\n",
    "                counter_trigram_pos[tg] += 1"
   ]
  },
  {
   "cell_type": "code",
   "execution_count": 66,
   "metadata": {
    "scrolled": true
   },
   "outputs": [
    {
     "name": "stdout",
     "output_type": "stream",
     "text": [
      "5\n"
     ]
    },
    {
     "data": {
      "text/plain": [
       "[(0.38095238095238093, 1218, ('why', 'do', 'so')),\n",
       " (0.3630573248407643, 1256, ('why', 'are', 'the')),\n",
       " (0.35583333333333333, 1200, ('the', 'fact', 'that')),\n",
       " (0.2737226277372263, 2192, ('is', 'it', 'that')),\n",
       " (0.25280898876404495, 3560, ('it', 'true', 'that'))]"
      ]
     },
     "execution_count": 66,
     "metadata": {},
     "output_type": "execute_result"
    }
   ],
   "source": [
    "MIN_QUESTION_COUNT = 400\n",
    "MIN_POSITIVE_RATIO = 0.2\n",
    "NUM_KEYWORDS = 200\n",
    "NUM_TRIGRAMS = 5\n",
    "NUM_BIGRAMS = 5\n",
    "\n",
    "trigram_pos_ratios = []\n",
    "\n",
    "for w, c in counter_trigram_all.items():\n",
    "    if c < MIN_QUESTION_COUNT*3:\n",
    "        continue\n",
    "    ratio = counter_trigram_pos[w] / c\n",
    "    if ratio < MIN_POSITIVE_RATIO:\n",
    "        continue\n",
    "    trigram_pos_ratios.append((ratio, c, w))\n",
    "trigram_pos_ratios.sort(reverse=True)\n",
    "print(len(trigram_pos_ratios[:NUM_TRIGRAMS]))\n",
    "trigram_pos_ratios = trigram_pos_ratios[:NUM_TRIGRAMS]\n",
    "trigram_pos_ratios"
   ]
  },
  {
   "cell_type": "code",
   "execution_count": 67,
   "metadata": {},
   "outputs": [
    {
     "name": "stdout",
     "output_type": "stream",
     "text": [
      "5\n"
     ]
    },
    {
     "data": {
      "text/plain": [
       "[(0.7721153846153846, 1040, ('black', 'people')),\n",
       " (0.7554585152838428, 1145, ('white', 'people')),\n",
       " (0.5631188118811881, 808, ('trump', 'is')),\n",
       " (0.5458377239199157, 949, ('do', 'americans')),\n",
       " (0.5222565006610842, 2269, ('sex', 'with'))]"
      ]
     },
     "execution_count": 67,
     "metadata": {},
     "output_type": "execute_result"
    }
   ],
   "source": [
    "unigram_set = set()\n",
    "bigram_set = set()\n",
    "for _, _, (w1, w2, w3) in trigram_pos_ratios[:NUM_TRIGRAMS]:\n",
    "    unigram_set.add(w1)\n",
    "    unigram_set.add(w2)\n",
    "    unigram_set.add(w3)\n",
    "    bigram_set.add((w1, w2))\n",
    "    bigram_set.add((w2, w3))\n",
    "\n",
    "bigram_pos_ratios = []\n",
    "\n",
    "for w, c in counter_bigram_all.items():\n",
    "    if c < MIN_QUESTION_COUNT*2:\n",
    "        continue\n",
    "    if w in bigram_set:\n",
    "        continue\n",
    "    ratio = counter_bigram_pos[w] / c\n",
    "    if ratio < MIN_POSITIVE_RATIO:\n",
    "        continue\n",
    "    bigram_pos_ratios.append((ratio, c, w))\n",
    "\n",
    "print(len(bigram_pos_ratios[:NUM_BIGRAMS]))\n",
    "bigram_pos_ratios.sort(reverse=True)\n",
    "bigram_pos_ratios = bigram_pos_ratios[:NUM_BIGRAMS]\n",
    "bigram_pos_ratios"
   ]
  },
  {
   "cell_type": "code",
   "execution_count": 68,
   "metadata": {},
   "outputs": [
    {
     "name": "stdout",
     "output_type": "stream",
     "text": [
      "190\n"
     ]
    },
    {
     "data": {
      "text/plain": [
       "[(0.7913279132791328, 738, ('blacks',)),\n",
       " (0.7618702428416093, 2759, ('liberals',)),\n",
       " (0.7456647398843931, 519, ('whites',)),\n",
       " (0.7375366568914956, 682, ('feminists',)),\n",
       " (0.7138157894736842, 608, ('fuck',)),\n",
       " (0.7131825703254274, 1813, ('democrats',)),\n",
       " (0.6930398572278406, 5043, ('muslims',)),\n",
       " (0.6754161331626121, 1562, ('hindus',)),\n",
       " (0.652452025586354, 469, ('ignorant',)),\n",
       " (0.6360544217687075, 588, ('palestinians',)),\n",
       " (0.6311000827129859, 1209, ('hillary',)),\n",
       " (0.6238938053097345, 452, ('shit',)),\n",
       " (0.6196707471506965, 2369, ('jews',)),\n",
       " (0.6187245590230664, 737, ('asians',)),\n",
       " (0.6049069373942471, 1182, ('supporters',)),\n",
       " (0.6040372670807453, 1288, ('atheists',)),\n",
       " (0.6029143897996357, 549, ('pakistanis',)),\n",
       " (0.5952380952380952, 504, ('holocaust',)),\n",
       " (0.5951787198669992, 1203, ('conservatives',)),\n",
       " (0.5925414364640884, 724, ('terrorists',)),\n",
       " (0.5914893617021276, 470, ('raped',)),\n",
       " (0.5907194994786236, 1918, ('christians',)),\n",
       " (0.5870936438622029, 2061, ('racist',)),\n",
       " (0.5800865800865801, 462, ('dick',)),\n",
       " (0.5738980121002593, 1157, ('republicans',)),\n",
       " (0.5702688990360223, 1971, ('obama',)),\n",
       " (0.5685903500473037, 1057, ('clinton',)),\n",
       " (0.5669077757685352, 4424, ('indians',)),\n",
       " (0.5624521072796935, 1305, ('rape',)),\n",
       " (0.5584016393442623, 976, ('europeans',)),\n",
       " (0.5532544378698225, 676, ('arabs',)),\n",
       " (0.550098231827112, 509, ('africans',)),\n",
       " (0.5480093676814989, 427, ('homosexuality',)),\n",
       " (0.5384615384615384, 1872, ('stupid',)),\n",
       " (0.5315315315315315, 444, ('genocide',)),\n",
       " (0.5299145299145299, 702, ('year-old',)),\n",
       " (0.5121951219512195, 492, ('turks',)),\n",
       " (0.4961892247043364, 3805, ('muslim',)),\n",
       " (0.49304174950298213, 503, ('suck',)),\n",
       " (0.4928571428571429, 420, ('minorities',)),\n",
       " (0.4921540656205421, 701, ('dumb',)),\n",
       " (0.48775510204081635, 490, ('deny',)),\n",
       " (0.4867807153965785, 1286, ('jewish',)),\n",
       " (0.4831013916500994, 3018, ('gay',)),\n",
       " (0.48175182481751827, 411, ('feminist',)),\n",
       " (0.4766146993318486, 449, ('hatred',)),\n",
       " (0.470074812967581, 1604, ('realize',)),\n",
       " (0.4696132596685083, 1448, ('liberal',)),\n",
       " (0.4612794612794613, 891, ('terrorist',)),\n",
       " (0.4591723481845568, 12614, ('women',)),\n",
       " (0.45569620253164556, 474, ('slaves',)),\n",
       " (0.45529573590096284, 727, ('blame',)),\n",
       " (0.45351043643263755, 527, ('propaganda',)),\n",
       " (0.4484828640034927, 9162, ('men',)),\n",
       " (0.44776119402985076, 402, ('wives',)),\n",
       " (0.4475806451612903, 1240, ('immigrants',)),\n",
       " (0.44517833553500663, 757, ('superior',)),\n",
       " (0.443342776203966, 706, ('males',)),\n",
       " (0.441588785046729, 428, ('cousin',)),\n",
       " (0.44075829383886256, 633, ('innocent',)),\n",
       " (0.42768595041322316, 968, ('racism',)),\n",
       " (0.42655475009538346, 5242, ('hate',)),\n",
       " (0.425531914893617, 423, ('races',)),\n",
       " (0.424408014571949, 549, ('refugees',)),\n",
       " (0.4236453201970443, 406, ('koreans',)),\n",
       " (0.42276422764227645, 984, ('pakistani',)),\n",
       " (0.42082738944365194, 701, ('transgender',)),\n",
       " (0.4191542288557214, 804, ('obsessed',)),\n",
       " (0.4179431072210066, 457, ('nazis',)),\n",
       " (0.4168900804289544, 746, ('crimes',)),\n",
       " (0.41641938674579626, 1011, ('ugly',)),\n",
       " (0.41492146596858637, 764, ('russians',)),\n",
       " (0.41404358353510895, 413, ('slave',)),\n",
       " (0.4103671706263499, 3704, ('donald',)),\n",
       " (0.4091710758377425, 567, ('israeli',)),\n",
       " (0.4083969465648855, 524, ('slavery',)),\n",
       " (0.4066390041493776, 482, ('victims',)),\n",
       " (0.40572894399315945, 2339, ('modi',)),\n",
       " (0.4051863857374392, 1234, ('guns',)),\n",
       " (0.40429338103756707, 559, ('feminism',)),\n",
       " (0.3998419596997234, 2531, ('islam',)),\n",
       " (0.3962703962703963, 429, ('offended',)),\n",
       " (0.39270687237026647, 713, ('terrorism',)),\n",
       " (0.3927038626609442, 466, ('allah',)),\n",
       " (0.3912175648702595, 501, ('minority',)),\n",
       " (0.3884436946436103, 2371, ('israel',)),\n",
       " (0.38768115942028986, 1380, ('majority',)),\n",
       " (0.38713255684969494, 1803, ('asian',)),\n",
       " (0.38712179984484096, 1289, ('killing',)),\n",
       " (0.385502471169687, 607, ('violent',)),\n",
       " (0.3841642228739003, 1023, ('democratic',)),\n",
       " (0.3829479768786127, 692, ('admit',)),\n",
       " (0.3821571238348868, 751, ('republican',)),\n",
       " (0.38074398249452956, 1371, ('penis',)),\n",
       " (0.3793859649122807, 456, ('thousands',)),\n",
       " (0.3784246575342466, 584, ('educated',)),\n",
       " (0.37841726618705035, 695, ('isis',)),\n",
       " (0.37642300778909527, 6676, ('girls',)),\n",
       " (0.37593984962406013, 532, ('supporting',)),\n",
       " (0.37407407407407406, 540, ('isn’t',)),\n",
       " (0.3704225352112676, 710, ('putin',)),\n",
       " (0.37037037037037035, 459, ('worship',)),\n",
       " (0.37029063509149623, 929, ('islamic',)),\n",
       " (0.36964285714285716, 560, ('amendment',)),\n",
       " (0.36811023622047245, 508, ('complain',)),\n",
       " (0.3665223665223665, 693, ('females',)),\n",
       " (0.36493860845839016, 2932, ('themselves',)),\n",
       " (0.3580174927113703, 1715, ('hindu',)),\n",
       " (0.35702479338842974, 605, ('abortion',)),\n",
       " (0.35542168674698793, 498, ('muhammad',)),\n",
       " (0.3542234332425068, 734, ('lies',)),\n",
       " (0.35406162464985996, 1785, ('race',)),\n",
       " (0.35351089588377727, 413, ('greeks',)),\n",
       " (0.35266457680250785, 638, ('germans',)),\n",
       " (0.3510392609699769, 866, ('hell',)),\n",
       " (0.350561797752809, 445, ('criminals',)),\n",
       " (0.3503184713375796, 471, ('obvious',)),\n",
       " (0.34917491749174917, 1515, ('sister',)),\n",
       " (0.34647302904564314, 964, ('destroy',)),\n",
       " (0.3458333333333333, 480, ('equality',)),\n",
       " (0.34462151394422313, 1506, ('bjp',)),\n",
       " (0.34433113377324537, 1667, ('african',)),\n",
       " (0.34397163120567376, 564, ('fbi',)),\n",
       " (0.34177215189873417, 553, ('corrupt',)),\n",
       " (0.33940182054616386, 769, ('atheist',)),\n",
       " (0.3379416282642089, 651, ('proud',)),\n",
       " (0.3365806137359961, 2053, ('fact',)),\n",
       " (0.3362218370883882, 577, ('deserve',)),\n",
       " (0.3361804995970991, 6205, ('chinese',)),\n",
       " (0.335842501447597, 1727, ('boys',)),\n",
       " (0.33539094650205764, 486, ('vagina',)),\n",
       " (0.3333333333333333, 1071, ('congress',)),\n",
       " (0.332378223495702, 698, ('arab',)),\n",
       " (0.33195020746887965, 1687, ('claim',)),\n",
       " (0.33171912832929784, 413, ('secular',)),\n",
       " (0.3288409703504043, 742, ('murder',)),\n",
       " (0.32752613240418116, 574, ('lazy',)),\n",
       " (0.3264942016057092, 1121, ('conservative',)),\n",
       " (0.3250936329588015, 1335, ('vote',)),\n",
       " (0.32451499118165783, 567, ('millions',)),\n",
       " (0.32271584241408213, 2386, ('gun',)),\n",
       " (0.32099447513812157, 1810, ('christian',)),\n",
       " (0.31976744186046513, 516, ('prophet',)),\n",
       " (0.31893004115226337, 486, ('wing',)),\n",
       " (0.3177366702937976, 919, ('sexually',)),\n",
       " (0.31637630662020905, 1435, ('citizens',)),\n",
       " (0.3153692614770459, 501, ('vietnamese',)),\n",
       " (0.3150684931506849, 584, ('defend',)),\n",
       " (0.3145911700653336, 5051, ('president',)),\n",
       " (0.31414868105515587, 417, ('steal',)),\n",
       " (0.3140916808149406, 589, ('narendra',)),\n",
       " (0.3127672571777642, 1637, ('killed',)),\n",
       " (0.31211498973305957, 487, ('hated',)),\n",
       " (0.3115942028985507, 552, ('clearly',)),\n",
       " (0.3103212576896787, 1463, ('hitler',)),\n",
       " (0.3100303951367781, 658, ('nazi',)),\n",
       " (0.30919395465994964, 1588, (\"trump's\",)),\n",
       " (0.3090507726269316, 906, ('violence',)),\n",
       " (0.30718954248366015, 1224, ('evil',)),\n",
       " (0.3065442020665901, 871, ('shooting',)),\n",
       " (0.3059360730593607, 657, ('finally',)),\n",
       " (0.3039647577092511, 681, ('communist',)),\n",
       " (0.3032258064516129, 620, ('ethnic',)),\n",
       " (0.30181086519114686, 497, ('dirty',)),\n",
       " (0.3004807692307692, 832, ('politicians',)),\n",
       " (0.29772727272727273, 440, ('politically',)),\n",
       " (0.29626334519572955, 2248, ('don’t',)),\n",
       " (0.29371761658031087, 3088, ('guys',)),\n",
       " (0.29313543599257885, 539, ('masturbate',)),\n",
       " (0.2916666666666667, 408, ('cow',)),\n",
       " (0.29033998920669185, 1853, ('mom',)),\n",
       " (0.2900552486187845, 2172, ('western',)),\n",
       " (0.28841607565011823, 846, ('calling',)),\n",
       " (0.2867528271405493, 1238, (\"they're\",)),\n",
       " (0.28661087866108786, 478, ('assault',)),\n",
       " (0.2850467289719626, 428, ('autistic',)),\n",
       " (0.28496420047732696, 2095, ('rights',)),\n",
       " (0.2841648590021692, 461, ('secretly',)),\n",
       " (0.2830188679245283, 689, ('kim',)),\n",
       " (0.2828207051762941, 2666, ('seem',)),\n",
       " (0.282, 500, ('smarter',)),\n",
       " (0.2818725099601594, 1004, ('ban',)),\n",
       " (0.28130360205831906, 583, ('anti',)),\n",
       " (0.2811918063314711, 537, ('cheat',)),\n",
       " (0.2806736166800321, 1247, ('freedom',)),\n",
       " (0.278642936596218, 1798, ('religious',)),\n",
       " (0.2783171521035599, 927, ('rude',)),\n",
       " (0.27711609076358157, 42484, ('they',)),\n",
       " (0.2768906297077433, 3319, ('kill',)),\n",
       " (0.2768361581920904, 531, ('justify',))]"
      ]
     },
     "execution_count": 68,
     "metadata": {},
     "output_type": "execute_result"
    }
   ],
   "source": [
    "unigram_set = set()\n",
    "for _, _, (w1, w2) in bigram_pos_ratios[:NUM_BIGRAMS]:\n",
    "    unigram_set.add(w1)\n",
    "    unigram_set.add(w2)\n",
    "\n",
    "unigram_pos_ratios = []\n",
    "\n",
    "for w, c in counter_unigram_all.items():\n",
    "    if c < MIN_QUESTION_COUNT:\n",
    "        continue\n",
    "    if w in unigram_set:\n",
    "        continue\n",
    "    ratio = counter_unigram_pos[w] / c\n",
    "    if ratio < MIN_POSITIVE_RATIO:\n",
    "        continue\n",
    "    unigram_pos_ratios.append((ratio, c, (w,)))\n",
    "\n",
    "unigram_pos_ratios.sort(reverse=True)\n",
    "num_unigrams = NUM_KEYWORDS - len(trigram_pos_ratios) - len(bigram_pos_ratios)\n",
    "print(num_unigrams)\n",
    "unigram_pos_ratios = unigram_pos_ratios[:num_unigrams]\n",
    "unigram_pos_ratios"
   ]
  },
  {
   "cell_type": "code",
   "execution_count": 69,
   "metadata": {},
   "outputs": [],
   "source": [
    "keywords = ['_'.join(words) for _, _, words in itertools.chain(\n",
    "    unigram_pos_ratios, bigram_pos_ratios, trigram_pos_ratios)]\n",
    "keyword_set = set(keywords)"
   ]
  },
  {
   "cell_type": "code",
   "execution_count": null,
   "metadata": {},
   "outputs": [],
   "source": [
    "def process(df):\n",
    "    questions_split = (\n",
    "        df.question_text\n",
    "        .str.lower()\n",
    "        .str.split()\n",
    "    )\n",
    "    def to_counter(words):\n",
    "        counter = collections.Counter()\n",
    "        counter['__question_len__'] += len(words)\n",
    "        for i in range(len(words)):\n",
    "            w = words[i]\n",
    "            w = re.sub(r'^[^a-z]+', '', w)\n",
    "            w = re.sub(r'[^a-z]+$', '', w)\n",
    "            words[i] = w\n",
    "            if w in keyword_set:\n",
    "                counter[w] += 1\n",
    "            if i > 0:\n",
    "                bg = '{}_{}'.format(words[i-1], w)\n",
    "                if bg in keyword_set:\n",
    "                    counter[bg] += 1\n",
    "            if i > 1:\n",
    "                tg = '{}_{}_{}'.format(words[i-2], words[i-1], w)\n",
    "                if tg in keyword_set:\n",
    "                    counter[tg] += 1\n",
    "        return counter\n",
    "    counters = questions_split.map(to_counter)\n",
    "\n",
    "    for keyword in keywords:\n",
    "        df.loc[:, 'kw_' + keyword] = counters.map(\n",
    "            lambda ctr: ctr[keyword] / ctr['__question_len__'])\n",
    "    df = df.drop(columns=['question_text'])\n",
    "    return df"
   ]
  },
  {
   "cell_type": "code",
   "execution_count": null,
   "metadata": {},
   "outputs": [],
   "source": [
    "#process(samples.copy()).head().T"
   ]
  },
  {
   "cell_type": "code",
   "execution_count": null,
   "metadata": {},
   "outputs": [],
   "source": [
    "%%time\n",
    "\n",
    "train_processed = process(train_all.copy())"
   ]
  },
  {
   "cell_type": "code",
   "execution_count": null,
   "metadata": {},
   "outputs": [],
   "source": [
    "%%time\n",
    "\n",
    "nonzeros = (\n",
    "    train_processed\n",
    "    .drop(columns=['qid', 'target'])\n",
    "    .apply(lambda row: row.sum() > 0.0, axis=1)\n",
    ")\n",
    "print('{} questions have at least one keywords'.format(nonzeros.sum()))\n",
    "print('{} coverage'.format(nonzeros.sum() / len(nonzeros)))"
   ]
  },
  {
   "cell_type": "code",
   "execution_count": null,
   "metadata": {},
   "outputs": [],
   "source": [
    "train_processed.to_pickle(data_dir / 'train_with_keywords.pickle')"
   ]
  }
 ],
 "metadata": {
  "kernelspec": {
   "display_name": "Python 3",
   "language": "python",
   "name": "python3"
  },
  "language_info": {
   "codemirror_mode": {
    "name": "ipython",
    "version": 3
   },
   "file_extension": ".py",
   "mimetype": "text/x-python",
   "name": "python",
   "nbconvert_exporter": "python",
   "pygments_lexer": "ipython3",
   "version": "3.6.7"
  }
 },
 "nbformat": 4,
 "nbformat_minor": 2
}
