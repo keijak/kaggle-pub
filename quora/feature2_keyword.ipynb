{
 "cells": [
  {
   "cell_type": "code",
   "execution_count": 1,
   "metadata": {},
   "outputs": [],
   "source": [
    "import collections\n",
    "import itertools\n",
    "from pathlib import Path\n",
    "import re\n",
    "\n",
    "import numpy as np\n",
    "import pandas as pd"
   ]
  },
  {
   "cell_type": "code",
   "execution_count": 2,
   "metadata": {
    "scrolled": true
   },
   "outputs": [
    {
     "data": {
      "text/plain": [
       "['/usr/local/google/home/maekawa/Desktop/kaggle/quora/.ipynb_checkpoints',\n",
       " '/usr/local/google/home/maekawa/Desktop/kaggle/quora/embeddings.zip',\n",
       " '/usr/local/google/home/maekawa/Desktop/kaggle/quora/train.csv.zip',\n",
       " '/usr/local/google/home/maekawa/Desktop/kaggle/quora/train_with_length.pickle',\n",
       " '/usr/local/google/home/maekawa/Desktop/kaggle/quora/test_with_keywords.pickle',\n",
       " '/usr/local/google/home/maekawa/Desktop/kaggle/quora/train_with_keywords.pickle',\n",
       " '/usr/local/google/home/maekawa/Desktop/kaggle/quora/sample_submission.csv.zip',\n",
       " '/usr/local/google/home/maekawa/Desktop/kaggle/quora/test.csv.zip',\n",
       " '/usr/local/google/home/maekawa/Desktop/kaggle/quora/sample_resubmissions.csv',\n",
       " '/usr/local/google/home/maekawa/Desktop/kaggle/quora/test_with_length.pickle']"
      ]
     },
     "execution_count": 2,
     "metadata": {},
     "output_type": "execute_result"
    }
   ],
   "source": [
    "data_dir = Path.home() / 'Desktop/kaggle/quora'\n",
    "\n",
    "[str(p) for p in data_dir.iterdir()]"
   ]
  },
  {
   "cell_type": "code",
   "execution_count": 3,
   "metadata": {},
   "outputs": [],
   "source": [
    "train_all = pd.read_csv(data_dir / 'train.csv.zip')"
   ]
  },
  {
   "cell_type": "code",
   "execution_count": 4,
   "metadata": {},
   "outputs": [],
   "source": [
    "samples = train_all[np.random.rand(len(train_all)) < 0.2]"
   ]
  },
  {
   "cell_type": "markdown",
   "metadata": {},
   "source": [
    "## word counter"
   ]
  },
  {
   "cell_type": "code",
   "execution_count": 5,
   "metadata": {},
   "outputs": [],
   "source": [
    "questions_split = train_all.question_text.str.lower().str.split()"
   ]
  },
  {
   "cell_type": "code",
   "execution_count": 6,
   "metadata": {},
   "outputs": [],
   "source": [
    "counter_unigram_all = collections.Counter()\n",
    "counter_unigram_pos = collections.Counter()\n",
    "counter_bigram_all = collections.Counter()\n",
    "counter_bigram_pos = collections.Counter()\n",
    "counter_trigram_all = collections.Counter()\n",
    "counter_trigram_pos = collections.Counter()\n",
    "\n",
    "for words, target in zip(questions_split, train_all.target):\n",
    "    for i in range(len(words)):\n",
    "        w = words[i]\n",
    "        w = re.sub(r'^[^a-z]+', '', w)\n",
    "        w = re.sub(r'[^a-z]+$', '', w)\n",
    "        words[i] = w\n",
    "\n",
    "        counter_unigram_all[w] += 1\n",
    "        if target == 1:\n",
    "            counter_unigram_pos[w] += 1\n",
    "        \n",
    "        if i > 0:\n",
    "            bg = (words[i-1], w)\n",
    "            counter_bigram_all[bg] += 1\n",
    "            if target == 1:\n",
    "                counter_bigram_pos[bg] += 1\n",
    "        if i > 1:\n",
    "            tg = (words[i-2], words[i-1], w)\n",
    "            counter_trigram_all[tg] += 1\n",
    "            if target == 1:\n",
    "                counter_trigram_pos[tg] += 1"
   ]
  },
  {
   "cell_type": "code",
   "execution_count": 21,
   "metadata": {
    "scrolled": true
   },
   "outputs": [
    {
     "name": "stdout",
     "output_type": "stream",
     "text": [
      "0\n"
     ]
    },
    {
     "data": {
      "text/plain": [
       "[]"
      ]
     },
     "execution_count": 21,
     "metadata": {},
     "output_type": "execute_result"
    }
   ],
   "source": [
    "MIN_QUESTION_COUNT = 400\n",
    "MIN_POSITIVE_RATIO = 0.2\n",
    "NUM_KEYWORDS = 100\n",
    "NUM_TRIGRAMS = 0\n",
    "NUM_BIGRAMS = 0\n",
    "\n",
    "trigram_pos_ratios = []\n",
    "\n",
    "for w, c in counter_trigram_all.items():\n",
    "    if c < MIN_QUESTION_COUNT:\n",
    "        continue\n",
    "    ratio = counter_trigram_pos[w] / c\n",
    "    if ratio < MIN_POSITIVE_RATIO:\n",
    "        continue\n",
    "    trigram_pos_ratios.append((ratio, c, w))\n",
    "trigram_pos_ratios.sort(reverse=True)\n",
    "print(len(trigram_pos_ratios[:NUM_TRIGRAMS]))\n",
    "trigram_pos_ratios = trigram_pos_ratios[:NUM_TRIGRAMS]\n",
    "trigram_pos_ratios"
   ]
  },
  {
   "cell_type": "code",
   "execution_count": 22,
   "metadata": {},
   "outputs": [
    {
     "name": "stdout",
     "output_type": "stream",
     "text": [
      "0\n"
     ]
    },
    {
     "data": {
      "text/plain": [
       "[]"
      ]
     },
     "execution_count": 22,
     "metadata": {},
     "output_type": "execute_result"
    }
   ],
   "source": [
    "unigram_set = set()\n",
    "bigram_set = set()\n",
    "for _, _, (w1, w2, w3) in trigram_pos_ratios[:NUM_TRIGRAMS]:\n",
    "    unigram_set.add(w1)\n",
    "    unigram_set.add(w2)\n",
    "    unigram_set.add(w3)\n",
    "    bigram_set.add((w1, w2))\n",
    "    bigram_set.add((w2, w3))\n",
    "\n",
    "bigram_pos_ratios = []\n",
    "\n",
    "for w, c in counter_bigram_all.items():\n",
    "    if c < MIN_QUESTION_COUNT:\n",
    "        continue\n",
    "    if w in bigram_set:\n",
    "        continue\n",
    "    ratio = counter_bigram_pos[w] / c\n",
    "    if ratio < MIN_POSITIVE_RATIO:\n",
    "        continue\n",
    "    bigram_pos_ratios.append((ratio, c, w))\n",
    "\n",
    "print(len(bigram_pos_ratios[:NUM_BIGRAMS]))\n",
    "bigram_pos_ratios.sort(reverse=True)\n",
    "bigram_pos_ratios = bigram_pos_ratios[:NUM_BIGRAMS]\n",
    "bigram_pos_ratios"
   ]
  },
  {
   "cell_type": "code",
   "execution_count": 23,
   "metadata": {},
   "outputs": [
    {
     "name": "stdout",
     "output_type": "stream",
     "text": [
      "100\n"
     ]
    },
    {
     "data": {
      "text/plain": [
       "[(0.7913279132791328, 738, ('blacks',)),\n",
       " (0.7618702428416093, 2759, ('liberals',)),\n",
       " (0.7456647398843931, 519, ('whites',)),\n",
       " (0.7375366568914956, 682, ('feminists',)),\n",
       " (0.7138157894736842, 608, ('fuck',)),\n",
       " (0.7131825703254274, 1813, ('democrats',)),\n",
       " (0.6930398572278406, 5043, ('muslims',)),\n",
       " (0.6754161331626121, 1562, ('hindus',)),\n",
       " (0.652452025586354, 469, ('ignorant',)),\n",
       " (0.6360544217687075, 588, ('palestinians',)),\n",
       " (0.6311000827129859, 1209, ('hillary',)),\n",
       " (0.6238938053097345, 452, ('shit',)),\n",
       " (0.6196707471506965, 2369, ('jews',)),\n",
       " (0.6187245590230664, 737, ('asians',)),\n",
       " (0.6049069373942471, 1182, ('supporters',)),\n",
       " (0.6040372670807453, 1288, ('atheists',)),\n",
       " (0.6029143897996357, 549, ('pakistanis',)),\n",
       " (0.5952380952380952, 504, ('holocaust',)),\n",
       " (0.5951787198669992, 1203, ('conservatives',)),\n",
       " (0.5925414364640884, 724, ('terrorists',)),\n",
       " (0.5914893617021276, 470, ('raped',)),\n",
       " (0.5907194994786236, 1918, ('christians',)),\n",
       " (0.5870936438622029, 2061, ('racist',)),\n",
       " (0.5800865800865801, 462, ('dick',)),\n",
       " (0.5738980121002593, 1157, ('republicans',)),\n",
       " (0.5702688990360223, 1971, ('obama',)),\n",
       " (0.5685903500473037, 1057, ('clinton',)),\n",
       " (0.5669077757685352, 4424, ('indians',)),\n",
       " (0.5624521072796935, 1305, ('rape',)),\n",
       " (0.5602687140115163, 5210, ('americans',)),\n",
       " (0.5584016393442623, 976, ('europeans',)),\n",
       " (0.5532544378698225, 676, ('arabs',)),\n",
       " (0.550098231827112, 509, ('africans',)),\n",
       " (0.5480093676814989, 427, ('homosexuality',)),\n",
       " (0.5384615384615384, 1872, ('stupid',)),\n",
       " (0.5315315315315315, 444, ('genocide',)),\n",
       " (0.5299145299145299, 702, ('year-old',)),\n",
       " (0.5121951219512195, 492, ('turks',)),\n",
       " (0.4961892247043364, 3805, ('muslim',)),\n",
       " (0.49304174950298213, 503, ('suck',)),\n",
       " (0.4928571428571429, 420, ('minorities',)),\n",
       " (0.4921540656205421, 701, ('dumb',)),\n",
       " (0.48775510204081635, 490, ('deny',)),\n",
       " (0.4867807153965785, 1286, ('jewish',)),\n",
       " (0.4831013916500994, 3018, ('gay',)),\n",
       " (0.48175182481751827, 411, ('feminist',)),\n",
       " (0.4774763245456872, 7814, ('white',)),\n",
       " (0.4766146993318486, 449, ('hatred',)),\n",
       " (0.470074812967581, 1604, ('realize',)),\n",
       " (0.4696132596685083, 1448, ('liberal',)),\n",
       " (0.4612794612794613, 891, ('terrorist',)),\n",
       " (0.46043903979785217, 12664, ('trump',)),\n",
       " (0.4591723481845568, 12614, ('women',)),\n",
       " (0.45569620253164556, 474, ('slaves',)),\n",
       " (0.45529573590096284, 727, ('blame',)),\n",
       " (0.45351043643263755, 527, ('propaganda',)),\n",
       " (0.4484828640034927, 9162, ('men',)),\n",
       " (0.44776119402985076, 402, ('wives',)),\n",
       " (0.4475806451612903, 1240, ('immigrants',)),\n",
       " (0.44517833553500663, 757, ('superior',)),\n",
       " (0.443342776203966, 706, ('males',)),\n",
       " (0.441588785046729, 428, ('cousin',)),\n",
       " (0.44075829383886256, 633, ('innocent',)),\n",
       " (0.42768595041322316, 968, ('racism',)),\n",
       " (0.42655475009538346, 5242, ('hate',)),\n",
       " (0.425531914893617, 423, ('races',)),\n",
       " (0.424408014571949, 549, ('refugees',)),\n",
       " (0.4236453201970443, 406, ('koreans',)),\n",
       " (0.42276422764227645, 984, ('pakistani',)),\n",
       " (0.42082738944365194, 701, ('transgender',)),\n",
       " (0.4191542288557214, 804, ('obsessed',)),\n",
       " (0.4179431072210066, 457, ('nazis',)),\n",
       " (0.4168900804289544, 746, ('crimes',)),\n",
       " (0.41641938674579626, 1011, ('ugly',)),\n",
       " (0.41492146596858637, 764, ('russians',)),\n",
       " (0.41404358353510895, 413, ('slave',)),\n",
       " (0.4103671706263499, 3704, ('donald',)),\n",
       " (0.4091710758377425, 567, ('israeli',)),\n",
       " (0.4083969465648855, 524, ('slavery',)),\n",
       " (0.4066390041493776, 482, ('victims',)),\n",
       " (0.40572894399315945, 2339, ('modi',)),\n",
       " (0.4051863857374392, 1234, ('guns',)),\n",
       " (0.40429338103756707, 559, ('feminism',)),\n",
       " (0.3998419596997234, 2531, ('islam',)),\n",
       " (0.3962703962703963, 429, ('offended',)),\n",
       " (0.3930905695611578, 7497, ('black',)),\n",
       " (0.39270687237026647, 713, ('terrorism',)),\n",
       " (0.3927038626609442, 466, ('allah',)),\n",
       " (0.3912175648702595, 501, ('minority',)),\n",
       " (0.3884436946436103, 2371, ('israel',)),\n",
       " (0.38768115942028986, 1380, ('majority',)),\n",
       " (0.38713255684969494, 1803, ('asian',)),\n",
       " (0.38712179984484096, 1289, ('killing',)),\n",
       " (0.385502471169687, 607, ('violent',)),\n",
       " (0.3841642228739003, 1023, ('democratic',)),\n",
       " (0.3829479768786127, 692, ('admit',)),\n",
       " (0.3821571238348868, 751, ('republican',)),\n",
       " (0.38074398249452956, 1371, ('penis',)),\n",
       " (0.3793859649122807, 456, ('thousands',)),\n",
       " (0.3784246575342466, 584, ('educated',))]"
      ]
     },
     "execution_count": 23,
     "metadata": {},
     "output_type": "execute_result"
    }
   ],
   "source": [
    "unigram_set = set()\n",
    "for _, _, (w1, w2) in bigram_pos_ratios[:NUM_BIGRAMS]:\n",
    "    unigram_set.add(w1)\n",
    "    unigram_set.add(w2)\n",
    "\n",
    "unigram_pos_ratios = []\n",
    "\n",
    "for w, c in counter_unigram_all.items():\n",
    "    if c < MIN_QUESTION_COUNT:\n",
    "        continue\n",
    "    if w in unigram_set:\n",
    "        continue\n",
    "    ratio = counter_unigram_pos[w] / c\n",
    "    if ratio < MIN_POSITIVE_RATIO:\n",
    "        continue\n",
    "    unigram_pos_ratios.append((ratio, c, (w,)))\n",
    "\n",
    "unigram_pos_ratios.sort(reverse=True)\n",
    "num_unigrams = NUM_KEYWORDS - len(trigram_pos_ratios) - len(bigram_pos_ratios)\n",
    "print(num_unigrams)\n",
    "unigram_pos_ratios = unigram_pos_ratios[:num_unigrams]\n",
    "unigram_pos_ratios"
   ]
  },
  {
   "cell_type": "code",
   "execution_count": 24,
   "metadata": {},
   "outputs": [],
   "source": [
    "keywords = ['_'.join(words) for _, _, words in itertools.chain(\n",
    "    unigram_pos_ratios, bigram_pos_ratios, trigram_pos_ratios)]\n",
    "keyword_set = set(keywords)"
   ]
  },
  {
   "cell_type": "code",
   "execution_count": 25,
   "metadata": {},
   "outputs": [],
   "source": [
    "def process(df):\n",
    "    questions_split = (\n",
    "        df.question_text\n",
    "        .str.lower()\n",
    "        .str.split()\n",
    "    )\n",
    "    def to_counter(words):\n",
    "        counter = collections.Counter()\n",
    "        counter['__question_len__'] += len(words)\n",
    "        for i in range(len(words)):\n",
    "            w = words[i]\n",
    "            w = re.sub(r'^[^a-z]+', '', w)\n",
    "            w = re.sub(r'[^a-z]+$', '', w)\n",
    "            words[i] = w\n",
    "            if w in keyword_set:\n",
    "                counter[w] += 1\n",
    "            if i > 0:\n",
    "                bg = '{}_{}'.format(words[i-1], w)\n",
    "                if bg in keyword_set:\n",
    "                    counter[bg] += 1\n",
    "            if i > 1:\n",
    "                tg = '{}_{}_{}'.format(words[i-2], words[i-1], w)\n",
    "                if tg in keyword_set:\n",
    "                    counter[tg] += 1\n",
    "        return counter\n",
    "    counters = questions_split.map(to_counter)\n",
    "\n",
    "    for keyword in keywords:\n",
    "        df.loc[:, 'kw_' + keyword] = counters.map(\n",
    "            lambda ctr: ctr[keyword] / ctr['__question_len__'])\n",
    "    df = df.drop(columns=['question_text'])\n",
    "    return df"
   ]
  },
  {
   "cell_type": "code",
   "execution_count": 26,
   "metadata": {},
   "outputs": [],
   "source": [
    "#process(samples.copy()).head().T"
   ]
  },
  {
   "cell_type": "code",
   "execution_count": 27,
   "metadata": {},
   "outputs": [
    {
     "name": "stdout",
     "output_type": "stream",
     "text": [
      "CPU times: user 3min 39s, sys: 17.4 s, total: 3min 57s\n",
      "Wall time: 1min 39s\n"
     ]
    }
   ],
   "source": [
    "%%time\n",
    "\n",
    "train_processed = process(train_all.copy())"
   ]
  },
  {
   "cell_type": "code",
   "execution_count": 28,
   "metadata": {},
   "outputs": [
    {
     "name": "stdout",
     "output_type": "stream",
     "text": [
      "110625 questions have at least one keywords\n",
      "0.08469729473969506 coverage\n",
      "CPU times: user 53.2 s, sys: 1.3 s, total: 54.5 s\n",
      "Wall time: 53.3 s\n"
     ]
    }
   ],
   "source": [
    "%%time\n",
    "\n",
    "nonzeros = (\n",
    "    train_processed\n",
    "    .drop(columns=['qid', 'target'])\n",
    "    .apply(lambda row: row.sum() > 0.0, axis=1)\n",
    ")\n",
    "print('{} questions have at least one keywords'.format(nonzeros.sum()))\n",
    "print('{} coverage'.format(nonzeros.sum() / len(nonzeros)))"
   ]
  },
  {
   "cell_type": "code",
   "execution_count": 29,
   "metadata": {},
   "outputs": [],
   "source": [
    "train_processed.to_pickle(data_dir / 'train_with_keywords.pickle')"
   ]
  }
 ],
 "metadata": {
  "kernelspec": {
   "display_name": "Python 3",
   "language": "python",
   "name": "python3"
  },
  "language_info": {
   "codemirror_mode": {
    "name": "ipython",
    "version": 3
   },
   "file_extension": ".py",
   "mimetype": "text/x-python",
   "name": "python",
   "nbconvert_exporter": "python",
   "pygments_lexer": "ipython3",
   "version": "3.6.7"
  }
 },
 "nbformat": 4,
 "nbformat_minor": 2
}
