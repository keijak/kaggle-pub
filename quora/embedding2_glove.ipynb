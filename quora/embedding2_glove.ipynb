{
 "cells": [
  {
   "cell_type": "code",
   "execution_count": 1,
   "metadata": {},
   "outputs": [],
   "source": [
    "from collections import Counter\n",
    "import gc\n",
    "import itertools\n",
    "from pathlib import Path\n",
    "import re\n",
    "import time\n",
    "\n",
    "import numpy as np\n",
    "import pandas as pd\n",
    "import gensim\n",
    "\n",
    "from tqdm import tqdm\n",
    "tqdm.pandas()"
   ]
  },
  {
   "cell_type": "code",
   "execution_count": 2,
   "metadata": {},
   "outputs": [
    {
     "name": "stdout",
     "output_type": "stream",
     "text": [
      "Train shape: (1306122, 3)\n"
     ]
    }
   ],
   "source": [
    "data_dir = Path.home() / 'Desktop/kaggle/data/quora'\n",
    "train_all = pd.read_csv(data_dir / 'train.csv.zip')\n",
    "print(\"Train shape:\", train_all.shape)"
   ]
  },
  {
   "cell_type": "code",
   "execution_count": 3,
   "metadata": {},
   "outputs": [],
   "source": [
    "def build_vocab(sentences, verbose =  True):\n",
    "    vocab = Counter()\n",
    "    for sentence in tqdm(sentences, disable=(not verbose)):\n",
    "        for word in sentence:\n",
    "            vocab[word] += 1\n",
    "    return vocab"
   ]
  },
  {
   "cell_type": "code",
   "execution_count": 4,
   "metadata": {},
   "outputs": [
    {
     "name": "stderr",
     "output_type": "stream",
     "text": [
      "100%|██████████| 1306122/1306122 [00:03<00:00, 327255.95it/s]\n",
      "100%|██████████| 1306122/1306122 [00:06<00:00, 216808.04it/s]\n"
     ]
    }
   ],
   "source": [
    "sentences1 = train_all.question_text.progress_apply(lambda x: x.split()).values\n",
    "vocab1 = build_vocab(sentences1)"
   ]
  },
  {
   "cell_type": "code",
   "execution_count": 5,
   "metadata": {},
   "outputs": [
    {
     "data": {
      "text/plain": [
       "[('the', 653948),\n",
       " ('What', 417802),\n",
       " ('to', 403183),\n",
       " ('a', 402682),\n",
       " ('in', 363131),\n",
       " ('is', 331647),\n",
       " ('of', 330825),\n",
       " ('I', 306261),\n",
       " ('How', 261930),\n",
       " ('and', 251973)]"
      ]
     },
     "execution_count": 5,
     "metadata": {},
     "output_type": "execute_result"
    }
   ],
   "source": [
    "vocab1.most_common(10)"
   ]
  },
  {
   "cell_type": "code",
   "execution_count": 6,
   "metadata": {},
   "outputs": [
    {
     "name": "stderr",
     "output_type": "stream",
     "text": [
      "100%|██████████| 2196017/2196017 [01:38<00:00, 22317.93it/s]\n"
     ]
    }
   ],
   "source": [
    "GLOVE_PATH = data_dir / 'glove.840B.300d/glove.840B.300d.txt'\n",
    "GLOVE_NUM_LINES = 2196017\n",
    "\n",
    "def key_value_pair(word, *vec):\n",
    "    return word, np.asarray(vec, dtype='float32')\n",
    "\n",
    "with GLOVE_PATH.open() as f:\n",
    "    embeddings_index = dict(key_value_pair(*line.split(' '))\n",
    "                            for line in tqdm(f, total=GLOVE_NUM_LINES))"
   ]
  },
  {
   "cell_type": "code",
   "execution_count": 7,
   "metadata": {},
   "outputs": [
    {
     "data": {
      "text/plain": [
       "['Crats',\n",
       " 'Asafoetida',\n",
       " 'napping',\n",
       " '920-481',\n",
       " 'Madelyn',\n",
       " 'Tsimshatsui',\n",
       " '25By',\n",
       " 'augmenté',\n",
       " 'tazed',\n",
       " 'beltre']"
      ]
     },
     "execution_count": 7,
     "metadata": {},
     "output_type": "execute_result"
    }
   ],
   "source": [
    "list(itertools.islice(embeddings_index.keys(), 10))"
   ]
  },
  {
   "cell_type": "code",
   "execution_count": 8,
   "metadata": {},
   "outputs": [],
   "source": [
    "def check_coverage(vocab, embeddings_index):\n",
    "    covered_vocab = set()\n",
    "    oov = Counter()\n",
    "    covered_count = 0\n",
    "    all_count = 0\n",
    "    for word, count in tqdm(vocab.items()):\n",
    "        all_count += count\n",
    "        if word in embeddings_index:\n",
    "            covered_vocab.add(word)\n",
    "            covered_count += count\n",
    "        else:\n",
    "            oov[word] = count\n",
    "\n",
    "    print('Found embeddings for {:.2%} of vocab'.format(len(covered_vocab) / len(vocab)))\n",
    "    print('Found embeddings for  {:.2%} of all words'.format(covered_count / all_count))\n",
    "    return oov"
   ]
  },
  {
   "cell_type": "code",
   "execution_count": 9,
   "metadata": {},
   "outputs": [
    {
     "name": "stderr",
     "output_type": "stream",
     "text": [
      "100%|██████████| 508823/508823 [00:00<00:00, 1096265.60it/s]"
     ]
    },
    {
     "name": "stdout",
     "output_type": "stream",
     "text": [
      "Found embeddings for 33.16% of vocab\n",
      "Found embeddings for  88.16% of all words\n"
     ]
    },
    {
     "name": "stderr",
     "output_type": "stream",
     "text": [
      "\n"
     ]
    }
   ],
   "source": [
    "oov1 = check_coverage(vocab1, embeddings_index)"
   ]
  },
  {
   "cell_type": "code",
   "execution_count": 10,
   "metadata": {},
   "outputs": [
    {
     "data": {
      "text/plain": [
       "[('India?', 16384),\n",
       " ('it?', 12900),\n",
       " (\"What's\", 12425),\n",
       " ('do?', 8753),\n",
       " ('life?', 7753),\n",
       " ('you?', 6295),\n",
       " ('me?', 6202),\n",
       " ('them?', 6140),\n",
       " ('time?', 5716),\n",
       " ('world?', 5386)]"
      ]
     },
     "execution_count": 10,
     "metadata": {},
     "output_type": "execute_result"
    }
   ],
   "source": [
    "oov1.most_common(10)"
   ]
  },
  {
   "cell_type": "code",
   "execution_count": 11,
   "metadata": {
    "scrolled": true
   },
   "outputs": [
    {
     "name": "stdout",
     "output_type": "stream",
     "text": [
      "< + * . { ; ) [ \" } = > ( - % | : ! / @ & ' , $ ^ ~ ] ` ? _ # \\ "
     ]
    }
   ],
   "source": [
    "def is_ascii(s):\n",
    "    return all(ord(c) < 128 for c in s)\n",
    "\n",
    "cnt = 0\n",
    "for word in embeddings_index.keys():\n",
    "    if len(word) != 1:\n",
    "        continue\n",
    "    if not is_ascii(word):\n",
    "        continue\n",
    "    if not re.fullmatch(r'[^a-zA-Z0-9]+', word):\n",
    "        continue\n",
    "    print(word, end=' ')\n",
    "    cnt += 1\n",
    "    if cnt > 1000:\n",
    "        break        "
   ]
  },
  {
   "cell_type": "code",
   "execution_count": 12,
   "metadata": {
    "scrolled": true
   },
   "outputs": [
    {
     "ename": "NameError",
     "evalue": "name 'punct_covered' is not defined",
     "output_type": "error",
     "traceback": [
      "\u001b[0;31m---------------------------------------------------------------------------\u001b[0m",
      "\u001b[0;31mNameError\u001b[0m                                 Traceback (most recent call last)",
      "\u001b[0;32m<ipython-input-12-422a880786a3>\u001b[0m in \u001b[0;36m<module>\u001b[0;34m\u001b[0m\n\u001b[1;32m      1\u001b[0m \u001b[0;34m\u001b[0m\u001b[0m\n\u001b[1;32m      2\u001b[0m \u001b[0;32mfor\u001b[0m \u001b[0ms\u001b[0m \u001b[0;32min\u001b[0m \u001b[0;34m[\u001b[0m\u001b[0;34m'a+b'\u001b[0m\u001b[0;34m,\u001b[0m \u001b[0;34m'aa+bb+c'\u001b[0m\u001b[0;34m,\u001b[0m \u001b[0;34m'a++b'\u001b[0m\u001b[0;34m,\u001b[0m \u001b[0;34m'aa?'\u001b[0m\u001b[0;34m,\u001b[0m \u001b[0;34m' (I'\u001b[0m\u001b[0;34m]\u001b[0m\u001b[0;34m:\u001b[0m\u001b[0;34m\u001b[0m\u001b[0m\n\u001b[0;32m----> 3\u001b[0;31m     \u001b[0mprint\u001b[0m\u001b[0;34m(\u001b[0m\u001b[0mpunct_covered\u001b[0m\u001b[0;34m.\u001b[0m\u001b[0msub\u001b[0m\u001b[0;34m(\u001b[0m\u001b[0;32mlambda\u001b[0m \u001b[0mm\u001b[0m\u001b[0;34m:\u001b[0m \u001b[0;34m' {} '\u001b[0m\u001b[0;34m.\u001b[0m\u001b[0mformat\u001b[0m\u001b[0;34m(\u001b[0m\u001b[0mm\u001b[0m\u001b[0;34m.\u001b[0m\u001b[0mgroup\u001b[0m\u001b[0;34m(\u001b[0m\u001b[0;36m2\u001b[0m\u001b[0;34m)\u001b[0m\u001b[0;34m)\u001b[0m\u001b[0;34m,\u001b[0m \u001b[0ms\u001b[0m\u001b[0;34m)\u001b[0m\u001b[0;34m)\u001b[0m\u001b[0;34m\u001b[0m\u001b[0m\n\u001b[0m",
      "\u001b[0;31mNameError\u001b[0m: name 'punct_covered' is not defined"
     ]
    }
   ],
   "source": [
    "\n",
    "for s in ['a+b', 'aa+bb+c', 'a++b', 'aa?', ' (I']:\n",
    "    print(punct_covered.sub(lambda m: ' {} '.format(m.group(2)), s))"
   ]
  },
  {
   "cell_type": "code",
   "execution_count": null,
   "metadata": {},
   "outputs": [],
   "source": [
    "punct_beginning = re.compile(r'(^|\\b|\\s)([(\"])')\n",
    "punct_ending = re.compile(r'([.,?)])($|\\b|\\s)')\n",
    "punct_covered = re.compile(r'(^|\\b|\\s)([&./!<}+?)_(;~@*#:={$`|>^\",%\\[\\]\\'\\\\-])($|\\b|\\s|\\?$)')\n",
    "\n",
    "def clean_text(x):\n",
    "    x = str(x)\n",
    "    x = x.replace(\"’\", \"'\")\n",
    "    x = x.replace(\"“\", '\"')\n",
    "    x = punct_beginning.sub(lambda m: ' {} '.format(m.group(2)), x)\n",
    "    x = punct_ending.sub(lambda m: ' {} '.format(m.group(1)), x)\n",
    "    x = punct_covered.sub(lambda m: ' {} '.format(m.group(2)), x)\n",
    "    return x"
   ]
  },
  {
   "cell_type": "code",
   "execution_count": null,
   "metadata": {},
   "outputs": [],
   "source": [
    "def split2(text):\n",
    "    return clean_text(text).split()"
   ]
  },
  {
   "cell_type": "code",
   "execution_count": null,
   "metadata": {},
   "outputs": [],
   "source": [
    "sentences2 = train_all.question_text.progress_apply(split2).values\n",
    "vocab2 = build_vocab(sentences2)\n",
    "oov2 = check_coverage(vocab2, embeddings_index)"
   ]
  },
  {
   "cell_type": "code",
   "execution_count": null,
   "metadata": {},
   "outputs": [],
   "source": [
    "oov2.most_common(30)"
   ]
  },
  {
   "cell_type": "code",
   "execution_count": null,
   "metadata": {},
   "outputs": [],
   "source": [
    "def is_ascii(s):\n",
    "    return all(ord(c) < 128 for c in s)\n",
    "\n",
    "cnt = 0\n",
    "for word in embeddings_index.vocab:\n",
    "    if len(word) not in [1]:\n",
    "        continue\n",
    "    if not is_ascii(word):\n",
    "        continue\n",
    "    if not re.fullmatch(r'[^a-zA-Z0-9]+', word):\n",
    "        continue\n",
    "    print(word, end=' ')\n",
    "    cnt += 1\n",
    "    if cnt > 100:\n",
    "        break        "
   ]
  }
 ],
 "metadata": {
  "kernelspec": {
   "display_name": "Python 3",
   "language": "python",
   "name": "python3"
  },
  "language_info": {
   "codemirror_mode": {
    "name": "ipython",
    "version": 3
   },
   "file_extension": ".py",
   "mimetype": "text/x-python",
   "name": "python",
   "nbconvert_exporter": "python",
   "pygments_lexer": "ipython3",
   "version": "3.5.4rc1"
  }
 },
 "nbformat": 4,
 "nbformat_minor": 2
}
