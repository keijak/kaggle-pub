{
 "cells": [
  {
   "cell_type": "code",
   "execution_count": 107,
   "metadata": {
    "collapsed": true
   },
   "outputs": [],
   "source": [
    "import numpy as np\n",
    "import pandas as pd\n",
    "\n",
    "import matplotlib.pyplot as plt\n",
    "%matplotlib inline\n",
    "import seaborn as sns\n",
    "\n",
    "from sklearn.model_selection import GridSearchCV\n",
    "from sklearn.decomposition import PCA\n",
    "from xgboost import XGBClassifier\n",
    "\n",
    "import re\n",
    "import os"
   ]
  },
  {
   "cell_type": "code",
   "execution_count": 108,
   "metadata": {
    "collapsed": true
   },
   "outputs": [],
   "source": [
    "train_df = pd.read_csv('train.csv').sample(frac=1)\n",
    "test_df = pd.read_csv('test.csv').sample(frac=1)"
   ]
  },
  {
   "cell_type": "markdown",
   "metadata": {},
   "source": [
    "# Drop outliers from the training data."
   ]
  },
  {
   "cell_type": "code",
   "execution_count": 109,
   "metadata": {},
   "outputs": [
    {
     "data": {
      "text/plain": [
       "[863, 180, 679, 258, 201, 737, 324, 846, 159, 792]"
      ]
     },
     "execution_count": 109,
     "metadata": {},
     "output_type": "execute_result"
    }
   ],
   "source": [
    "outlier_index = list(train_df[\n",
    "    (train_df.SibSp > 6) | (train_df.Parch > 6) | (train_df.Fare > 300)\n",
    "].index)\n",
    "\n",
    "train_df.drop(outlier_index, axis=0, inplace=True)\n",
    "outlier_index"
   ]
  },
  {
   "cell_type": "markdown",
   "metadata": {},
   "source": [
    "# Create derived data frames"
   ]
  },
  {
   "cell_type": "code",
   "execution_count": 110,
   "metadata": {},
   "outputs": [
    {
     "data": {
      "text/plain": [
       "(881, 418, 1299)"
      ]
     },
     "execution_count": 110,
     "metadata": {},
     "output_type": "execute_result"
    }
   ],
   "source": [
    "full_df = pd.concat([train_df, test_df], axis=0, ignore_index=True)\n",
    "(len(train_df), len(test_df), len(full_df))"
   ]
  },
  {
   "cell_type": "code",
   "execution_count": 111,
   "metadata": {},
   "outputs": [
    {
     "name": "stdout",
     "output_type": "stream",
     "text": [
      "<class 'pandas.core.frame.DataFrame'>\n",
      "RangeIndex: 1299 entries, 0 to 1298\n",
      "Data columns (total 12 columns):\n",
      "Age            1043 non-null float64\n",
      "Cabin          293 non-null object\n",
      "Embarked       1297 non-null object\n",
      "Fare           1298 non-null float64\n",
      "Name           1299 non-null object\n",
      "Parch          1299 non-null int64\n",
      "PassengerId    1299 non-null int64\n",
      "Pclass         1299 non-null int64\n",
      "Sex            1299 non-null object\n",
      "SibSp          1299 non-null int64\n",
      "Survived       881 non-null float64\n",
      "Ticket         1299 non-null object\n",
      "dtypes: float64(3), int64(4), object(5)\n",
      "memory usage: 121.9+ KB\n"
     ]
    }
   ],
   "source": [
    "full_df.info()"
   ]
  },
  {
   "cell_type": "code",
   "execution_count": 112,
   "metadata": {
    "collapsed": true
   },
   "outputs": [],
   "source": [
    "y = train_df.Survived"
   ]
  },
  {
   "cell_type": "code",
   "execution_count": 113,
   "metadata": {
    "collapsed": true
   },
   "outputs": [],
   "source": [
    "salut_map = {\n",
    "    r'.*\\sMr\\.\\s.*': 'Mr',\n",
    "    r'.*\\sMrs\\.\\s.*': 'Mrs',\n",
    "    r'.*\\sMiss\\.\\s.*': 'Miss',\n",
    "    r'.*\\sMaster\\.\\s.*': 'Master',\n",
    "    \n",
    "    # Ignore rare ones.\n",
    "#    r'.*\\sMs\\.\\s.*': 'Miss',\n",
    "#    r'.*\\sDr\\.\\s.*': 'Dr',\n",
    "#    r'.*\\sRev\\.\\s.*': 'Rev',\n",
    "#    r'.*\\sDon\\.\\s.*': 'Don',\n",
    "#    r'.*\\sMajor\\.\\s.*': 'Major',\n",
    "#    r'.*\\sMme\\.\\s.*': 'Mme',\n",
    "}\n",
    "\n",
    "def extract_salut(name: str) -> str:\n",
    "    for regex, salut in salut_map.items():\n",
    "        if re.match(regex, name):\n",
    "            return salut\n",
    "    return 'Other'"
   ]
  },
  {
   "cell_type": "code",
   "execution_count": 114,
   "metadata": {},
   "outputs": [
    {
     "data": {
      "text/html": [
       "<div>\n",
       "<style>\n",
       "    .dataframe thead tr:only-child th {\n",
       "        text-align: right;\n",
       "    }\n",
       "\n",
       "    .dataframe thead th {\n",
       "        text-align: left;\n",
       "    }\n",
       "\n",
       "    .dataframe tbody tr th {\n",
       "        vertical-align: top;\n",
       "    }\n",
       "</style>\n",
       "<table border=\"1\" class=\"dataframe\">\n",
       "  <thead>\n",
       "    <tr style=\"text-align: right;\">\n",
       "      <th></th>\n",
       "      <th>count</th>\n",
       "      <th>unique</th>\n",
       "      <th>top</th>\n",
       "      <th>freq</th>\n",
       "    </tr>\n",
       "    <tr>\n",
       "      <th>Salut</th>\n",
       "      <th></th>\n",
       "      <th></th>\n",
       "      <th></th>\n",
       "      <th></th>\n",
       "    </tr>\n",
       "  </thead>\n",
       "  <tbody>\n",
       "    <tr>\n",
       "      <th>Master</th>\n",
       "      <td>60</td>\n",
       "      <td>1</td>\n",
       "      <td>Master</td>\n",
       "      <td>60</td>\n",
       "    </tr>\n",
       "    <tr>\n",
       "      <th>Miss</th>\n",
       "      <td>256</td>\n",
       "      <td>1</td>\n",
       "      <td>Miss</td>\n",
       "      <td>256</td>\n",
       "    </tr>\n",
       "    <tr>\n",
       "      <th>Mr</th>\n",
       "      <td>752</td>\n",
       "      <td>1</td>\n",
       "      <td>Mr</td>\n",
       "      <td>752</td>\n",
       "    </tr>\n",
       "    <tr>\n",
       "      <th>Mrs</th>\n",
       "      <td>197</td>\n",
       "      <td>1</td>\n",
       "      <td>Mrs</td>\n",
       "      <td>197</td>\n",
       "    </tr>\n",
       "    <tr>\n",
       "      <th>Other</th>\n",
       "      <td>34</td>\n",
       "      <td>1</td>\n",
       "      <td>Other</td>\n",
       "      <td>34</td>\n",
       "    </tr>\n",
       "  </tbody>\n",
       "</table>\n",
       "</div>"
      ],
      "text/plain": [
       "       count unique     top freq\n",
       "Salut                           \n",
       "Master    60      1  Master   60\n",
       "Miss     256      1    Miss  256\n",
       "Mr       752      1      Mr  752\n",
       "Mrs      197      1     Mrs  197\n",
       "Other     34      1   Other   34"
      ]
     },
     "execution_count": 114,
     "metadata": {},
     "output_type": "execute_result"
    }
   ],
   "source": [
    "full_df['Salut'] = full_df.Name.map(extract_salut)\n",
    "full_df.groupby('Salut').Salut.describe()"
   ]
  },
  {
   "cell_type": "code",
   "execution_count": 115,
   "metadata": {},
   "outputs": [
    {
     "data": {
      "text/plain": [
       "Sex     Pclass  IsAlone  Salut \n",
       "female  1       0        Miss      22.0\n",
       "                         Mrs       44.5\n",
       "                         Other     48.0\n",
       "                1        Miss      32.5\n",
       "                         Mrs       55.0\n",
       "                         Other     28.5\n",
       "        2       0        Miss      13.0\n",
       "                         Mrs       29.0\n",
       "                1        Miss      28.0\n",
       "                         Mrs       32.0\n",
       "                         Other     28.0\n",
       "        3       0        Miss       9.0\n",
       "                         Mrs       30.5\n",
       "                1        Miss      22.0\n",
       "                         Mrs       38.0\n",
       "                         Other     22.0\n",
       "male    1       0        Master     6.0\n",
       "                         Mr        39.0\n",
       "                         Other     49.5\n",
       "                1        Mr        42.0\n",
       "                         Other     48.5\n",
       "        2       0        Master     2.0\n",
       "                         Mr        32.0\n",
       "                         Other     30.0\n",
       "                1        Mr        29.0\n",
       "                         Other     42.0\n",
       "        3       0        Master     6.0\n",
       "                         Mr        26.0\n",
       "                1        Master     6.0\n",
       "                         Mr        26.0\n",
       "Name: Age, dtype: float64"
      ]
     },
     "execution_count": 115,
     "metadata": {},
     "output_type": "execute_result"
    }
   ],
   "source": [
    "full_df['IsAlone'] = (full_df['SibSp'] + full_df['Parch'] == 0) * 1\n",
    "ages = full_df.groupby(['Sex', 'Pclass', 'IsAlone', 'Salut']).Age.median()\n",
    "\n",
    "# Fill NaN\n",
    "ages['female', 3, 1, 'Other'] = full_df[ (full_df.Sex=='female') & (full_df.Pclass==3) & full_df.IsAlone ].Age.median()\n",
    "ages['male', 3, 1, 'Master'] = full_df[ (full_df.Sex=='male') & (full_df.Pclass==3) & (full_df.Salut=='Master') ].Age.median()\n",
    "\n",
    "ages"
   ]
  },
  {
   "cell_type": "code",
   "execution_count": 116,
   "metadata": {},
   "outputs": [
    {
     "data": {
      "text/plain": [
       "Pclass  Embarked\n",
       "1       C           76.7292\n",
       "        Q           90.0000\n",
       "        S           52.0000\n",
       "2       C           15.3146\n",
       "        Q           12.3500\n",
       "        S           15.3750\n",
       "3       C            7.8958\n",
       "        Q            7.7500\n",
       "        S            8.0500\n",
       "Name: Fare, dtype: float64"
      ]
     },
     "execution_count": 116,
     "metadata": {},
     "output_type": "execute_result"
    }
   ],
   "source": [
    "fares = full_df.groupby(['Pclass', 'Embarked']).Fare.median()\n",
    "fares"
   ]
  },
  {
   "cell_type": "code",
   "execution_count": 117,
   "metadata": {},
   "outputs": [
    {
     "data": {
      "text/html": [
       "<div>\n",
       "<style>\n",
       "    .dataframe thead tr:only-child th {\n",
       "        text-align: right;\n",
       "    }\n",
       "\n",
       "    .dataframe thead th {\n",
       "        text-align: left;\n",
       "    }\n",
       "\n",
       "    .dataframe tbody tr th {\n",
       "        vertical-align: top;\n",
       "    }\n",
       "</style>\n",
       "<table border=\"1\" class=\"dataframe\">\n",
       "  <thead>\n",
       "    <tr style=\"text-align: right;\">\n",
       "      <th></th>\n",
       "      <th>Sex</th>\n",
       "      <th>IsAlone</th>\n",
       "      <th>AgeNull</th>\n",
       "      <th>Age</th>\n",
       "      <th>Fare</th>\n",
       "      <th>Pclass_1</th>\n",
       "      <th>Pclass_2</th>\n",
       "      <th>Pclass_3</th>\n",
       "      <th>Emb_C</th>\n",
       "      <th>Emb_S</th>\n",
       "      <th>...</th>\n",
       "      <th>Salut_Mrs</th>\n",
       "      <th>Salut_Other</th>\n",
       "      <th>Cabin_E</th>\n",
       "      <th>Cabin_D</th>\n",
       "      <th>Cabin_A</th>\n",
       "      <th>Cabin_B</th>\n",
       "      <th>Cabin_C</th>\n",
       "      <th>Ticket_STONO2</th>\n",
       "      <th>Ticket_WC</th>\n",
       "      <th>NullCount</th>\n",
       "    </tr>\n",
       "  </thead>\n",
       "  <tbody>\n",
       "    <tr>\n",
       "      <th>368</th>\n",
       "      <td>1</td>\n",
       "      <td>1</td>\n",
       "      <td>True</td>\n",
       "      <td>20</td>\n",
       "      <td>2.169054</td>\n",
       "      <td>0</td>\n",
       "      <td>0</td>\n",
       "      <td>1</td>\n",
       "      <td>0</td>\n",
       "      <td>0</td>\n",
       "      <td>...</td>\n",
       "      <td>0</td>\n",
       "      <td>0</td>\n",
       "      <td>0</td>\n",
       "      <td>0</td>\n",
       "      <td>0</td>\n",
       "      <td>0</td>\n",
       "      <td>0</td>\n",
       "      <td>0</td>\n",
       "      <td>0</td>\n",
       "      <td>4</td>\n",
       "    </tr>\n",
       "    <tr>\n",
       "      <th>405</th>\n",
       "      <td>0</td>\n",
       "      <td>0</td>\n",
       "      <td>False</td>\n",
       "      <td>30</td>\n",
       "      <td>3.091042</td>\n",
       "      <td>0</td>\n",
       "      <td>1</td>\n",
       "      <td>0</td>\n",
       "      <td>0</td>\n",
       "      <td>1</td>\n",
       "      <td>...</td>\n",
       "      <td>0</td>\n",
       "      <td>0</td>\n",
       "      <td>0</td>\n",
       "      <td>0</td>\n",
       "      <td>0</td>\n",
       "      <td>0</td>\n",
       "      <td>0</td>\n",
       "      <td>0</td>\n",
       "      <td>0</td>\n",
       "      <td>3</td>\n",
       "    </tr>\n",
       "    <tr>\n",
       "      <th>45</th>\n",
       "      <td>0</td>\n",
       "      <td>1</td>\n",
       "      <td>True</td>\n",
       "      <td>25</td>\n",
       "      <td>2.202765</td>\n",
       "      <td>0</td>\n",
       "      <td>0</td>\n",
       "      <td>1</td>\n",
       "      <td>0</td>\n",
       "      <td>1</td>\n",
       "      <td>...</td>\n",
       "      <td>0</td>\n",
       "      <td>0</td>\n",
       "      <td>0</td>\n",
       "      <td>0</td>\n",
       "      <td>0</td>\n",
       "      <td>0</td>\n",
       "      <td>0</td>\n",
       "      <td>0</td>\n",
       "      <td>0</td>\n",
       "      <td>5</td>\n",
       "    </tr>\n",
       "    <tr>\n",
       "      <th>268</th>\n",
       "      <td>1</td>\n",
       "      <td>0</td>\n",
       "      <td>False</td>\n",
       "      <td>55</td>\n",
       "      <td>5.039951</td>\n",
       "      <td>1</td>\n",
       "      <td>0</td>\n",
       "      <td>0</td>\n",
       "      <td>0</td>\n",
       "      <td>1</td>\n",
       "      <td>...</td>\n",
       "      <td>1</td>\n",
       "      <td>0</td>\n",
       "      <td>0</td>\n",
       "      <td>0</td>\n",
       "      <td>0</td>\n",
       "      <td>0</td>\n",
       "      <td>1</td>\n",
       "      <td>0</td>\n",
       "      <td>0</td>\n",
       "      <td>2</td>\n",
       "    </tr>\n",
       "    <tr>\n",
       "      <th>3</th>\n",
       "      <td>1</td>\n",
       "      <td>0</td>\n",
       "      <td>False</td>\n",
       "      <td>35</td>\n",
       "      <td>3.990834</td>\n",
       "      <td>1</td>\n",
       "      <td>0</td>\n",
       "      <td>0</td>\n",
       "      <td>0</td>\n",
       "      <td>1</td>\n",
       "      <td>...</td>\n",
       "      <td>1</td>\n",
       "      <td>0</td>\n",
       "      <td>0</td>\n",
       "      <td>0</td>\n",
       "      <td>0</td>\n",
       "      <td>0</td>\n",
       "      <td>1</td>\n",
       "      <td>0</td>\n",
       "      <td>0</td>\n",
       "      <td>2</td>\n",
       "    </tr>\n",
       "  </tbody>\n",
       "</table>\n",
       "<p>5 rows × 22 columns</p>\n",
       "</div>"
      ],
      "text/plain": [
       "     Sex  IsAlone  AgeNull  Age      Fare  Pclass_1  Pclass_2  Pclass_3  \\\n",
       "368    1        1     True   20  2.169054         0         0         1   \n",
       "405    0        0    False   30  3.091042         0         1         0   \n",
       "45     0        1     True   25  2.202765         0         0         1   \n",
       "268    1        0    False   55  5.039951         1         0         0   \n",
       "3      1        0    False   35  3.990834         1         0         0   \n",
       "\n",
       "     Emb_C  Emb_S    ...      Salut_Mrs  Salut_Other  Cabin_E  Cabin_D  \\\n",
       "368      0      0    ...              0            0        0        0   \n",
       "405      0      1    ...              0            0        0        0   \n",
       "45       0      1    ...              0            0        0        0   \n",
       "268      0      1    ...              1            0        0        0   \n",
       "3        0      1    ...              1            0        0        0   \n",
       "\n",
       "     Cabin_A  Cabin_B  Cabin_C  Ticket_STONO2  Ticket_WC  NullCount  \n",
       "368        0        0        0              0          0          4  \n",
       "405        0        0        0              0          0          3  \n",
       "45         0        0        0              0          0          5  \n",
       "268        0        0        1              0          0          2  \n",
       "3          0        0        1              0          0          2  \n",
       "\n",
       "[5 rows x 22 columns]"
      ]
     },
     "execution_count": 117,
     "metadata": {},
     "output_type": "execute_result"
    }
   ],
   "source": [
    "def prep(df):\n",
    "    X = pd.DataFrame((df['Sex'] == 'female') * 1)\n",
    "    df['IsAlone'] = (df['SibSp'] + df['Parch'] == 0) * 1\n",
    "    X['IsAlone'] = df['IsAlone']\n",
    "    df['Salut'] = df.Name.map(extract_salut)\n",
    "\n",
    "    X['AgeNull'] = df.Age.isnull()\n",
    "    ages_default = df.apply(lambda s: ages[s['Sex'], s['Pclass'], s['IsAlone'], s['Salut']], axis=1)\n",
    "    ages_complete = df.Age.fillna(ages_default).astype(int)\n",
    "    X['Age'] = ages_complete - (ages_complete % 5)  # Round by 5.\n",
    "    \n",
    "    df['Embarked'].fillna('S', inplace=True)\n",
    "    fares_default = df.apply(lambda s: fares[s['Pclass'], s['Embarked']], axis=1)\n",
    "    fares_complete = df.Fare.fillna(fares_default)\n",
    "    X['Fare'] = np.log(fares_complete + 1.0)\n",
    "\n",
    "    dummy1 = pd.get_dummies(df.Pclass, prefix='Pclass')\n",
    "    dummy2 = pd.get_dummies(df.Embarked, prefix='Emb')\n",
    "    dummy3 = pd.get_dummies(df.Salut, prefix='Salut')\n",
    "\n",
    "    X = pd.concat([X, dummy1, dummy2, dummy3], axis=1)\n",
    "\n",
    "    cabin_prefix =  df.Cabin.str.extract('([A-Z]).*', expand=False)\n",
    "    for prefix in ['E', 'D', 'A', 'B', 'C']:\n",
    "        X['Cabin_' + prefix] = (cabin_prefix == prefix) * 1\n",
    "\n",
    "    ticket_prefix = df.Ticket.str.extract('([A-Za-z].+) \\d+', expand=False).str.replace(r'[./_ -]', '')\n",
    "    for prefix in ['STONO2', 'WC']:\n",
    "        X['Ticket_' + prefix] = (ticket_prefix == prefix) * 1\n",
    "\n",
    "    X['NullCount'] = 1 * (df.SibSp == 0) + (df.Parch == 0) + X.AgeNull + (df.Embarked == 'S') + df.Cabin.isnull() + df.Ticket.isnull()\n",
    "\n",
    "    # Drop unnecessary features.\n",
    "    for col in ['Emb_Q', 'Salut_Mr']:\n",
    "        X.drop(col, axis=1, inplace=True)\n",
    "    return X\n",
    "\n",
    "X = prep(train_df)\n",
    "X.head()"
   ]
  },
  {
   "cell_type": "code",
   "execution_count": 118,
   "metadata": {},
   "outputs": [
    {
     "name": "stdout",
     "output_type": "stream",
     "text": [
      "(0.41864443, 'Fare')\n",
      "(0.19114818, 'Age')\n",
      "(0.06221937, 'Pclass_3')\n",
      "(0.051528759, 'Sex')\n",
      "(0.041693393, 'NullCount')\n",
      "(0.031216592, 'Salut_Master')\n",
      "(0.020525979, 'Emb_C')\n",
      "(0.019029293, 'Ticket_STONO2')\n",
      "(0.01881548, 'Cabin_C')\n",
      "(0.018601667, 'Cabin_E')\n",
      "(0.017960232, 'AgeNull')\n",
      "(0.016249733, 'Emb_S')\n",
      "(0.015180672, 'Salut_Miss')\n",
      "(0.013683986, 'Cabin_D')\n",
      "(0.011973487, 'Salut_Mrs')\n",
      "(0.011332051, 'Pclass_2')\n",
      "(0.010049176, 'Pclass_1')\n",
      "(0.0087663028, 'Cabin_A')\n",
      "(0.0085524907, 'Ticket_WC')\n",
      "(0.0062005557, 'IsAlone')\n",
      "(0.0036348086, 'Salut_Other')\n",
      "(0.0029933718, 'Cabin_B')\n"
     ]
    }
   ],
   "source": [
    "m = XGBClassifier(\n",
    "    n_jobs=4,\n",
    "    nthread=4,\n",
    "    seed=0,\n",
    "\n",
    "    # Tuned:\n",
    "    max_depth=5,\n",
    "    reg_alpha=.03,\n",
    "    scale_pos_weight=1.2,\n",
    "    learning_rate=.05,\n",
    "    n_estimators=300,\n",
    "    max_delta_step=.3\n",
    ")\n",
    "m.fit(X, y)\n",
    "for x in reversed(sorted(zip(m.feature_importances_, X.columns.values))):\n",
    "    print(x)"
   ]
  },
  {
   "cell_type": "code",
   "execution_count": 119,
   "metadata": {},
   "outputs": [
    {
     "data": {
      "text/plain": [
       "<matplotlib.axes._subplots.AxesSubplot at 0x11b986a90>"
      ]
     },
     "execution_count": 119,
     "metadata": {},
     "output_type": "execute_result"
    },
    {
     "data": {
      "image/png": "[encoded data removed]",
      "text/plain": [
       "<matplotlib.figure.Figure at 0x11b986f28>"
      ]
     },
     "metadata": {},
     "output_type": "display_data"
    }
   ],
   "source": [
    "sns.heatmap(X.corr(), cmap='coolwarm')"
   ]
  },
  {
   "cell_type": "code",
   "execution_count": 120,
   "metadata": {},
   "outputs": [
    {
     "name": "stdout",
     "output_type": "stream",
     "text": [
      "Help on function __init__ in module xgboost.sklearn:\n",
      "\n",
      "__init__(self, max_depth=3, learning_rate=0.1, n_estimators=100, silent=True, objective='binary:logistic', booster='gbtree', n_jobs=1, nthread=None, gamma=0, min_child_weight=1, max_delta_step=0, subsample=1, colsample_bytree=1, colsample_bylevel=1, reg_alpha=0, reg_lambda=1, scale_pos_weight=1, base_score=0.5, random_state=0, seed=None, missing=None, **kwargs)\n",
      "    Initialize self.  See help(type(self)) for accurate signature.\n",
      "\n"
     ]
    }
   ],
   "source": [
    "help(XGBClassifier.__init__)"
   ]
  },
  {
   "cell_type": "code",
   "execution_count": 121,
   "metadata": {},
   "outputs": [
    {
     "name": "stdout",
     "output_type": "stream",
     "text": [
      "Train 704 vs Validation 177\n",
      "Best Params: {'n_jobs': 4, 'scale_pos_weight': 1.2, 'seed': 0, 'reg_alpha': 0.03, 'n_estimators': 300, 'learning_rate': 0.05, 'max_delta_step': 0.3, 'max_depth': 5}\n",
      "Best Score: 0.805397727273\n"
     ]
    }
   ],
   "source": [
    "params = {\n",
    "    # Fixed:\n",
    "    'n_jobs': [4],\n",
    "    'seed': [0],\n",
    "\n",
    "    # Tuned:\n",
    "    'max_depth': [5],  # default=3\n",
    "    'reg_alpha': [.03], # default=0\n",
    "    'scale_pos_weight':[1.2], # default=1\n",
    "    'learning_rate':[0.05], # default=0.1\n",
    "    'n_estimators':[300], # default=100\n",
    "    'max_delta_step':[0.3], # default=0\n",
    "\n",
    "    # Default is good:\n",
    "    #'min_child_weight':[1],\n",
    "    #'gamma':[0],\n",
    "    #'subsample':[1],\n",
    "    #'colsample_bytree':[1],\n",
    "    #'objective':['binary:logistic'],\n",
    "}\n",
    "\n",
    "clf = GridSearchCV(XGBClassifier(), param_grid=params, cv=5, scoring='accuracy')\n",
    "\n",
    "val_mask = np.random.rand(len(X)) < 0.2\n",
    "train_X, val_X = X[~val_mask], X[val_mask]\n",
    "train_y, val_y = y[~val_mask], y[val_mask]\n",
    "\n",
    "clf.fit(train_X, train_y)\n",
    "print('Train %d vs Validation %d' % (len(train_X), len(val_X)))\n",
    "print('Best Params:', clf.best_params_)\n",
    "print('Best Score:', clf.best_score_)"
   ]
  },
  {
   "cell_type": "code",
   "execution_count": 126,
   "metadata": {},
   "outputs": [
    {
     "name": "stdout",
     "output_type": "stream",
     "text": [
      "Validation score: 0.864406779661\n"
     ]
    }
   ],
   "source": [
    "validation = (clf.predict(val_X) == val_y)\n",
    "print('Validation score:', validation.sum() / len(validation))"
   ]
  },
  {
   "cell_type": "markdown",
   "metadata": {},
   "source": [
    "# GridSearch Scores (CV=5)\n",
    "- sex only: 0.786756453423\n",
    "- sex + pclass: 0.775533108866\n",
    "- sex + pclass + isalone: 0.791245791246\n",
    "- sex + pclass + isalone + embark: 0.808080808081 (submit: 0.77990)\n",
    "- sex + pclass + isalone + embark + age: 0.81593714927\n",
    "- sex + pclass + isalone + embark + age + fare: 0.840628507295 (submit: 0.78468)\n",
    "- sex + pclass + isalone + embark + age + fare + salut [with outliers]: 0.852974186308 (submit: 0.78468)\n",
    "- sex + pclass + isalone + embark + age + fare + salut [drop outliers]: 0.850170261067 (submit: 0.78468)"
   ]
  },
  {
   "cell_type": "code",
   "execution_count": 127,
   "metadata": {},
   "outputs": [
    {
     "name": "stdout",
     "output_type": "stream",
     "text": [
      "Best Params: {'n_jobs': 4, 'scale_pos_weight': 1.2, 'seed': 0, 'reg_alpha': 0.03, 'n_estimators': 300, 'learning_rate': 0.05, 'max_delta_step': 0.3, 'max_depth': 5}\n",
      "Best Score: 0.837684449489\n"
     ]
    }
   ],
   "source": [
    "# Retrain with full training data.\n",
    "clf.fit(X, y)\n",
    "print('Best Params:', clf.best_params_)\n",
    "print('Best Score:', clf.best_score_)"
   ]
  },
  {
   "cell_type": "code",
   "execution_count": 128,
   "metadata": {},
   "outputs": [
    {
     "data": {
      "text/html": [
       "<div>\n",
       "<style>\n",
       "    .dataframe thead tr:only-child th {\n",
       "        text-align: right;\n",
       "    }\n",
       "\n",
       "    .dataframe thead th {\n",
       "        text-align: left;\n",
       "    }\n",
       "\n",
       "    .dataframe tbody tr th {\n",
       "        vertical-align: top;\n",
       "    }\n",
       "</style>\n",
       "<table border=\"1\" class=\"dataframe\">\n",
       "  <thead>\n",
       "    <tr style=\"text-align: right;\">\n",
       "      <th></th>\n",
       "      <th>PassengerId</th>\n",
       "      <th>Survived</th>\n",
       "    </tr>\n",
       "  </thead>\n",
       "  <tbody>\n",
       "    <tr>\n",
       "      <th>0</th>\n",
       "      <td>892</td>\n",
       "      <td>0</td>\n",
       "    </tr>\n",
       "    <tr>\n",
       "      <th>1</th>\n",
       "      <td>893</td>\n",
       "      <td>0</td>\n",
       "    </tr>\n",
       "    <tr>\n",
       "      <th>2</th>\n",
       "      <td>894</td>\n",
       "      <td>0</td>\n",
       "    </tr>\n",
       "    <tr>\n",
       "      <th>3</th>\n",
       "      <td>895</td>\n",
       "      <td>0</td>\n",
       "    </tr>\n",
       "    <tr>\n",
       "      <th>4</th>\n",
       "      <td>896</td>\n",
       "      <td>1</td>\n",
       "    </tr>\n",
       "  </tbody>\n",
       "</table>\n",
       "</div>"
      ],
      "text/plain": [
       "   PassengerId  Survived\n",
       "0          892         0\n",
       "1          893         0\n",
       "2          894         0\n",
       "3          895         0\n",
       "4          896         1"
      ]
     },
     "execution_count": 128,
     "metadata": {},
     "output_type": "execute_result"
    }
   ],
   "source": [
    "# Apply it to test data.\n",
    "tX = prep(test_df)\n",
    "tY = clf.predict(tX)\n",
    "\n",
    "ans = pd.DataFrame(test_df.PassengerId)\n",
    "ans['Survived'] = tY\n",
    "ans.sort_index(inplace=True)\n",
    "ans.head()"
   ]
  },
  {
   "cell_type": "code",
   "execution_count": 129,
   "metadata": {
    "collapsed": true
   },
   "outputs": [],
   "source": [
    "def answer_exists(df):\n",
    "    for csv in os.listdir():\n",
    "        if not csv.endswith('.csv'):\n",
    "            continue\n",
    "        if not csv.startswith('out'):\n",
    "            continue\n",
    "        prev_df = pd.read_csv(csv)\n",
    "        if (prev_df.Survived != ans.Survived).sum() == 0:\n",
    "            print(\"Equivalent to\", csv)\n",
    "            return True\n",
    "\n",
    "    print(\"No equivalent answer\")\n",
    "    return False"
   ]
  },
  {
   "cell_type": "code",
   "execution_count": 130,
   "metadata": {},
   "outputs": [
    {
     "name": "stdout",
     "output_type": "stream",
     "text": [
      "No equivalent answer\n",
      "New output: out-xgb17.csv\n"
     ]
    }
   ],
   "source": [
    "if not answer_exists(ans):\n",
    "  out = 'out-xgb%d.csv' % len(os.listdir())\n",
    "  ans.to_csv(out, index=False)\n",
    "  print('New output:', out)"
   ]
  },
  {
   "cell_type": "code",
   "execution_count": 63,
   "metadata": {},
   "outputs": [
    {
     "data": {
      "text/plain": [
       "['EDA.ipynb',\n",
       " 'out-xgb11.csv',\n",
       " 'out-xgb10.csv',\n",
       " 'test.csv',\n",
       " 'out-xgb12.csv',\n",
       " 'out-xgb9.csv',\n",
       " 'out-xgb13.csv',\n",
       " 'out-xgb17.csv',\n",
       " 'out-xgb16.csv',\n",
       " 'out-xgb14.csv',\n",
       " 'out-xgb15.csv',\n",
       " 'out-xgb2.csv',\n",
       " 'out-xgb1.csv',\n",
       " 'train.csv',\n",
       " '.ipynb_checkpoints',\n",
       " 'XGBoost.ipynb',\n",
       " 'notes.md',\n",
       " 'gender_submission.csv']"
      ]
     },
     "execution_count": 63,
     "metadata": {},
     "output_type": "execute_result"
    }
   ],
   "source": [
    "os.listdir()"
   ]
  },
  {
   "cell_type": "code",
   "execution_count": null,
   "metadata": {
    "collapsed": true
   },
   "outputs": [],
   "source": []
  }
 ],
 "metadata": {
  "kernelspec": {
   "display_name": "Python [conda env:anaconda]",
   "language": "python",
   "name": "conda-env-anaconda-py"
  },
  "language_info": {
   "codemirror_mode": {
    "name": "ipython",
    "version": 3
   },
   "file_extension": ".py",
   "mimetype": "text/x-python",
   "name": "python",
   "nbconvert_exporter": "python",
   "pygments_lexer": "ipython3",
   "version": "3.5.4"
  }
 },
 "nbformat": 4,
 "nbformat_minor": 2
}
