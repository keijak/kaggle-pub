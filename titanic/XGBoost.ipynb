{
 "cells": [
  {
   "cell_type": "code",
   "execution_count": 338,
   "metadata": {
    "collapsed": true
   },
   "outputs": [],
   "source": [
    "import numpy as np\n",
    "import pandas as pd\n",
    "\n",
    "import matplotlib.pyplot as plt\n",
    "%matplotlib inline\n",
    "import seaborn as sns\n",
    "\n",
    "from sklearn.model_selection import GridSearchCV\n",
    "from sklearn.decomposition import PCA\n",
    "from xgboost import XGBClassifier\n",
    "\n",
    "import re\n",
    "import os"
   ]
  },
  {
   "cell_type": "code",
   "execution_count": 339,
   "metadata": {
    "collapsed": true
   },
   "outputs": [],
   "source": [
    "train_df = pd.read_csv('train.csv')\n",
    "test_df = pd.read_csv('test.csv')"
   ]
  },
  {
   "cell_type": "markdown",
   "metadata": {},
   "source": [
    "# Drop outliers from the training data."
   ]
  },
  {
   "cell_type": "code",
   "execution_count": 340,
   "metadata": {},
   "outputs": [
    {
     "data": {
      "text/plain": [
       "[159, 180, 201, 258, 324, 679, 737, 792, 846, 863]"
      ]
     },
     "execution_count": 340,
     "metadata": {},
     "output_type": "execute_result"
    }
   ],
   "source": [
    "outlier_index = list(train_df[\n",
    "    (train_df.SibSp > 6) | (train_df.Parch > 6) | (train_df.Fare > 300)\n",
    "].index)\n",
    "\n",
    "train_df.drop(outlier_index, axis=0, inplace=True)\n",
    "outlier_index"
   ]
  },
  {
   "cell_type": "code",
   "execution_count": 341,
   "metadata": {
    "collapsed": true
   },
   "outputs": [],
   "source": [
    "full_df = pd.concat([train_df, test_df], axis=0, ignore_index=True)"
   ]
  },
  {
   "cell_type": "code",
   "execution_count": 342,
   "metadata": {},
   "outputs": [
    {
     "name": "stdout",
     "output_type": "stream",
     "text": [
      "<class 'pandas.core.frame.DataFrame'>\n",
      "RangeIndex: 1299 entries, 0 to 1298\n",
      "Data columns (total 12 columns):\n",
      "Age            1043 non-null float64\n",
      "Cabin          293 non-null object\n",
      "Embarked       1297 non-null object\n",
      "Fare           1298 non-null float64\n",
      "Name           1299 non-null object\n",
      "Parch          1299 non-null int64\n",
      "PassengerId    1299 non-null int64\n",
      "Pclass         1299 non-null int64\n",
      "Sex            1299 non-null object\n",
      "SibSp          1299 non-null int64\n",
      "Survived       881 non-null float64\n",
      "Ticket         1299 non-null object\n",
      "dtypes: float64(3), int64(4), object(5)\n",
      "memory usage: 121.9+ KB\n"
     ]
    }
   ],
   "source": [
    "full_df.info()"
   ]
  },
  {
   "cell_type": "code",
   "execution_count": 343,
   "metadata": {
    "collapsed": true
   },
   "outputs": [],
   "source": [
    "y = train_df.Survived"
   ]
  },
  {
   "cell_type": "code",
   "execution_count": 344,
   "metadata": {
    "collapsed": true
   },
   "outputs": [],
   "source": [
    "salut_map = {\n",
    "    r'.*\\sMr\\.\\s.*': 'Mr',\n",
    "    r'.*\\sMrs\\.\\s.*': 'Mrs',\n",
    "    r'.*\\sMiss\\.\\s.*': 'Miss',\n",
    "    r'.*\\sMaster\\.\\s.*': 'Master',\n",
    "    \n",
    "    # Ignore rare ones.\n",
    "#    r'.*\\sMs\\.\\s.*': 'Miss',\n",
    "#    r'.*\\sDr\\.\\s.*': 'Dr',\n",
    "#    r'.*\\sRev\\.\\s.*': 'Rev',\n",
    "#    r'.*\\sDon\\.\\s.*': 'Don',\n",
    "#    r'.*\\sMajor\\.\\s.*': 'Major',\n",
    "#    r'.*\\sMme\\.\\s.*': 'Mme',\n",
    "}\n",
    "\n",
    "def extract_salut(name: str) -> str:\n",
    "    for regex, salut in salut_map.items():\n",
    "        if re.match(regex, name):\n",
    "            return salut\n",
    "    return 'Other'"
   ]
  },
  {
   "cell_type": "code",
   "execution_count": 345,
   "metadata": {},
   "outputs": [
    {
     "data": {
      "text/html": [
       "<div>\n",
       "<style>\n",
       "    .dataframe thead tr:only-child th {\n",
       "        text-align: right;\n",
       "    }\n",
       "\n",
       "    .dataframe thead th {\n",
       "        text-align: left;\n",
       "    }\n",
       "\n",
       "    .dataframe tbody tr th {\n",
       "        vertical-align: top;\n",
       "    }\n",
       "</style>\n",
       "<table border=\"1\" class=\"dataframe\">\n",
       "  <thead>\n",
       "    <tr style=\"text-align: right;\">\n",
       "      <th></th>\n",
       "      <th>count</th>\n",
       "      <th>unique</th>\n",
       "      <th>top</th>\n",
       "      <th>freq</th>\n",
       "    </tr>\n",
       "    <tr>\n",
       "      <th>Salut</th>\n",
       "      <th></th>\n",
       "      <th></th>\n",
       "      <th></th>\n",
       "      <th></th>\n",
       "    </tr>\n",
       "  </thead>\n",
       "  <tbody>\n",
       "    <tr>\n",
       "      <th>Master</th>\n",
       "      <td>60</td>\n",
       "      <td>1</td>\n",
       "      <td>Master</td>\n",
       "      <td>60</td>\n",
       "    </tr>\n",
       "    <tr>\n",
       "      <th>Miss</th>\n",
       "      <td>256</td>\n",
       "      <td>1</td>\n",
       "      <td>Miss</td>\n",
       "      <td>256</td>\n",
       "    </tr>\n",
       "    <tr>\n",
       "      <th>Mr</th>\n",
       "      <td>752</td>\n",
       "      <td>1</td>\n",
       "      <td>Mr</td>\n",
       "      <td>752</td>\n",
       "    </tr>\n",
       "    <tr>\n",
       "      <th>Mrs</th>\n",
       "      <td>197</td>\n",
       "      <td>1</td>\n",
       "      <td>Mrs</td>\n",
       "      <td>197</td>\n",
       "    </tr>\n",
       "    <tr>\n",
       "      <th>Other</th>\n",
       "      <td>34</td>\n",
       "      <td>1</td>\n",
       "      <td>Other</td>\n",
       "      <td>34</td>\n",
       "    </tr>\n",
       "  </tbody>\n",
       "</table>\n",
       "</div>"
      ],
      "text/plain": [
       "       count unique     top freq\n",
       "Salut                           \n",
       "Master    60      1  Master   60\n",
       "Miss     256      1    Miss  256\n",
       "Mr       752      1      Mr  752\n",
       "Mrs      197      1     Mrs  197\n",
       "Other     34      1   Other   34"
      ]
     },
     "execution_count": 345,
     "metadata": {},
     "output_type": "execute_result"
    }
   ],
   "source": [
    "full_df['Salut'] = full_df.Name.map(extract_salut)\n",
    "full_df.groupby('Salut').Salut.describe()"
   ]
  },
  {
   "cell_type": "code",
   "execution_count": 346,
   "metadata": {},
   "outputs": [
    {
     "data": {
      "text/plain": [
       "Sex     Pclass  IsAlone  Salut \n",
       "female  1       0        Miss      22.0\n",
       "                         Mrs       44.5\n",
       "                         Other     48.0\n",
       "                1        Miss      32.5\n",
       "                         Mrs       55.0\n",
       "                         Other     28.5\n",
       "        2       0        Miss      13.0\n",
       "                         Mrs       29.0\n",
       "                1        Miss      28.0\n",
       "                         Mrs       32.0\n",
       "                         Other     28.0\n",
       "        3       0        Miss       9.0\n",
       "                         Mrs       30.5\n",
       "                1        Miss      22.0\n",
       "                         Mrs       38.0\n",
       "                         Other     22.0\n",
       "male    1       0        Master     6.0\n",
       "                         Mr        39.0\n",
       "                         Other     49.5\n",
       "                1        Mr        42.0\n",
       "                         Other     48.5\n",
       "        2       0        Master     2.0\n",
       "                         Mr        32.0\n",
       "                         Other     30.0\n",
       "                1        Mr        29.0\n",
       "                         Other     42.0\n",
       "        3       0        Master     6.0\n",
       "                         Mr        26.0\n",
       "                1        Master     6.0\n",
       "                         Mr        26.0\n",
       "Name: Age, dtype: float64"
      ]
     },
     "execution_count": 346,
     "metadata": {},
     "output_type": "execute_result"
    }
   ],
   "source": [
    "full_df['IsAlone'] = (full_df['SibSp'] + full_df['Parch'] == 0) * 1\n",
    "ages = full_df.groupby(['Sex', 'Pclass', 'IsAlone', 'Salut']).Age.median()\n",
    "\n",
    "# Fill NaN\n",
    "ages['female', 3, 1, 'Other'] = full_df[ (full_df.Sex=='female') & (full_df.Pclass==3) & full_df.IsAlone ].Age.median()\n",
    "ages['male', 3, 1, 'Master'] = full_df[ (full_df.Sex=='male') & (full_df.Pclass==3) & (full_df.Salut=='Master') ].Age.median()\n",
    "\n",
    "ages"
   ]
  },
  {
   "cell_type": "code",
   "execution_count": 347,
   "metadata": {},
   "outputs": [
    {
     "data": {
      "text/plain": [
       "Pclass  Embarked\n",
       "1       C           76.7292\n",
       "        Q           90.0000\n",
       "        S           52.0000\n",
       "2       C           15.3146\n",
       "        Q           12.3500\n",
       "        S           15.3750\n",
       "3       C            7.8958\n",
       "        Q            7.7500\n",
       "        S            8.0500\n",
       "Name: Fare, dtype: float64"
      ]
     },
     "execution_count": 347,
     "metadata": {},
     "output_type": "execute_result"
    }
   ],
   "source": [
    "fares = full_df.groupby(['Pclass', 'Embarked']).Fare.median()\n",
    "fares"
   ]
  },
  {
   "cell_type": "code",
   "execution_count": 398,
   "metadata": {},
   "outputs": [
    {
     "data": {
      "text/html": [
       "<div>\n",
       "<style>\n",
       "    .dataframe thead tr:only-child th {\n",
       "        text-align: right;\n",
       "    }\n",
       "\n",
       "    .dataframe thead th {\n",
       "        text-align: left;\n",
       "    }\n",
       "\n",
       "    .dataframe tbody tr th {\n",
       "        vertical-align: top;\n",
       "    }\n",
       "</style>\n",
       "<table border=\"1\" class=\"dataframe\">\n",
       "  <thead>\n",
       "    <tr style=\"text-align: right;\">\n",
       "      <th></th>\n",
       "      <th>Sex</th>\n",
       "      <th>IsAlone</th>\n",
       "      <th>AgeNull</th>\n",
       "      <th>Age</th>\n",
       "      <th>Fare</th>\n",
       "      <th>Pclass_1</th>\n",
       "      <th>Pclass_2</th>\n",
       "      <th>Pclass_3</th>\n",
       "      <th>Emb_C</th>\n",
       "      <th>Emb_S</th>\n",
       "      <th>...</th>\n",
       "      <th>Salut_Miss</th>\n",
       "      <th>Salut_Mrs</th>\n",
       "      <th>Salut_Other</th>\n",
       "      <th>Cabin_E</th>\n",
       "      <th>Cabin_D</th>\n",
       "      <th>Cabin_A</th>\n",
       "      <th>Cabin_B</th>\n",
       "      <th>Cabin_C</th>\n",
       "      <th>Ticket_STONO2</th>\n",
       "      <th>Ticket_WC</th>\n",
       "    </tr>\n",
       "  </thead>\n",
       "  <tbody>\n",
       "    <tr>\n",
       "      <th>0</th>\n",
       "      <td>0</td>\n",
       "      <td>0</td>\n",
       "      <td>False</td>\n",
       "      <td>20</td>\n",
       "      <td>2.110213</td>\n",
       "      <td>0</td>\n",
       "      <td>0</td>\n",
       "      <td>1</td>\n",
       "      <td>0</td>\n",
       "      <td>1</td>\n",
       "      <td>...</td>\n",
       "      <td>0</td>\n",
       "      <td>0</td>\n",
       "      <td>0</td>\n",
       "      <td>0</td>\n",
       "      <td>0</td>\n",
       "      <td>0</td>\n",
       "      <td>0</td>\n",
       "      <td>0</td>\n",
       "      <td>0</td>\n",
       "      <td>0</td>\n",
       "    </tr>\n",
       "    <tr>\n",
       "      <th>1</th>\n",
       "      <td>1</td>\n",
       "      <td>0</td>\n",
       "      <td>False</td>\n",
       "      <td>35</td>\n",
       "      <td>4.280593</td>\n",
       "      <td>1</td>\n",
       "      <td>0</td>\n",
       "      <td>0</td>\n",
       "      <td>1</td>\n",
       "      <td>0</td>\n",
       "      <td>...</td>\n",
       "      <td>0</td>\n",
       "      <td>1</td>\n",
       "      <td>0</td>\n",
       "      <td>0</td>\n",
       "      <td>0</td>\n",
       "      <td>0</td>\n",
       "      <td>0</td>\n",
       "      <td>1</td>\n",
       "      <td>0</td>\n",
       "      <td>0</td>\n",
       "    </tr>\n",
       "    <tr>\n",
       "      <th>2</th>\n",
       "      <td>1</td>\n",
       "      <td>1</td>\n",
       "      <td>False</td>\n",
       "      <td>25</td>\n",
       "      <td>2.188856</td>\n",
       "      <td>0</td>\n",
       "      <td>0</td>\n",
       "      <td>1</td>\n",
       "      <td>0</td>\n",
       "      <td>1</td>\n",
       "      <td>...</td>\n",
       "      <td>1</td>\n",
       "      <td>0</td>\n",
       "      <td>0</td>\n",
       "      <td>0</td>\n",
       "      <td>0</td>\n",
       "      <td>0</td>\n",
       "      <td>0</td>\n",
       "      <td>0</td>\n",
       "      <td>1</td>\n",
       "      <td>0</td>\n",
       "    </tr>\n",
       "    <tr>\n",
       "      <th>3</th>\n",
       "      <td>1</td>\n",
       "      <td>0</td>\n",
       "      <td>False</td>\n",
       "      <td>35</td>\n",
       "      <td>3.990834</td>\n",
       "      <td>1</td>\n",
       "      <td>0</td>\n",
       "      <td>0</td>\n",
       "      <td>0</td>\n",
       "      <td>1</td>\n",
       "      <td>...</td>\n",
       "      <td>0</td>\n",
       "      <td>1</td>\n",
       "      <td>0</td>\n",
       "      <td>0</td>\n",
       "      <td>0</td>\n",
       "      <td>0</td>\n",
       "      <td>0</td>\n",
       "      <td>1</td>\n",
       "      <td>0</td>\n",
       "      <td>0</td>\n",
       "    </tr>\n",
       "    <tr>\n",
       "      <th>4</th>\n",
       "      <td>0</td>\n",
       "      <td>1</td>\n",
       "      <td>False</td>\n",
       "      <td>35</td>\n",
       "      <td>2.202765</td>\n",
       "      <td>0</td>\n",
       "      <td>0</td>\n",
       "      <td>1</td>\n",
       "      <td>0</td>\n",
       "      <td>1</td>\n",
       "      <td>...</td>\n",
       "      <td>0</td>\n",
       "      <td>0</td>\n",
       "      <td>0</td>\n",
       "      <td>0</td>\n",
       "      <td>0</td>\n",
       "      <td>0</td>\n",
       "      <td>0</td>\n",
       "      <td>0</td>\n",
       "      <td>0</td>\n",
       "      <td>0</td>\n",
       "    </tr>\n",
       "  </tbody>\n",
       "</table>\n",
       "<p>5 rows × 21 columns</p>\n",
       "</div>"
      ],
      "text/plain": [
       "   Sex  IsAlone  AgeNull  Age      Fare  Pclass_1  Pclass_2  Pclass_3  Emb_C  \\\n",
       "0    0        0    False   20  2.110213         0         0         1      0   \n",
       "1    1        0    False   35  4.280593         1         0         0      1   \n",
       "2    1        1    False   25  2.188856         0         0         1      0   \n",
       "3    1        0    False   35  3.990834         1         0         0      0   \n",
       "4    0        1    False   35  2.202765         0         0         1      0   \n",
       "\n",
       "   Emb_S    ...      Salut_Miss  Salut_Mrs  Salut_Other  Cabin_E  Cabin_D  \\\n",
       "0      1    ...               0          0            0        0        0   \n",
       "1      0    ...               0          1            0        0        0   \n",
       "2      1    ...               1          0            0        0        0   \n",
       "3      1    ...               0          1            0        0        0   \n",
       "4      1    ...               0          0            0        0        0   \n",
       "\n",
       "   Cabin_A  Cabin_B  Cabin_C  Ticket_STONO2  Ticket_WC  \n",
       "0        0        0        0              0          0  \n",
       "1        0        0        1              0          0  \n",
       "2        0        0        0              1          0  \n",
       "3        0        0        1              0          0  \n",
       "4        0        0        0              0          0  \n",
       "\n",
       "[5 rows x 21 columns]"
      ]
     },
     "execution_count": 398,
     "metadata": {},
     "output_type": "execute_result"
    }
   ],
   "source": [
    "def prep(df):\n",
    "    X = pd.DataFrame((df['Sex'] == 'female') * 1)\n",
    "    df['IsAlone'] = (df['SibSp'] + df['Parch'] == 0) * 1\n",
    "    X['IsAlone'] = df['IsAlone']\n",
    "    df['Salut'] = df.Name.map(extract_salut)\n",
    "\n",
    "    X['AgeNull'] = df.Age.isnull()\n",
    "    ages_default = df.apply(lambda s: ages[s['Sex'], s['Pclass'], s['IsAlone'], s['Salut']], axis=1)\n",
    "    ages_complete = df.Age.fillna(ages_default).astype(int)\n",
    "    X['Age'] = ages_complete - (ages_complete % 5)  # Round by 5.\n",
    "    \n",
    "    df['Embarked'].fillna('S', inplace=True)\n",
    "    fares_default = df.apply(lambda s: fares[s['Pclass'], s['Embarked']], axis=1)\n",
    "    fares_complete = df.Fare.fillna(fares_default)\n",
    "    X['Fare'] = np.log(fares_complete + 1.0)\n",
    "\n",
    "    dummy1 = pd.get_dummies(df.Pclass, prefix='Pclass')\n",
    "    dummy2 = pd.get_dummies(df.Embarked, prefix='Emb')\n",
    "    dummy3 = pd.get_dummies(df.Salut, prefix='Salut')\n",
    "\n",
    "    X = pd.concat([X, dummy1, dummy2, dummy3], axis=1)\n",
    "\n",
    "    cabin_prefix =  df.Cabin.str.extract('([A-Z]).*', expand=False)\n",
    "    for prefix in ['E', 'D', 'A', 'B', 'C']:\n",
    "        X['Cabin_' + prefix] = (cabin_prefix == prefix) * 1\n",
    "\n",
    "    ticket_prefix = df.Ticket.str.extract('([A-Za-z].+) \\d+', expand=False).str.replace(r'[./_ -]', '')\n",
    "    for prefix in ['STONO2', 'WC']:\n",
    "        X['Ticket_' + prefix] = (ticket_prefix == prefix) * 1\n",
    "\n",
    "    # Drop unnecessary features.\n",
    "    for col in ['Emb_Q', 'Salut_Mr']:\n",
    "        X.drop(col, axis=1, inplace=True)\n",
    "    return X\n",
    "\n",
    "X = prep(train_df)\n",
    "X.head()"
   ]
  },
  {
   "cell_type": "code",
   "execution_count": 400,
   "metadata": {},
   "outputs": [
    {
     "name": "stdout",
     "output_type": "stream",
     "text": [
      "(0.43399408, 'Fare')\n",
      "(0.19337831, 'Age')\n",
      "(0.062210038, 'Pclass_3')\n",
      "(0.050822437, 'Sex')\n",
      "(0.028258119, 'Salut_Master')\n",
      "(0.027414594, 'Emb_C')\n",
      "(0.025938423, 'AgeNull')\n",
      "(0.021299031, 'Ticket_STONO2')\n",
      "(0.020033741, 'Cabin_E')\n",
      "(0.01982286, 'Emb_S')\n",
      "(0.016870519, 'Cabin_C')\n",
      "(0.014550823, 'Salut_Miss')\n",
      "(0.011598482, 'Salut_Mrs')\n",
      "(0.011598482, 'IsAlone')\n",
      "(0.011176718, 'Cabin_D')\n",
      "(0.010122311, 'Pclass_2')\n",
      "(0.010122311, 'Pclass_1')\n",
      "(0.0097005479, 'Ticket_WC')\n",
      "(0.0094896667, 'Cabin_A')\n",
      "(0.007380852, 'Salut_Other')\n",
      "(0.0042176298, 'Cabin_B')\n"
     ]
    }
   ],
   "source": [
    "m = XGBClassifier(\n",
    "    n_jobs=4,\n",
    "    nthread=4,\n",
    "    seed=0,\n",
    "\n",
    "    # Tuned:\n",
    "    max_depth=5,\n",
    "    reg_alpha=.03,\n",
    "    scale_pos_weight=1.2,\n",
    "    learning_rate=.05,\n",
    "    n_estimators=300,\n",
    "    max_delta_step=.3\n",
    ")\n",
    "m.fit(X, y)\n",
    "for x in reversed(sorted(zip(m.feature_importances_, X.columns.values))):\n",
    "    print(x)"
   ]
  },
  {
   "cell_type": "code",
   "execution_count": 401,
   "metadata": {},
   "outputs": [
    {
     "data": {
      "text/plain": [
       "<matplotlib.axes._subplots.AxesSubplot at 0x1147f7160>"
      ]
     },
     "execution_count": 401,
     "metadata": {},
     "output_type": "execute_result"
    },
    {
     "data": {
      "image/png": "[encoded data removed]",
      "text/plain": [
       "<matplotlib.figure.Figure at 0x1147f3ac8>"
      ]
     },
     "metadata": {},
     "output_type": "display_data"
    }
   ],
   "source": [
    "sns.heatmap(X.corr(), cmap='coolwarm')"
   ]
  },
  {
   "cell_type": "code",
   "execution_count": 402,
   "metadata": {},
   "outputs": [
    {
     "name": "stdout",
     "output_type": "stream",
     "text": [
      "Help on function __init__ in module xgboost.sklearn:\n",
      "\n",
      "__init__(self, max_depth=3, learning_rate=0.1, n_estimators=100, silent=True, objective='binary:logistic', booster='gbtree', n_jobs=1, nthread=None, gamma=0, min_child_weight=1, max_delta_step=0, subsample=1, colsample_bytree=1, colsample_bylevel=1, reg_alpha=0, reg_lambda=1, scale_pos_weight=1, base_score=0.5, random_state=0, seed=None, missing=None, **kwargs)\n",
      "    Initialize self.  See help(type(self)) for accurate signature.\n",
      "\n"
     ]
    }
   ],
   "source": [
    "help(XGBClassifier.__init__)"
   ]
  },
  {
   "cell_type": "code",
   "execution_count": 403,
   "metadata": {},
   "outputs": [
    {
     "name": "stdout",
     "output_type": "stream",
     "text": [
      "Best Params:  {'max_depth': 5, 'n_estimators': 300, 'seed': 0, 'learning_rate': 0.05, 'nthread': 4, 'max_delta_step': 0.3, 'n_jobs': 4, 'reg_alpha': 0.03, 'scale_pos_weight': 1.2}\n",
      "Best Score:  0.850170261067\n"
     ]
    }
   ],
   "source": [
    "params = {\n",
    "    # Fixed:\n",
    "    'n_jobs': [4],\n",
    "    'nthread':[4],\n",
    "    'seed': [0],\n",
    "\n",
    "    # Tuned:\n",
    "    'max_depth': [5],  # default=3\n",
    "    'reg_alpha': [.03], # default=0\n",
    "    'scale_pos_weight':[1.2], # default=1\n",
    "    'learning_rate':[0.05], # default=0.1\n",
    "    'n_estimators':[300], # default=100\n",
    "    'max_delta_step':[0.3], # default=0\n",
    "\n",
    "    # Default is good:\n",
    "    #'min_child_weight':[1],\n",
    "    #'gamma':[0],\n",
    "    #'subsample':[1],\n",
    "    #'colsample_bytree':[1],\n",
    "    #'objective':['binary:logistic'],\n",
    "}\n",
    "\n",
    "clf = GridSearchCV(XGBClassifier(), param_grid=params, cv=10, scoring='accuracy')\n",
    "clf.fit(X, y)\n",
    "\n",
    "print('Best Params: ', clf.best_params_)\n",
    "print('Best Score: ', clf.best_score_)"
   ]
  },
  {
   "cell_type": "markdown",
   "metadata": {},
   "source": [
    "# Accuracy Scores (CV=10)\n",
    "- sex only: 0.786756453423\n",
    "- sex + pclass: 0.775533108866\n",
    "- sex + pclass + isalone: 0.791245791246\n",
    "- sex + pclass + isalone + embark: 0.808080808081 (submit: 0.77990)\n",
    "- sex + pclass + isalone + embark + age: 0.81593714927\n",
    "- sex + pclass + isalone + embark + age + fare: 0.840628507295 (submit: 0.78468)\n",
    "- sex + pclass + isalone + embark + age + fare + salut [with outliers]: 0.852974186308 (submit: TBD)\n",
    "- sex + pclass + isalone + embark + age + fare + salut [drop outliers]: 0.850170261067 (submit: TBD)"
   ]
  },
  {
   "cell_type": "code",
   "execution_count": 361,
   "metadata": {
    "collapsed": true
   },
   "outputs": [],
   "source": [
    "tX = prep(test_df)\n",
    "tY = clf.predict(tX)"
   ]
  },
  {
   "cell_type": "code",
   "execution_count": 362,
   "metadata": {},
   "outputs": [
    {
     "data": {
      "text/html": [
       "<div>\n",
       "<style>\n",
       "    .dataframe thead tr:only-child th {\n",
       "        text-align: right;\n",
       "    }\n",
       "\n",
       "    .dataframe thead th {\n",
       "        text-align: left;\n",
       "    }\n",
       "\n",
       "    .dataframe tbody tr th {\n",
       "        vertical-align: top;\n",
       "    }\n",
       "</style>\n",
       "<table border=\"1\" class=\"dataframe\">\n",
       "  <thead>\n",
       "    <tr style=\"text-align: right;\">\n",
       "      <th></th>\n",
       "      <th>PassengerId</th>\n",
       "      <th>Survived</th>\n",
       "    </tr>\n",
       "  </thead>\n",
       "  <tbody>\n",
       "    <tr>\n",
       "      <th>0</th>\n",
       "      <td>892</td>\n",
       "      <td>0</td>\n",
       "    </tr>\n",
       "    <tr>\n",
       "      <th>1</th>\n",
       "      <td>893</td>\n",
       "      <td>0</td>\n",
       "    </tr>\n",
       "    <tr>\n",
       "      <th>2</th>\n",
       "      <td>894</td>\n",
       "      <td>0</td>\n",
       "    </tr>\n",
       "    <tr>\n",
       "      <th>3</th>\n",
       "      <td>895</td>\n",
       "      <td>0</td>\n",
       "    </tr>\n",
       "    <tr>\n",
       "      <th>4</th>\n",
       "      <td>896</td>\n",
       "      <td>1</td>\n",
       "    </tr>\n",
       "  </tbody>\n",
       "</table>\n",
       "</div>"
      ],
      "text/plain": [
       "   PassengerId  Survived\n",
       "0          892         0\n",
       "1          893         0\n",
       "2          894         0\n",
       "3          895         0\n",
       "4          896         1"
      ]
     },
     "execution_count": 362,
     "metadata": {},
     "output_type": "execute_result"
    }
   ],
   "source": [
    "ans = pd.DataFrame(test_df.PassengerId)\n",
    "ans['Survived'] = tY\n",
    "ans.head()"
   ]
  },
  {
   "cell_type": "code",
   "execution_count": 363,
   "metadata": {
    "collapsed": true
   },
   "outputs": [],
   "source": [
    "def answer_exists(df):\n",
    "    for csv in os.listdir():\n",
    "        if not csv.endswith('.csv'):\n",
    "            continue\n",
    "        if not csv.startswith('out'):\n",
    "            continue\n",
    "        prev_df = pd.read_csv(csv)\n",
    "        if (prev_df.Survived != ans.Survived).sum() == 0:\n",
    "            print(\"Equivalent to\", csv)\n",
    "            return True\n",
    "\n",
    "    print(\"No equivalent answer\")\n",
    "    return False"
   ]
  },
  {
   "cell_type": "code",
   "execution_count": 364,
   "metadata": {},
   "outputs": [
    {
     "name": "stdout",
     "output_type": "stream",
     "text": [
      "No equivalent answer\n",
      "New output: out-xgb16.csv\n"
     ]
    }
   ],
   "source": [
    "if not answer_exists(ans):\n",
    "  out = 'out-xgb%d.csv' % len(os.listdir())\n",
    "  ans.to_csv(out, index=False)\n",
    "  print('New output:', out)"
   ]
  },
  {
   "cell_type": "code",
   "execution_count": 332,
   "metadata": {},
   "outputs": [
    {
     "data": {
      "text/plain": [
       "['EDA.ipynb',\n",
       " 'out-xgb11.csv',\n",
       " 'out-xgb10.csv',\n",
       " 'test.csv',\n",
       " 'out-xgb12.csv',\n",
       " 'out-xgb9.csv',\n",
       " 'out-xgb13.csv',\n",
       " 'out-xgb14.csv',\n",
       " 'out-xgb15.csv',\n",
       " 'out-xgb2.csv',\n",
       " 'out-xgb1.csv',\n",
       " 'train.csv',\n",
       " '.ipynb_checkpoints',\n",
       " 'XGBoost.ipynb',\n",
       " 'notes.md',\n",
       " 'gender_submission.csv']"
      ]
     },
     "execution_count": 332,
     "metadata": {},
     "output_type": "execute_result"
    }
   ],
   "source": [
    "os.listdir()"
   ]
  },
  {
   "cell_type": "code",
   "execution_count": null,
   "metadata": {
    "collapsed": true
   },
   "outputs": [],
   "source": []
  }
 ],
 "metadata": {
  "kernelspec": {
   "display_name": "Python [conda env:anaconda]",
   "language": "python",
   "name": "conda-env-anaconda-py"
  },
  "language_info": {
   "codemirror_mode": {
    "name": "ipython",
    "version": 3
   },
   "file_extension": ".py",
   "mimetype": "text/x-python",
   "name": "python",
   "nbconvert_exporter": "python",
   "pygments_lexer": "ipython3",
   "version": "3.5.4"
  }
 },
 "nbformat": 4,
 "nbformat_minor": 2
}
