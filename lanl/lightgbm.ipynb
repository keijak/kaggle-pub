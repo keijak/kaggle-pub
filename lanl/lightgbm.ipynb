{
 "cells": [
  {
   "cell_type": "code",
   "execution_count": 7,
   "metadata": {},
   "outputs": [],
   "source": [
    "import gc\n",
    "import os\n",
    "from pathlib import Path\n",
    "\n",
    "import numpy as np\n",
    "import pandas as pd\n",
    "from tqdm import tqdm_note\n",
    "\n",
    "data_dir = Path.home() / 'Desktop/kaggle/data/lanl'\n",
    "os.environ['DATA_DIR'] = str(data_dir)"
   ]
  },
  {
   "cell_type": "code",
   "execution_count": 15,
   "metadata": {},
   "outputs": [
    {
     "name": "stdout",
     "output_type": "stream",
     "text": [
      "total 5.8G\r\n",
      "-rw-r----- 1 maekawa primarygroup 3.6G Feb  8 21:07 df_train.pickle\r\n",
      "-rw-r----- 1 maekawa primarygroup  34K Feb  8 20:51 sample_submission.csv\r\n",
      "-rw-r----- 1 maekawa primarygroup 242M Feb  8 20:51 test.zip\r\n",
      "-rw-r----- 1 maekawa primarygroup 2.1G Feb  8 20:51 train.csv.zip\r\n"
     ]
    }
   ],
   "source": [
    "!ls -lh $DATA_DIR"
   ]
  },
  {
   "cell_type": "code",
   "execution_count": 11,
   "metadata": {},
   "outputs": [],
   "source": [
    "df_train = pd.read_csv(\n",
    "    data_dir / 'train.csv.zip',\n",
    "    dtype={'acoustic_data': np.int16,\n",
    "           'time_to_failure': np.float32})"
   ]
  },
  {
   "cell_type": "code",
   "execution_count": 14,
   "metadata": {},
   "outputs": [],
   "source": [
    "df_train.to_pickle(data_dir / 'df_train.pickle')"
   ]
  },
  {
   "cell_type": "code",
   "execution_count": null,
   "metadata": {},
   "outputs": [],
   "source": []
  }
 ],
 "metadata": {
  "kernelspec": {
   "display_name": "Python 3",
   "language": "python",
   "name": "python3"
  },
  "language_info": {
   "codemirror_mode": {
    "name": "ipython",
    "version": 3
   },
   "file_extension": ".py",
   "mimetype": "text/x-python",
   "name": "python",
   "nbconvert_exporter": "python",
   "pygments_lexer": "ipython3",
   "version": "3.5.4rc1"
  }
 },
 "nbformat": 4,
 "nbformat_minor": 2
}
